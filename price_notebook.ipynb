{
 "cells": [
  {
   "cell_type": "code",
   "execution_count": 1,
   "id": "8d43239d-0a82-4ef0-85fb-7e1c0850b598",
   "metadata": {},
   "outputs": [],
   "source": [
    "#https://www.bestgameprice.net\n",
    "import csv\n",
    "from datetime import datetime\n",
    "import requests\n",
    "from bs4 import BeautifulSoup"
   ]
  },
  {
   "cell_type": "code",
   "execution_count": 2,
   "id": "6382dea8-d89c-4b5b-bf0d-b3932b0ab039",
   "metadata": {},
   "outputs": [],
   "source": [
    "#https://www.bestgameprice.net/search?q=madden\n",
    "#template = 'https://www.indeed.com/jobs?q={}&locString={}'\n",
    "template = 'https://www.bestgameprice.net/search?q={}'"
   ]
  },
  {
   "cell_type": "code",
   "execution_count": 7,
   "id": "02afbec5-4e67-4630-9514-5b7b7d6e44cb",
   "metadata": {},
   "outputs": [],
   "source": [
    "def get_url(title):\n",
    "    \"\"\" Generate a url\"\"\"\n",
    "    template = 'https://www.bestgameprice.net/search?q={}'\n",
    "    url = template.format(title)\n",
    "    return url"
   ]
  },
  {
   "cell_type": "code",
   "execution_count": 8,
   "id": "2fec8ed1-dc5e-4444-83e7-508336a51b6c",
   "metadata": {},
   "outputs": [],
   "source": [
    "url = get_url('madden')"
   ]
  },
  {
   "cell_type": "code",
   "execution_count": 9,
   "id": "2ce0e6ce-52f2-41d2-8298-243d449b9c17",
   "metadata": {},
   "outputs": [],
   "source": [
    "response = requests.get(url)"
   ]
  },
  {
   "cell_type": "code",
   "execution_count": 10,
   "id": "39e5ad77-0d5d-45e6-a8b0-032b7aba3035",
   "metadata": {},
   "outputs": [
    {
     "data": {
      "text/plain": [
       "<Response [200]>"
      ]
     },
     "execution_count": 10,
     "metadata": {},
     "output_type": "execute_result"
    }
   ],
   "source": [
    "response"
   ]
  },
  {
   "cell_type": "code",
   "execution_count": 11,
   "id": "712b19f4-ebb7-4e6d-9e26-a8eb1c3707a7",
   "metadata": {},
   "outputs": [],
   "source": [
    "soup = BeautifulSoup(response.text, 'html.parser')"
   ]
  },
  {
   "cell_type": "code",
   "execution_count": null,
   "id": "b00f1157-7798-4cac-af77-92445ec1c4c7",
   "metadata": {},
   "outputs": [],
   "source": []
  },
  {
   "cell_type": "code",
   "execution_count": 20,
   "id": "19aa4ba5-f2e4-4e0e-b898-770e87d087d8",
   "metadata": {},
   "outputs": [],
   "source": [
    "prices = soup.find_all('div', class_ = 'GameBoxHorizontal_gamePriceContainer__8lyyz')"
   ]
  },
  {
   "cell_type": "code",
   "execution_count": 21,
   "id": "527087c8-9949-4551-ba70-8d66d022d01d",
   "metadata": {},
   "outputs": [
    {
     "data": {
      "text/plain": [
       "[<div class=\"GameBoxHorizontal_gamePriceContainer__8lyyz\"><div class=\"GameBoxHorizontal_gamePrice__W_Nho\"><span class=\"GameBoxHorizontal_gamePriceCurrency__LrYPU\">€</span>69,99</div><div class=\"GameBoxHorizontal_gamePriceFrom__DD3CD\">from</div></div>,\n",
       " <div class=\"GameBoxHorizontal_gamePriceContainer__8lyyz\"><div class=\"GameBoxHorizontal_gamePrice__W_Nho\"></div></div>,\n",
       " <div class=\"GameBoxHorizontal_gamePriceContainer__8lyyz\"><div class=\"GameBoxHorizontal_gamePrice__W_Nho\"><span class=\"GameBoxHorizontal_gamePriceCurrency__LrYPU\">€</span>59,99</div><div class=\"GameBoxHorizontal_gamePriceFrom__DD3CD\">from</div></div>,\n",
       " <div class=\"GameBoxHorizontal_gamePriceContainer__8lyyz\"><div class=\"GameBoxHorizontal_gamePrice__W_Nho\"></div></div>,\n",
       " <div class=\"GameBoxHorizontal_gamePriceContainer__8lyyz\"><div class=\"GameBoxHorizontal_gamePrice__W_Nho\"><span class=\"GameBoxHorizontal_gamePriceCurrency__LrYPU\">€</span>69,99</div><div class=\"GameBoxHorizontal_gamePriceFrom__DD3CD\">from</div></div>,\n",
       " <div class=\"GameBoxHorizontal_gamePriceContainer__8lyyz\"><div class=\"GameBoxHorizontal_gamePrice__W_Nho\"><span class=\"GameBoxHorizontal_gamePriceCurrency__LrYPU\">€</span>10,79</div><div class=\"GameBoxHorizontal_gamePriceFrom__DD3CD\">from</div></div>,\n",
       " <div class=\"GameBoxHorizontal_gamePriceContainer__8lyyz\"><div class=\"GameBoxHorizontal_gamePrice__W_Nho\"><span class=\"GameBoxHorizontal_gamePriceCurrency__LrYPU\">€</span>53,99</div><div class=\"GameBoxHorizontal_gamePriceFrom__DD3CD\">from</div></div>,\n",
       " <div class=\"GameBoxHorizontal_gamePriceContainer__8lyyz\"><div class=\"GameBoxHorizontal_gamePrice__W_Nho\"><span class=\"GameBoxHorizontal_gamePriceCurrency__LrYPU\">€</span>8,19</div><div class=\"GameBoxHorizontal_gamePriceFrom__DD3CD\">from</div></div>,\n",
       " <div class=\"GameBoxHorizontal_gamePriceContainer__8lyyz\"><div class=\"GameBoxHorizontal_gamePrice__W_Nho\"><span class=\"GameBoxHorizontal_gamePriceCurrency__LrYPU\">€</span>59,99</div><div class=\"GameBoxHorizontal_gamePriceFrom__DD3CD\">from</div></div>,\n",
       " <div class=\"GameBoxHorizontal_gamePriceContainer__8lyyz\"><div class=\"GameBoxHorizontal_gamePrice__W_Nho\"></div></div>,\n",
       " <div class=\"GameBoxHorizontal_gamePriceContainer__8lyyz\"><div class=\"GameBoxHorizontal_gamePrice__W_Nho\"><span class=\"GameBoxHorizontal_gamePriceCurrency__LrYPU\">€</span>33,89</div><div class=\"GameBoxHorizontal_gamePriceFrom__DD3CD\">from</div></div>,\n",
       " <div class=\"GameBoxHorizontal_gamePriceContainer__8lyyz\"><div class=\"GameBoxHorizontal_gamePrice__W_Nho\"><span class=\"GameBoxHorizontal_gamePriceCurrency__LrYPU\">€</span>12,00</div><div class=\"GameBoxHorizontal_gamePriceFrom__DD3CD\">from</div></div>,\n",
       " <div class=\"GameBoxHorizontal_gamePriceContainer__8lyyz\"><div class=\"GameBoxHorizontal_gamePrice__W_Nho\"><span class=\"GameBoxHorizontal_gamePriceCurrency__LrYPU\">€</span>9,99</div><div class=\"GameBoxHorizontal_gamePriceFrom__DD3CD\">from</div></div>,\n",
       " <div class=\"GameBoxHorizontal_gamePriceContainer__8lyyz\"><div class=\"GameBoxHorizontal_gamePrice__W_Nho\"><span class=\"GameBoxHorizontal_gamePriceCurrency__LrYPU\">€</span>24,99</div><div class=\"GameBoxHorizontal_gamePriceFrom__DD3CD\">from</div></div>,\n",
       " <div class=\"GameBoxHorizontal_gamePriceContainer__8lyyz\"><div class=\"GameBoxHorizontal_gamePrice__W_Nho\"><span class=\"GameBoxHorizontal_gamePriceCurrency__LrYPU\">€</span>9,99</div><div class=\"GameBoxHorizontal_gamePriceFrom__DD3CD\">from</div></div>,\n",
       " <div class=\"GameBoxHorizontal_gamePriceContainer__8lyyz\"><div class=\"GameBoxHorizontal_gamePrice__W_Nho\"></div></div>,\n",
       " <div class=\"GameBoxHorizontal_gamePriceContainer__8lyyz\"><div class=\"GameBoxHorizontal_gamePrice__W_Nho\"><span class=\"GameBoxHorizontal_gamePriceCurrency__LrYPU\">€</span>2,99</div><div class=\"GameBoxHorizontal_gamePriceFrom__DD3CD\">from</div></div>]"
      ]
     },
     "execution_count": 21,
     "metadata": {},
     "output_type": "execute_result"
    }
   ],
   "source": [
    "prices"
   ]
  },
  {
   "cell_type": "code",
   "execution_count": 22,
   "id": "287e4d8b-e1b1-46e7-9f4c-ee70b2f99221",
   "metadata": {},
   "outputs": [],
   "source": [
    "price = prices[0]"
   ]
  },
  {
   "cell_type": "code",
   "execution_count": 25,
   "id": "7285d7a8-1a32-4218-a38a-8873f11ead17",
   "metadata": {},
   "outputs": [
    {
     "data": {
      "text/plain": [
       "'€69,99from'"
      ]
     },
     "execution_count": 25,
     "metadata": {},
     "output_type": "execute_result"
    }
   ],
   "source": [
    "price.text.strip()"
   ]
  },
  {
   "cell_type": "code",
   "execution_count": 26,
   "id": "c95563ba-7169-4832-84d1-4119209a96b5",
   "metadata": {},
   "outputs": [
    {
     "name": "stdout",
     "output_type": "stream",
     "text": [
      "€69,99\n"
     ]
    }
   ],
   "source": [
    "cleaned_price = price.text.strip().replace('from', '')\n",
    "print(cleaned_price)"
   ]
  },
  {
   "cell_type": "code",
   "execution_count": null,
   "id": "aa10ce1f-1cdc-4b25-bafc-d5c4f8ae4f20",
   "metadata": {},
   "outputs": [],
   "source": [
    "#Flower\n",
    "#Ghost Trick: Phantom Detective\n",
    "#The Book of Unwritten Tales\n",
    "#Prince of Persia Classic"
   ]
  },
  {
   "cell_type": "code",
   "execution_count": null,
   "id": "f6f85caf-4dec-4fe8-99f3-fd421ac2ae71",
   "metadata": {},
   "outputs": [],
   "source": []
  },
  {
   "cell_type": "code",
   "execution_count": null,
   "id": "514ef34c-dd87-4180-a18b-5d06879c9361",
   "metadata": {},
   "outputs": [],
   "source": []
  }
 ],
 "metadata": {
  "kernelspec": {
   "display_name": "Python 3 (ipykernel)",
   "language": "python",
   "name": "python3"
  },
  "language_info": {
   "codemirror_mode": {
    "name": "ipython",
    "version": 3
   },
   "file_extension": ".py",
   "mimetype": "text/x-python",
   "name": "python",
   "nbconvert_exporter": "python",
   "pygments_lexer": "ipython3",
   "version": "3.12.7"
  }
 },
 "nbformat": 4,
 "nbformat_minor": 5
}
