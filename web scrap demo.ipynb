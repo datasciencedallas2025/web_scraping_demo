{
 "cells": [
  {
   "cell_type": "code",
   "execution_count": 1,
   "id": "1d9701a9-c0fa-418a-aee9-2ba45913af41",
   "metadata": {},
   "outputs": [
    {
     "name": "stdout",
     "output_type": "stream",
     "text": [
      "Requirement already satisfied: beautifulsoup4 in /Applications/anaconda3/lib/python3.12/site-packages (4.12.3)\n",
      "Requirement already satisfied: requests in /Applications/anaconda3/lib/python3.12/site-packages (2.32.3)\n",
      "Requirement already satisfied: soupsieve>1.2 in /Applications/anaconda3/lib/python3.12/site-packages (from beautifulsoup4) (2.5)\n",
      "Requirement already satisfied: charset-normalizer<4,>=2 in /Applications/anaconda3/lib/python3.12/site-packages (from requests) (3.3.2)\n",
      "Requirement already satisfied: idna<4,>=2.5 in /Applications/anaconda3/lib/python3.12/site-packages (from requests) (3.7)\n",
      "Requirement already satisfied: urllib3<3,>=1.21.1 in /Applications/anaconda3/lib/python3.12/site-packages (from requests) (2.2.3)\n",
      "Requirement already satisfied: certifi>=2017.4.17 in /Applications/anaconda3/lib/python3.12/site-packages (from requests) (2024.8.30)\n"
     ]
    }
   ],
   "source": [
    "#!pip install beautifulsoup4 requests"
   ]
  },
  {
   "cell_type": "code",
   "execution_count": 20,
   "id": "438cd1fe-887b-4ba4-866c-0c27249be02c",
   "metadata": {},
   "outputs": [
    {
     "name": "stdout",
     "output_type": "stream",
     "text": [
      "Requirement already satisfied: httpx in /Applications/anaconda3/lib/python3.12/site-packages (0.27.0)\n",
      "Requirement already satisfied: anyio in /Applications/anaconda3/lib/python3.12/site-packages (from httpx) (4.2.0)\n",
      "Requirement already satisfied: certifi in /Applications/anaconda3/lib/python3.12/site-packages (from httpx) (2024.8.30)\n",
      "Requirement already satisfied: httpcore==1.* in /Applications/anaconda3/lib/python3.12/site-packages (from httpx) (1.0.2)\n",
      "Requirement already satisfied: idna in /Applications/anaconda3/lib/python3.12/site-packages (from httpx) (3.7)\n",
      "Requirement already satisfied: sniffio in /Applications/anaconda3/lib/python3.12/site-packages (from httpx) (1.3.0)\n",
      "Requirement already satisfied: h11<0.15,>=0.13 in /Applications/anaconda3/lib/python3.12/site-packages (from httpcore==1.*->httpx) (0.14.0)\n"
     ]
    }
   ],
   "source": [
    "!pip install httpx"
   ]
  },
  {
   "cell_type": "code",
   "execution_count": 22,
   "id": "c229e563-5e66-403d-af92-6848109f814e",
   "metadata": {},
   "outputs": [
    {
     "name": "stdout",
     "output_type": "stream",
     "text": [
      "Collecting selenium\n",
      "  Downloading selenium-4.31.0-py3-none-any.whl.metadata (7.5 kB)\n",
      "Requirement already satisfied: urllib3<3,>=1.26 in /Applications/anaconda3/lib/python3.12/site-packages (from urllib3[socks]<3,>=1.26->selenium) (2.2.3)\n",
      "Collecting trio~=0.17 (from selenium)\n",
      "  Downloading trio-0.29.0-py3-none-any.whl.metadata (8.5 kB)\n",
      "Collecting trio-websocket~=0.9 (from selenium)\n",
      "  Downloading trio_websocket-0.12.2-py3-none-any.whl.metadata (5.1 kB)\n",
      "Requirement already satisfied: certifi>=2021.10.8 in /Applications/anaconda3/lib/python3.12/site-packages (from selenium) (2024.8.30)\n",
      "Requirement already satisfied: typing_extensions~=4.9 in /Applications/anaconda3/lib/python3.12/site-packages (from selenium) (4.11.0)\n",
      "Requirement already satisfied: websocket-client~=1.8 in /Applications/anaconda3/lib/python3.12/site-packages (from selenium) (1.8.0)\n",
      "Collecting attrs>=23.2.0 (from trio~=0.17->selenium)\n",
      "  Downloading attrs-25.3.0-py3-none-any.whl.metadata (10 kB)\n",
      "Requirement already satisfied: sortedcontainers in /Applications/anaconda3/lib/python3.12/site-packages (from trio~=0.17->selenium) (2.4.0)\n",
      "Requirement already satisfied: idna in /Applications/anaconda3/lib/python3.12/site-packages (from trio~=0.17->selenium) (3.7)\n",
      "Collecting outcome (from trio~=0.17->selenium)\n",
      "  Downloading outcome-1.3.0.post0-py2.py3-none-any.whl.metadata (2.6 kB)\n",
      "Requirement already satisfied: sniffio>=1.3.0 in /Applications/anaconda3/lib/python3.12/site-packages (from trio~=0.17->selenium) (1.3.0)\n",
      "Collecting wsproto>=0.14 (from trio-websocket~=0.9->selenium)\n",
      "  Downloading wsproto-1.2.0-py3-none-any.whl.metadata (5.6 kB)\n",
      "Requirement already satisfied: pysocks!=1.5.7,<2.0,>=1.5.6 in /Applications/anaconda3/lib/python3.12/site-packages (from urllib3[socks]<3,>=1.26->selenium) (1.7.1)\n",
      "Requirement already satisfied: h11<1,>=0.9.0 in /Applications/anaconda3/lib/python3.12/site-packages (from wsproto>=0.14->trio-websocket~=0.9->selenium) (0.14.0)\n",
      "Downloading selenium-4.31.0-py3-none-any.whl (9.4 MB)\n",
      "\u001b[2K   \u001b[90m━━━━━━━━━━━━━━━━━━━━━━━━━━━━━━━━━━━━━━━━\u001b[0m \u001b[32m9.4/9.4 MB\u001b[0m \u001b[31m22.8 MB/s\u001b[0m eta \u001b[36m0:00:00\u001b[0ma \u001b[36m0:00:01\u001b[0m\n",
      "\u001b[?25hDownloading trio-0.29.0-py3-none-any.whl (492 kB)\n",
      "Downloading trio_websocket-0.12.2-py3-none-any.whl (21 kB)\n",
      "Downloading attrs-25.3.0-py3-none-any.whl (63 kB)\n",
      "Downloading outcome-1.3.0.post0-py2.py3-none-any.whl (10 kB)\n",
      "Downloading wsproto-1.2.0-py3-none-any.whl (24 kB)\n",
      "Installing collected packages: wsproto, attrs, outcome, trio, trio-websocket, selenium\n",
      "  Attempting uninstall: attrs\n",
      "    Found existing installation: attrs 23.1.0\n",
      "    Uninstalling attrs-23.1.0:\n",
      "      Successfully uninstalled attrs-23.1.0\n",
      "Successfully installed attrs-25.3.0 outcome-1.3.0.post0 selenium-4.31.0 trio-0.29.0 trio-websocket-0.12.2 wsproto-1.2.0\n"
     ]
    }
   ],
   "source": [
    "!pip install selenium"
   ]
  },
  {
   "cell_type": "code",
   "execution_count": 23,
   "id": "79edb0cd-8dbd-4210-b150-6324c666bc57",
   "metadata": {},
   "outputs": [],
   "source": [
    "import csv\n",
    "from datetime import datetime\n",
    "import requests\n",
    "from bs4 import BeautifulSoup\n",
    "import time"
   ]
  },
  {
   "cell_type": "code",
   "execution_count": 14,
   "id": "735200f8-4fc0-4582-bd2b-55dc75361e9a",
   "metadata": {},
   "outputs": [],
   "source": [
    "#job title, company post date, job summary, salary range, 15 results per page\n",
    "\n",
    "template = 'https://www.indeed.com/jobs?q={}&locString={}'"
   ]
  },
  {
   "cell_type": "code",
   "execution_count": 15,
   "id": "8432b719-6344-4490-b55e-55464c8c273c",
   "metadata": {},
   "outputs": [],
   "source": [
    "def get_url(position, location):\n",
    "    \"\"\" Generate a url from position and location\"\"\"\n",
    "    template = 'https://www.indeed.com/jobs?q={}&locString={}'\n",
    "    url = template.format(position, location)\n",
    "    return url"
   ]
  },
  {
   "cell_type": "code",
   "execution_count": 16,
   "id": "c564bb85-cef4-4bb4-9c0b-f8b93d391441",
   "metadata": {},
   "outputs": [],
   "source": [
    "url = get_url('data science', 'dallas tx')"
   ]
  },
  {
   "cell_type": "code",
   "execution_count": 17,
   "id": "13199cc9-4f7b-4bcb-b00c-f57646b45f1f",
   "metadata": {},
   "outputs": [],
   "source": [
    "response = requests.get(url)"
   ]
  },
  {
   "cell_type": "code",
   "execution_count": 18,
   "id": "7870b58f-2724-47c7-89f1-b8115a0d477a",
   "metadata": {},
   "outputs": [
    {
     "data": {
      "text/plain": [
       "<Response [403]>"
      ]
     },
     "execution_count": 18,
     "metadata": {},
     "output_type": "execute_result"
    }
   ],
   "source": [
    "response"
   ]
  },
  {
   "cell_type": "code",
   "execution_count": 19,
   "id": "1d1b6e38-be2c-4923-833a-65566b640ebf",
   "metadata": {},
   "outputs": [
    {
     "name": "stdout",
     "output_type": "stream",
     "text": [
      "<Response [403]>\n"
     ]
    }
   ],
   "source": [
    "import csv\n",
    "from datetime import datetime\n",
    "import requests\n",
    "from bs4 import BeautifulSoup\n",
    "\n",
    "def get_url(position, location):\n",
    "    \"\"\" Generate a url from position and location\"\"\"\n",
    "    template = 'https://www.indeed.com/jobs?q={}&l={}'\n",
    "    url = template.format(position.replace(' ', '+'), location.replace(' ', '+'))\n",
    "    return url\n",
    "\n",
    "headers = {\n",
    "    \"User-Agent\": \"Mozilla/5.0 (Windows NT 10.0; Win64; x64) AppleWebKit/537.36 (KHTML, like Gecko) Chrome/123.0.0.0 Safari/537.36\"\n",
    "}\n",
    "\n",
    "url = get_url('data science', 'dallas tx')\n",
    "response = requests.get(url, headers=headers)\n",
    "\n",
    "print(response)  # Should now be <Response [200]>\n"
   ]
  },
  {
   "cell_type": "code",
   "execution_count": 26,
   "id": "e5bff6a3-7a9d-4d57-ae93-2f0342562dc0",
   "metadata": {},
   "outputs": [
    {
     "name": "stdout",
     "output_type": "stream",
     "text": [
      "403\n"
     ]
    }
   ],
   "source": [
    "import httpx\n",
    "\n",
    "headers = {\n",
    "    \"User-Agent\": \"Mozilla/5.0 (Windows NT 10.0; Win64; x64) AppleWebKit/537.36 (KHTML, like Gecko) Chrome/123.0.0.0 Safari/537.36\"\n",
    "}\n",
    "\n",
    "url = 'https://www.indeed.com/jobs?q=data+science&l=dallas+tx'\n",
    "\n",
    "with httpx.Client(follow_redirects=True, headers=headers, timeout=10.0) as client:\n",
    "    response = client.get(url)\n",
    "\n",
    "print(response.status_code)  # Should be 200\n"
   ]
  },
  {
   "cell_type": "code",
   "execution_count": 25,
   "id": "ce5226dc-88c5-496d-b60c-8bfe70ee75a8",
   "metadata": {},
   "outputs": [
    {
     "name": "stdout",
     "output_type": "stream",
     "text": [
      "<html lang=\"en\"><head><meta charset=\"utf-8\"><title>Blocked - Indeed.com</title><meta name=\"viewport\" content=\"width=device-width, initial-scale=1\"><style>:root{color-scheme:light dark;--background-color:#fff;--primary-1000:#0d2d5e;--primary-900:#164081;--primary-800:#2557a7;--primary-700:#3f73d3;--primary-600:#6792f0;--neutral-1000:#2d2d2d;--neutral-900:#424242;--neutral-400:#d4d2d0;--dark-1000:#040606;--link-color:var(--primary-800);--link-color-hover:var(--primary-900);--menu-background-color:#fff;--text-color:var(--neutral-1000);--text-color-hover:var(--neutral-900);--default-transition:cubic-bezier(.645,.045,.355,1);--menu-transition:.28s all .12s ease-out;--font-family:\"Noto Sans\",system-ui,-apple-system,BlinkMacSystemFont,\"Helvetica Neue\",Arial,sans-serif;--icon-profile:url(\"data:image/svg+xml,%3Csvg width='18' height='18' viewBox='0 0 18 18' fill='none' xmlns='http://www.w3.org/2000/svg'%3E%3Cpath d='M9 9C11.4862 9 13.5 6.98625 13.5 4.5C13.5 2.01375 11.4862 0 9 0C6.51375 0 4.5 2\n"
     ]
    }
   ],
   "source": [
    "from selenium import webdriver\n",
    "from selenium.webdriver.common.by import By\n",
    "from selenium.webdriver.chrome.service import Service\n",
    "from selenium.webdriver.chrome.options import Options\n",
    "import time\n",
    "\n",
    "options = Options()\n",
    "options.add_argument(\"--headless\")  # Run in background\n",
    "options.add_argument(\"--disable-blink-features=AutomationControlled\")\n",
    "\n",
    "driver = webdriver.Chrome(options=options)\n",
    "url = 'https://www.indeed.com/jobs?q=data+science&l=dallas+tx'\n",
    "driver.get(url)\n",
    "\n",
    "time.sleep(3)  # Let page load\n",
    "\n",
    "print(driver.page_source[:1000])  # Preview of HTML\n",
    "driver.quit()\n"
   ]
  },
  {
   "cell_type": "code",
   "execution_count": 27,
   "id": "f8a84dc6-d9ba-45c0-97b7-7e3cc70c3723",
   "metadata": {},
   "outputs": [
    {
     "name": "stdout",
     "output_type": "stream",
     "text": [
      "<html lang=\"en\"><head><meta charset=\"utf-8\"><title>Blocked - Indeed.com</title><meta name=\"viewport\" content=\"width=device-width, initial-scale=1\"><style>:root{color-scheme:light dark;--background-color:#fff;--primary-1000:#0d2d5e;--primary-900:#164081;--primary-800:#2557a7;--primary-700:#3f73d3;--primary-600:#6792f0;--neutral-1000:#2d2d2d;--neutral-900:#424242;--neutral-400:#d4d2d0;--dark-1000:#040606;--link-color:var(--primary-800);--link-color-hover:var(--primary-900);--menu-background-color:#fff;--text-color:var(--neutral-1000);--text-color-hover:var(--neutral-900);--default-transition:cubic-bezier(.645,.045,.355,1);--menu-transition:.28s all .12s ease-out;--font-family:\"Noto Sans\",system-ui,-apple-system,BlinkMacSystemFont,\"Helvetica Neue\",Arial,sans-serif;--icon-profile:url(\"data:image/svg+xml,%3Csvg width='18' height='18' viewBox='0 0 18 18' fill='none' xmlns='http://www.w3.org/2000/svg'%3E%3Cpath d='M9 9C11.4862 9 13.5 6.98625 13.5 4.5C13.5 2.01375 11.4862 0 9 0C6.51375 0 4.5 2\n"
     ]
    }
   ],
   "source": [
    "from selenium import webdriver\n",
    "from selenium.webdriver.chrome.options import Options\n",
    "import time\n",
    "\n",
    "options = Options()\n",
    "options.add_argument(\"--headless\")  # Remove this line to see the browser\n",
    "options.add_argument(\"--disable-blink-features=AutomationControlled\")\n",
    "\n",
    "driver = webdriver.Chrome(options=options)\n",
    "driver.get(\"https://www.indeed.com/jobs?q=data+science&l=dallas+tx\")\n",
    "\n",
    "time.sleep(3)  # wait for the page to load\n",
    "\n",
    "print(driver.page_source[:1000])  # print first 1000 characters of HTML\n",
    "\n",
    "driver.quit()\n"
   ]
  },
  {
   "cell_type": "code",
   "execution_count": 28,
   "id": "d932cadd-c17c-4e9b-8897-321dd1afeb36",
   "metadata": {},
   "outputs": [],
   "source": [
    "#https://www.monster.com/jobs/search?q=Data+Science&where=Dallas%2C+texas&page=1&so=m.s.sh\n",
    "\n",
    "#https://www.monster.com/jobs/search?q={}&where={}\n",
    "\n",
    "def get_url(position, location):\n",
    "    \"\"\" Generate a url from position and location\"\"\"\n",
    "    template = 'https://www.monster.com/jobs/search?q={}&where={}'\n",
    "    url = template.format(position, location)\n",
    "    return url"
   ]
  },
  {
   "cell_type": "code",
   "execution_count": 29,
   "id": "1aca4760-00dd-4c82-9199-32b5a9e813e8",
   "metadata": {},
   "outputs": [],
   "source": [
    "url = get_url('data science', 'dallas tx')"
   ]
  },
  {
   "cell_type": "code",
   "execution_count": 30,
   "id": "ec940153-e7f6-48ae-8820-4826def962f3",
   "metadata": {},
   "outputs": [],
   "source": [
    "response = requests.get(url)"
   ]
  },
  {
   "cell_type": "code",
   "execution_count": 31,
   "id": "8244382b-4d55-4ecf-bc5c-44e049583b0b",
   "metadata": {},
   "outputs": [
    {
     "data": {
      "text/plain": [
       "<Response [403]>"
      ]
     },
     "execution_count": 31,
     "metadata": {},
     "output_type": "execute_result"
    }
   ],
   "source": [
    "response"
   ]
  },
  {
   "cell_type": "code",
   "execution_count": 32,
   "id": "218aefab-500e-41b2-bbef-ae6aabb70295",
   "metadata": {},
   "outputs": [
    {
     "name": "stdout",
     "output_type": "stream",
     "text": [
      "<Response [403]>\n"
     ]
    }
   ],
   "source": [
    "import csv\n",
    "from datetime import datetime\n",
    "import requests\n",
    "from bs4 import BeautifulSoup\n",
    "\n",
    "def get_url(position, location):\n",
    "    \"\"\" Generate a url from position and location\"\"\"\n",
    "    template = 'https://www.monster.com/jobs/search?q={}&where={}'\n",
    "    url = template.format(position.replace(' ', '+'), location.replace(' ', '+'))\n",
    "    return url\n",
    "\n",
    "headers = {\n",
    "    \"User-Agent\": \"Mozilla/5.0 (Windows NT 10.0; Win64; x64) AppleWebKit/537.36 (KHTML, like Gecko) Chrome/123.0.0.0 Safari/537.36\"\n",
    "}\n",
    "\n",
    "url = get_url('data science', 'dallas tx')\n",
    "response = requests.get(url, headers=headers)\n",
    "\n",
    "print(response)  # Should now be <Response [200]>"
   ]
  },
  {
   "cell_type": "code",
   "execution_count": 33,
   "id": "edfb325a-a6a5-490e-a55c-364a55345e22",
   "metadata": {},
   "outputs": [
    {
     "name": "stdout",
     "output_type": "stream",
     "text": [
      "403\n"
     ]
    }
   ],
   "source": [
    "import httpx\n",
    "\n",
    "headers = {\n",
    "    \"User-Agent\": \"Mozilla/5.0 (Windows NT 10.0; Win64; x64) AppleWebKit/537.36 (KHTML, like Gecko) Chrome/123.0.0.0 Safari/537.36\"\n",
    "}\n",
    "\n",
    "url = 'https://www.monster.com/jobs/search?q=Data+Science&where=Dallas%2C+texas'\n",
    "\n",
    "with httpx.Client(follow_redirects=True, headers=headers, timeout=10.0) as client:\n",
    "    response = client.get(url)\n",
    "\n",
    "print(response.status_code)  # Should be 200"
   ]
  },
  {
   "cell_type": "code",
   "execution_count": 94,
   "id": "3d7c4c29-f8f5-4171-b785-61e59a03d7a8",
   "metadata": {},
   "outputs": [],
   "source": [
    "#https://utdallas.joinhandshake.com/stu/postings?page=1&per_page=25&sort_direction=desc&sort_column=default&query=data%20analyst&locations%5B%5D%5Blabel%5D=Dallas%2C%20TX&locations%5B%5D%5Bname%5D=Dallas%2C%20TX&locations%5B%5D%5Bdistance%5D=50mi&locations%5B%5D%5Bpoint%5D=32.776664%2C%20-96.796988&locations%5B%5D%5Blatitude%5D=32.776664&locations%5B%5D%5Blongitude%5D=-96.796988\n",
    "\n",
    "#https://utdallas.joinhandshake.com/stu/postings?query={}&locations%5B%5D%5Blabel%5D={}\n",
    "\n",
    "def get_url(position, location):\n",
    "    \"\"\" Generate a url from position and location\"\"\"\n",
    "    template = 'https://utdallas.joinhandshake.com/stu/postings?query={}&locations%5B%5D%5Blabel%5D={}'\n",
    "    url = template.format(position, location)\n",
    "    return url"
   ]
  },
  {
   "cell_type": "code",
   "execution_count": 95,
   "id": "7f19f93d-00a4-4064-a0ad-81ebcab254e7",
   "metadata": {},
   "outputs": [],
   "source": [
    "url = get_url('data science', 'dallas tx')"
   ]
  },
  {
   "cell_type": "code",
   "execution_count": 96,
   "id": "f706128d-4f9e-4f2f-8a93-c0bfc97bcb8a",
   "metadata": {},
   "outputs": [],
   "source": [
    "response = requests.get(url)"
   ]
  },
  {
   "cell_type": "code",
   "execution_count": 97,
   "id": "c37e7a57-fe64-4534-a182-beb6ad8037c8",
   "metadata": {},
   "outputs": [
    {
     "data": {
      "text/plain": [
       "<Response [200]>"
      ]
     },
     "execution_count": 97,
     "metadata": {},
     "output_type": "execute_result"
    }
   ],
   "source": [
    "response"
   ]
  },
  {
   "cell_type": "code",
   "execution_count": 98,
   "id": "b8151452-1f63-4c6f-a38c-56778f60e091",
   "metadata": {},
   "outputs": [],
   "source": [
    "soup = BeautifulSoup(response.text, 'html.parser')"
   ]
  },
  {
   "cell_type": "code",
   "execution_count": 107,
   "id": "e9813860-e0bd-43e0-9946-6519f7c22781",
   "metadata": {},
   "outputs": [],
   "source": [
    "cards = soup.find_all('div')"
   ]
  },
  {
   "cell_type": "code",
   "execution_count": 108,
   "id": "6cdf5db2-8c35-4628-8af1-716ace836d39",
   "metadata": {},
   "outputs": [
    {
     "data": {
      "text/plain": [
       "24"
      ]
     },
     "execution_count": 108,
     "metadata": {},
     "output_type": "execute_result"
    }
   ],
   "source": [
    "len(cards)"
   ]
  },
  {
   "cell_type": "code",
   "execution_count": 104,
   "id": "d8021eb0-b843-42d2-a442-83f746a60a6a",
   "metadata": {},
   "outputs": [
    {
     "name": "stdout",
     "output_type": "stream",
     "text": [
      "[<div class=\"login-v2-container\">\n",
      "<div class=\"mobile-banner\">\n",
      "<a class=\"logo\" href=\"https://www.joinhandshake.com\"><img alt=\"Handshake logo\" height=\"24\" src=\"https://handshake-production-cdn.joinhandshake.com/assets/logo-icon-42378cd841a06f65f897c87fcb32c4c27e6e4b686fb7e65a9420e9a0605386db.svg\"/>\n",
      "</a><div class=\"helper-links\">\n",
      "<p class=\"sign-up-here\">\n",
      "No account?\n",
      "<b><a data-track-click=\"login-v2-clicked-signup-app-domain\" href=\"/student_account_registrations/new\">Sign up here.</a></b>\n",
      "</p>\n",
      "</div>\n",
      "</div>\n",
      "<div class=\"main\">\n",
      "<div class=\"absolute no-account\">\n",
      "No account?\n",
      "<b><a data-track-click=\"login-v2-clicked-signup-app-domain\" href=\"/student_account_registrations/new\">Sign up here.</a></b>\n",
      "</div>\n",
      "<div class=\"centered-container\">\n",
      "<div data-bind=\"visible: true\" data-component-id=\"NewSchoolLoginView\" data-knockout-class=\"NewSchoolLoginView\" data-knockout-props=\"{}\" style=\"display: none\"><div data-bind=\"ifnot: show\">\n",
      "<div class=\"sso-button-wrapper\" data-track-impression=\"show-sso-login\" data-track-impression-properties='{\"auth_type\":\"saml\", \"user_known\": false}'>\n",
      "<img alt=\"The University of Texas at Dallas logo\" class=\"institution-logo\" src=\"https://s3.amazonaws.com/handshake.production/app/public/assets/schools/580/original/hs-school-logo-data.?1743758549\"/>\n",
      "<h2 class=\"h3\">The University of Texas at Dallas</h2>\n",
      "<a class=\"sso-button\" data-bind=\"click: track_sso_click\" href=\"https://idp.utdallas.edu/idp/profile/SAML2/Redirect/SSO?SAMLRequest=hZJLU4MwFIX%2FCruseAgtrRnKTG0XdqZOO1BduOkEcitRSGJucPrzhT6UjXWb%2B51zc3KSIGtqTeetrWQGny2gdeaIYKxQcqEktg2YHMyXKOE5W89IZa1G6vtMa%2B9dCVkxybFiH%2BCVqvF7t315lhFn2bkJyXqrX6Hg2mstZ3XN0APe9ge%2BNuogavDz%2BdM69DPgwkBp%2FTzfEGe1nJH9mEWTezadulDE4I6KOHKLMojcSRxOeBGMeByzDkVsYSXRMmlnJAzCsRuM3DDYhQG9G9MweiXO1iirSlU%2FCMmFfJuR1kiqGAqkkjWA1Ja0vwYNvYAWZwjp4263dbebfEecFzB4StQBxDk2tUTa577txK6POpTo2xp9uSpJk56mp3gm%2FacCnfhDOjk3fCkX%2BKnqrlkLR%2BssVKOZEdjHgSMr7XXVkFp0TWEGh%2FRifGP2x56f6fCfpd8%3D\" title=\"Sign in here using your NetID and Password\"><div id=\"sso-name\">UT Dallas Student Login</div>\n",
      "<i class=\"fa fa-chevron-right\"></i>\n",
      "</a><div class=\"sign-in-with-email-address\">\n",
      "You can also\n",
      "<a data-bind=\"click: toggle\" href=\"\">\n",
      "sign in with your email address.\n",
      "</a>\n",
      "<br/>\n",
      "(Please use your .edu address, if applicable.)\n",
      "</div>\n",
      "</div>\n",
      "<div class=\"mobile-banner-web\">\n",
      "<div class=\"mobile-banner-title-container\">\n",
      "<div class=\"mobile-banner-web-title\">Job hunt on the go with the Handshake app</div>\n",
      "<div class=\"mobile-banner-web-subtitle\">Download the app on iPhone or Android to be the first to know about new jobs.</div>\n",
      "</div>\n",
      "<img alt=\"Download the Handshake app\" class=\"mobile-banner-web-qrcode\" src=\"https://handshake-production-cdn.joinhandshake.com/assets/login-v2/us-mobile-download-qr-code-64e74cd9e18cd54547fb6c408000e29efc68388bb9a7e9ac023b777d96a1ff12.png\"/>\n",
      "</div>\n",
      "</div>\n",
      "<div data-bind=\"if: show\">\n",
      "<img alt=\"The University of Texas at Dallas logo\" class=\"institution-logo institution-logo-smaller\" src=\"https://s3.amazonaws.com/handshake.production/app/public/assets/schools/580/original/hs-school-logo-data.?1743758549\"/>\n",
      "<form accept-charset=\"UTF-8\" action=\"/sessions\" data-bind=\"submit: track_email_address_submit\" id=\"non-sso-email-form\" method=\"post\"><input autocomplete=\"off\" name=\"utf8\" type=\"hidden\" value=\"✓\"/><input autocomplete=\"off\" name=\"authenticity_token\" type=\"hidden\" value=\"Z73c29/VxwhMMK/h6nCaNB/PuknFfuLrO4xWCMrp68jzOhNXvIToQ6kLtQDSWMkZ3TC3SE+uZr5/RnKt9n0CjQ==\"/>\n",
      "<div class=\"form\" data-track-impression=\"show-signin\">\n",
      "<h2 class=\"h3\">The University of Texas at Dallas</h2>\n",
      "<p>Enter your email (use your .edu email if applicable)</p>\n",
      "<input name=\"email_form\" type=\"hidden\" value=\"true\"/>\n",
      "<input autofocus=\"\" id=\"non-sso-email-address\" name=\"identifier\" placeholder=\"email@example.edu\" type=\"text\"/>\n",
      "<div class=\"actions\">\n",
      "<button class=\"button\" type=\"submit\">Next</button>\n",
      "<span class=\"h6\"><a href=\"https://support.joinhandshake.com/hc/en-us\">Need Help?</a></span>\n",
      "</div>\n",
      "</div>\n",
      "</form>\n",
      "</div>\n",
      "</div><div class=\"activation-tracking\">\n",
      "<div class=\"unknown_email_address\"></div>\n",
      "</div>\n",
      "</div>\n",
      "</div>\n",
      "<div class=\"sidebar\">\n",
      "<img alt=\"\" class=\"absolute middle-circle-mobile\" role=\"presentation\" src=\"https://handshake-production-cdn.joinhandshake.com/assets/login-v2/sidebar-middle-mobile-23f199cd98ed912aae864f79a3f7a66bbecb19d6914f28952f4b1fbdbf3e20db.svg\"/>\n",
      "<a class=\"logo\" href=\"https://www.joinhandshake.com\" tabindex=\"1\"><img alt=\"Handshake logo\" height=\"34\" src=\"https://handshake-production-cdn.joinhandshake.com/assets/handshake-light-logo-130b147b97cb783e62d30ae932c212fd55b7013ac902291d5101135d73e81db3.svg\" width=\"172\"/>\n",
      "</a><img alt=\"\" class=\"absolute middle-circle-mobile\" role=\"presentation\" src=\"https://handshake-production-cdn.joinhandshake.com/assets/login-v2/sidebar-middle-mobile-23f199cd98ed912aae864f79a3f7a66bbecb19d6914f28952f4b1fbdbf3e20db.svg\"/>\n",
      "<div class=\"content\">\n",
      "<h2 class=\"marketing-title\">\n",
      "Get the job done\n",
      " \n",
      "</h2>\n",
      "<div class=\"marketing-content\">\n",
      "<h2>Students</h2>\n",
      "<p>Launch the next step in your career.</p>\n",
      "<h2>Employers</h2>\n",
      "<p>Hire the next generation of talent.</p>\n",
      "<h2>Career Centers</h2>\n",
      "<p>Bring the best jobs to your students.</p>\n",
      "</div>\n",
      "<div class=\"marketing-learn-more\">\n",
      "<a aria-label=\"Learn more about Handshake\" data-track-click=\"login-v2-clicked-learn-more\" href=\"https://www.joinhandshake.com\">Learn More</a>\n",
      "</div>\n",
      "</div>\n",
      "<img alt=\"\" class=\"absolute middle-stroke-web\" role=\"presentation\" src=\"https://handshake-production-cdn.joinhandshake.com/assets/login-v2/sidebar-middle-stroke-7cf2da38ae07110f83a924ed6dd824fc86c7b70e55b2cd50cc5e36120ab9a2a6.svg\"/>\n",
      "<img alt=\"\" class=\"absolute bottom-stroke-web\" role=\"presentation\" src=\"https://handshake-production-cdn.joinhandshake.com/assets/login-v2/sidebar-bottom-stroke-web-d762ca09af86716910564a5ddfc4d19282bbb959dad2aee4891cf0d358c031bf.svg\"/>\n",
      "<img alt=\"\" class=\"absolute bottom-stroke-mobile\" role=\"presentation\" src=\"https://handshake-production-cdn.joinhandshake.com/assets/login-v2/sidebar-bottom-mobile-84f28447220989396fe1c6aa36bf97e524f3bbb39fd360c33b95e369f0590ffc.svg\"/>\n",
      "</div>\n",
      "</div>, <div class=\"mobile-banner\">\n",
      "<a class=\"logo\" href=\"https://www.joinhandshake.com\"><img alt=\"Handshake logo\" height=\"24\" src=\"https://handshake-production-cdn.joinhandshake.com/assets/logo-icon-42378cd841a06f65f897c87fcb32c4c27e6e4b686fb7e65a9420e9a0605386db.svg\"/>\n",
      "</a><div class=\"helper-links\">\n",
      "<p class=\"sign-up-here\">\n",
      "No account?\n",
      "<b><a data-track-click=\"login-v2-clicked-signup-app-domain\" href=\"/student_account_registrations/new\">Sign up here.</a></b>\n",
      "</p>\n",
      "</div>\n",
      "</div>, <div class=\"helper-links\">\n",
      "<p class=\"sign-up-here\">\n",
      "No account?\n",
      "<b><a data-track-click=\"login-v2-clicked-signup-app-domain\" href=\"/student_account_registrations/new\">Sign up here.</a></b>\n",
      "</p>\n",
      "</div>, <div class=\"main\">\n",
      "<div class=\"absolute no-account\">\n",
      "No account?\n",
      "<b><a data-track-click=\"login-v2-clicked-signup-app-domain\" href=\"/student_account_registrations/new\">Sign up here.</a></b>\n",
      "</div>\n",
      "<div class=\"centered-container\">\n",
      "<div data-bind=\"visible: true\" data-component-id=\"NewSchoolLoginView\" data-knockout-class=\"NewSchoolLoginView\" data-knockout-props=\"{}\" style=\"display: none\"><div data-bind=\"ifnot: show\">\n",
      "<div class=\"sso-button-wrapper\" data-track-impression=\"show-sso-login\" data-track-impression-properties='{\"auth_type\":\"saml\", \"user_known\": false}'>\n",
      "<img alt=\"The University of Texas at Dallas logo\" class=\"institution-logo\" src=\"https://s3.amazonaws.com/handshake.production/app/public/assets/schools/580/original/hs-school-logo-data.?1743758549\"/>\n",
      "<h2 class=\"h3\">The University of Texas at Dallas</h2>\n",
      "<a class=\"sso-button\" data-bind=\"click: track_sso_click\" href=\"https://idp.utdallas.edu/idp/profile/SAML2/Redirect/SSO?SAMLRequest=hZJLU4MwFIX%2FCruseAgtrRnKTG0XdqZOO1BduOkEcitRSGJucPrzhT6UjXWb%2B51zc3KSIGtqTeetrWQGny2gdeaIYKxQcqEktg2YHMyXKOE5W89IZa1G6vtMa%2B9dCVkxybFiH%2BCVqvF7t315lhFn2bkJyXqrX6Hg2mstZ3XN0APe9ge%2BNuogavDz%2BdM69DPgwkBp%2FTzfEGe1nJH9mEWTezadulDE4I6KOHKLMojcSRxOeBGMeByzDkVsYSXRMmlnJAzCsRuM3DDYhQG9G9MweiXO1iirSlU%2FCMmFfJuR1kiqGAqkkjWA1Ja0vwYNvYAWZwjp4263dbebfEecFzB4StQBxDk2tUTa577txK6POpTo2xp9uSpJk56mp3gm%2FacCnfhDOjk3fCkX%2BKnqrlkLR%2BssVKOZEdjHgSMr7XXVkFp0TWEGh%2FRifGP2x56f6fCfpd8%3D\" title=\"Sign in here using your NetID and Password\"><div id=\"sso-name\">UT Dallas Student Login</div>\n",
      "<i class=\"fa fa-chevron-right\"></i>\n",
      "</a><div class=\"sign-in-with-email-address\">\n",
      "You can also\n",
      "<a data-bind=\"click: toggle\" href=\"\">\n",
      "sign in with your email address.\n",
      "</a>\n",
      "<br/>\n",
      "(Please use your .edu address, if applicable.)\n",
      "</div>\n",
      "</div>\n",
      "<div class=\"mobile-banner-web\">\n",
      "<div class=\"mobile-banner-title-container\">\n",
      "<div class=\"mobile-banner-web-title\">Job hunt on the go with the Handshake app</div>\n",
      "<div class=\"mobile-banner-web-subtitle\">Download the app on iPhone or Android to be the first to know about new jobs.</div>\n",
      "</div>\n",
      "<img alt=\"Download the Handshake app\" class=\"mobile-banner-web-qrcode\" src=\"https://handshake-production-cdn.joinhandshake.com/assets/login-v2/us-mobile-download-qr-code-64e74cd9e18cd54547fb6c408000e29efc68388bb9a7e9ac023b777d96a1ff12.png\"/>\n",
      "</div>\n",
      "</div>\n",
      "<div data-bind=\"if: show\">\n",
      "<img alt=\"The University of Texas at Dallas logo\" class=\"institution-logo institution-logo-smaller\" src=\"https://s3.amazonaws.com/handshake.production/app/public/assets/schools/580/original/hs-school-logo-data.?1743758549\"/>\n",
      "<form accept-charset=\"UTF-8\" action=\"/sessions\" data-bind=\"submit: track_email_address_submit\" id=\"non-sso-email-form\" method=\"post\"><input autocomplete=\"off\" name=\"utf8\" type=\"hidden\" value=\"✓\"/><input autocomplete=\"off\" name=\"authenticity_token\" type=\"hidden\" value=\"Z73c29/VxwhMMK/h6nCaNB/PuknFfuLrO4xWCMrp68jzOhNXvIToQ6kLtQDSWMkZ3TC3SE+uZr5/RnKt9n0CjQ==\"/>\n",
      "<div class=\"form\" data-track-impression=\"show-signin\">\n",
      "<h2 class=\"h3\">The University of Texas at Dallas</h2>\n",
      "<p>Enter your email (use your .edu email if applicable)</p>\n",
      "<input name=\"email_form\" type=\"hidden\" value=\"true\"/>\n",
      "<input autofocus=\"\" id=\"non-sso-email-address\" name=\"identifier\" placeholder=\"email@example.edu\" type=\"text\"/>\n",
      "<div class=\"actions\">\n",
      "<button class=\"button\" type=\"submit\">Next</button>\n",
      "<span class=\"h6\"><a href=\"https://support.joinhandshake.com/hc/en-us\">Need Help?</a></span>\n",
      "</div>\n",
      "</div>\n",
      "</form>\n",
      "</div>\n",
      "</div><div class=\"activation-tracking\">\n",
      "<div class=\"unknown_email_address\"></div>\n",
      "</div>\n",
      "</div>\n",
      "</div>, <div class=\"absolute no-account\">\n",
      "No account?\n",
      "<b><a data-track-click=\"login-v2-clicked-signup-app-domain\" href=\"/student_account_registrations/new\">Sign up here.</a></b>\n",
      "</div>, <div class=\"centered-container\">\n",
      "<div data-bind=\"visible: true\" data-component-id=\"NewSchoolLoginView\" data-knockout-class=\"NewSchoolLoginView\" data-knockout-props=\"{}\" style=\"display: none\"><div data-bind=\"ifnot: show\">\n",
      "<div class=\"sso-button-wrapper\" data-track-impression=\"show-sso-login\" data-track-impression-properties='{\"auth_type\":\"saml\", \"user_known\": false}'>\n",
      "<img alt=\"The University of Texas at Dallas logo\" class=\"institution-logo\" src=\"https://s3.amazonaws.com/handshake.production/app/public/assets/schools/580/original/hs-school-logo-data.?1743758549\"/>\n",
      "<h2 class=\"h3\">The University of Texas at Dallas</h2>\n",
      "<a class=\"sso-button\" data-bind=\"click: track_sso_click\" href=\"https://idp.utdallas.edu/idp/profile/SAML2/Redirect/SSO?SAMLRequest=hZJLU4MwFIX%2FCruseAgtrRnKTG0XdqZOO1BduOkEcitRSGJucPrzhT6UjXWb%2B51zc3KSIGtqTeetrWQGny2gdeaIYKxQcqEktg2YHMyXKOE5W89IZa1G6vtMa%2B9dCVkxybFiH%2BCVqvF7t315lhFn2bkJyXqrX6Hg2mstZ3XN0APe9ge%2BNuogavDz%2BdM69DPgwkBp%2FTzfEGe1nJH9mEWTezadulDE4I6KOHKLMojcSRxOeBGMeByzDkVsYSXRMmlnJAzCsRuM3DDYhQG9G9MweiXO1iirSlU%2FCMmFfJuR1kiqGAqkkjWA1Ja0vwYNvYAWZwjp4263dbebfEecFzB4StQBxDk2tUTa577txK6POpTo2xp9uSpJk56mp3gm%2FacCnfhDOjk3fCkX%2BKnqrlkLR%2BssVKOZEdjHgSMr7XXVkFp0TWEGh%2FRifGP2x56f6fCfpd8%3D\" title=\"Sign in here using your NetID and Password\"><div id=\"sso-name\">UT Dallas Student Login</div>\n",
      "<i class=\"fa fa-chevron-right\"></i>\n",
      "</a><div class=\"sign-in-with-email-address\">\n",
      "You can also\n",
      "<a data-bind=\"click: toggle\" href=\"\">\n",
      "sign in with your email address.\n",
      "</a>\n",
      "<br/>\n",
      "(Please use your .edu address, if applicable.)\n",
      "</div>\n",
      "</div>\n",
      "<div class=\"mobile-banner-web\">\n",
      "<div class=\"mobile-banner-title-container\">\n",
      "<div class=\"mobile-banner-web-title\">Job hunt on the go with the Handshake app</div>\n",
      "<div class=\"mobile-banner-web-subtitle\">Download the app on iPhone or Android to be the first to know about new jobs.</div>\n",
      "</div>\n",
      "<img alt=\"Download the Handshake app\" class=\"mobile-banner-web-qrcode\" src=\"https://handshake-production-cdn.joinhandshake.com/assets/login-v2/us-mobile-download-qr-code-64e74cd9e18cd54547fb6c408000e29efc68388bb9a7e9ac023b777d96a1ff12.png\"/>\n",
      "</div>\n",
      "</div>\n",
      "<div data-bind=\"if: show\">\n",
      "<img alt=\"The University of Texas at Dallas logo\" class=\"institution-logo institution-logo-smaller\" src=\"https://s3.amazonaws.com/handshake.production/app/public/assets/schools/580/original/hs-school-logo-data.?1743758549\"/>\n",
      "<form accept-charset=\"UTF-8\" action=\"/sessions\" data-bind=\"submit: track_email_address_submit\" id=\"non-sso-email-form\" method=\"post\"><input autocomplete=\"off\" name=\"utf8\" type=\"hidden\" value=\"✓\"/><input autocomplete=\"off\" name=\"authenticity_token\" type=\"hidden\" value=\"Z73c29/VxwhMMK/h6nCaNB/PuknFfuLrO4xWCMrp68jzOhNXvIToQ6kLtQDSWMkZ3TC3SE+uZr5/RnKt9n0CjQ==\"/>\n",
      "<div class=\"form\" data-track-impression=\"show-signin\">\n",
      "<h2 class=\"h3\">The University of Texas at Dallas</h2>\n",
      "<p>Enter your email (use your .edu email if applicable)</p>\n",
      "<input name=\"email_form\" type=\"hidden\" value=\"true\"/>\n",
      "<input autofocus=\"\" id=\"non-sso-email-address\" name=\"identifier\" placeholder=\"email@example.edu\" type=\"text\"/>\n",
      "<div class=\"actions\">\n",
      "<button class=\"button\" type=\"submit\">Next</button>\n",
      "<span class=\"h6\"><a href=\"https://support.joinhandshake.com/hc/en-us\">Need Help?</a></span>\n",
      "</div>\n",
      "</div>\n",
      "</form>\n",
      "</div>\n",
      "</div><div class=\"activation-tracking\">\n",
      "<div class=\"unknown_email_address\"></div>\n",
      "</div>\n",
      "</div>, <div data-bind=\"visible: true\" data-component-id=\"NewSchoolLoginView\" data-knockout-class=\"NewSchoolLoginView\" data-knockout-props=\"{}\" style=\"display: none\"><div data-bind=\"ifnot: show\">\n",
      "<div class=\"sso-button-wrapper\" data-track-impression=\"show-sso-login\" data-track-impression-properties='{\"auth_type\":\"saml\", \"user_known\": false}'>\n",
      "<img alt=\"The University of Texas at Dallas logo\" class=\"institution-logo\" src=\"https://s3.amazonaws.com/handshake.production/app/public/assets/schools/580/original/hs-school-logo-data.?1743758549\"/>\n",
      "<h2 class=\"h3\">The University of Texas at Dallas</h2>\n",
      "<a class=\"sso-button\" data-bind=\"click: track_sso_click\" href=\"https://idp.utdallas.edu/idp/profile/SAML2/Redirect/SSO?SAMLRequest=hZJLU4MwFIX%2FCruseAgtrRnKTG0XdqZOO1BduOkEcitRSGJucPrzhT6UjXWb%2B51zc3KSIGtqTeetrWQGny2gdeaIYKxQcqEktg2YHMyXKOE5W89IZa1G6vtMa%2B9dCVkxybFiH%2BCVqvF7t315lhFn2bkJyXqrX6Hg2mstZ3XN0APe9ge%2BNuogavDz%2BdM69DPgwkBp%2FTzfEGe1nJH9mEWTezadulDE4I6KOHKLMojcSRxOeBGMeByzDkVsYSXRMmlnJAzCsRuM3DDYhQG9G9MweiXO1iirSlU%2FCMmFfJuR1kiqGAqkkjWA1Ja0vwYNvYAWZwjp4263dbebfEecFzB4StQBxDk2tUTa577txK6POpTo2xp9uSpJk56mp3gm%2FacCnfhDOjk3fCkX%2BKnqrlkLR%2BssVKOZEdjHgSMr7XXVkFp0TWEGh%2FRifGP2x56f6fCfpd8%3D\" title=\"Sign in here using your NetID and Password\"><div id=\"sso-name\">UT Dallas Student Login</div>\n",
      "<i class=\"fa fa-chevron-right\"></i>\n",
      "</a><div class=\"sign-in-with-email-address\">\n",
      "You can also\n",
      "<a data-bind=\"click: toggle\" href=\"\">\n",
      "sign in with your email address.\n",
      "</a>\n",
      "<br/>\n",
      "(Please use your .edu address, if applicable.)\n",
      "</div>\n",
      "</div>\n",
      "<div class=\"mobile-banner-web\">\n",
      "<div class=\"mobile-banner-title-container\">\n",
      "<div class=\"mobile-banner-web-title\">Job hunt on the go with the Handshake app</div>\n",
      "<div class=\"mobile-banner-web-subtitle\">Download the app on iPhone or Android to be the first to know about new jobs.</div>\n",
      "</div>\n",
      "<img alt=\"Download the Handshake app\" class=\"mobile-banner-web-qrcode\" src=\"https://handshake-production-cdn.joinhandshake.com/assets/login-v2/us-mobile-download-qr-code-64e74cd9e18cd54547fb6c408000e29efc68388bb9a7e9ac023b777d96a1ff12.png\"/>\n",
      "</div>\n",
      "</div>\n",
      "<div data-bind=\"if: show\">\n",
      "<img alt=\"The University of Texas at Dallas logo\" class=\"institution-logo institution-logo-smaller\" src=\"https://s3.amazonaws.com/handshake.production/app/public/assets/schools/580/original/hs-school-logo-data.?1743758549\"/>\n",
      "<form accept-charset=\"UTF-8\" action=\"/sessions\" data-bind=\"submit: track_email_address_submit\" id=\"non-sso-email-form\" method=\"post\"><input autocomplete=\"off\" name=\"utf8\" type=\"hidden\" value=\"✓\"/><input autocomplete=\"off\" name=\"authenticity_token\" type=\"hidden\" value=\"Z73c29/VxwhMMK/h6nCaNB/PuknFfuLrO4xWCMrp68jzOhNXvIToQ6kLtQDSWMkZ3TC3SE+uZr5/RnKt9n0CjQ==\"/>\n",
      "<div class=\"form\" data-track-impression=\"show-signin\">\n",
      "<h2 class=\"h3\">The University of Texas at Dallas</h2>\n",
      "<p>Enter your email (use your .edu email if applicable)</p>\n",
      "<input name=\"email_form\" type=\"hidden\" value=\"true\"/>\n",
      "<input autofocus=\"\" id=\"non-sso-email-address\" name=\"identifier\" placeholder=\"email@example.edu\" type=\"text\"/>\n",
      "<div class=\"actions\">\n",
      "<button class=\"button\" type=\"submit\">Next</button>\n",
      "<span class=\"h6\"><a href=\"https://support.joinhandshake.com/hc/en-us\">Need Help?</a></span>\n",
      "</div>\n",
      "</div>\n",
      "</form>\n",
      "</div>\n",
      "</div>, <div data-bind=\"ifnot: show\">\n",
      "<div class=\"sso-button-wrapper\" data-track-impression=\"show-sso-login\" data-track-impression-properties='{\"auth_type\":\"saml\", \"user_known\": false}'>\n",
      "<img alt=\"The University of Texas at Dallas logo\" class=\"institution-logo\" src=\"https://s3.amazonaws.com/handshake.production/app/public/assets/schools/580/original/hs-school-logo-data.?1743758549\"/>\n",
      "<h2 class=\"h3\">The University of Texas at Dallas</h2>\n",
      "<a class=\"sso-button\" data-bind=\"click: track_sso_click\" href=\"https://idp.utdallas.edu/idp/profile/SAML2/Redirect/SSO?SAMLRequest=hZJLU4MwFIX%2FCruseAgtrRnKTG0XdqZOO1BduOkEcitRSGJucPrzhT6UjXWb%2B51zc3KSIGtqTeetrWQGny2gdeaIYKxQcqEktg2YHMyXKOE5W89IZa1G6vtMa%2B9dCVkxybFiH%2BCVqvF7t315lhFn2bkJyXqrX6Hg2mstZ3XN0APe9ge%2BNuogavDz%2BdM69DPgwkBp%2FTzfEGe1nJH9mEWTezadulDE4I6KOHKLMojcSRxOeBGMeByzDkVsYSXRMmlnJAzCsRuM3DDYhQG9G9MweiXO1iirSlU%2FCMmFfJuR1kiqGAqkkjWA1Ja0vwYNvYAWZwjp4263dbebfEecFzB4StQBxDk2tUTa577txK6POpTo2xp9uSpJk56mp3gm%2FacCnfhDOjk3fCkX%2BKnqrlkLR%2BssVKOZEdjHgSMr7XXVkFp0TWEGh%2FRifGP2x56f6fCfpd8%3D\" title=\"Sign in here using your NetID and Password\"><div id=\"sso-name\">UT Dallas Student Login</div>\n",
      "<i class=\"fa fa-chevron-right\"></i>\n",
      "</a><div class=\"sign-in-with-email-address\">\n",
      "You can also\n",
      "<a data-bind=\"click: toggle\" href=\"\">\n",
      "sign in with your email address.\n",
      "</a>\n",
      "<br/>\n",
      "(Please use your .edu address, if applicable.)\n",
      "</div>\n",
      "</div>\n",
      "<div class=\"mobile-banner-web\">\n",
      "<div class=\"mobile-banner-title-container\">\n",
      "<div class=\"mobile-banner-web-title\">Job hunt on the go with the Handshake app</div>\n",
      "<div class=\"mobile-banner-web-subtitle\">Download the app on iPhone or Android to be the first to know about new jobs.</div>\n",
      "</div>\n",
      "<img alt=\"Download the Handshake app\" class=\"mobile-banner-web-qrcode\" src=\"https://handshake-production-cdn.joinhandshake.com/assets/login-v2/us-mobile-download-qr-code-64e74cd9e18cd54547fb6c408000e29efc68388bb9a7e9ac023b777d96a1ff12.png\"/>\n",
      "</div>\n",
      "</div>, <div class=\"sso-button-wrapper\" data-track-impression=\"show-sso-login\" data-track-impression-properties='{\"auth_type\":\"saml\", \"user_known\": false}'>\n",
      "<img alt=\"The University of Texas at Dallas logo\" class=\"institution-logo\" src=\"https://s3.amazonaws.com/handshake.production/app/public/assets/schools/580/original/hs-school-logo-data.?1743758549\"/>\n",
      "<h2 class=\"h3\">The University of Texas at Dallas</h2>\n",
      "<a class=\"sso-button\" data-bind=\"click: track_sso_click\" href=\"https://idp.utdallas.edu/idp/profile/SAML2/Redirect/SSO?SAMLRequest=hZJLU4MwFIX%2FCruseAgtrRnKTG0XdqZOO1BduOkEcitRSGJucPrzhT6UjXWb%2B51zc3KSIGtqTeetrWQGny2gdeaIYKxQcqEktg2YHMyXKOE5W89IZa1G6vtMa%2B9dCVkxybFiH%2BCVqvF7t315lhFn2bkJyXqrX6Hg2mstZ3XN0APe9ge%2BNuogavDz%2BdM69DPgwkBp%2FTzfEGe1nJH9mEWTezadulDE4I6KOHKLMojcSRxOeBGMeByzDkVsYSXRMmlnJAzCsRuM3DDYhQG9G9MweiXO1iirSlU%2FCMmFfJuR1kiqGAqkkjWA1Ja0vwYNvYAWZwjp4263dbebfEecFzB4StQBxDk2tUTa577txK6POpTo2xp9uSpJk56mp3gm%2FacCnfhDOjk3fCkX%2BKnqrlkLR%2BssVKOZEdjHgSMr7XXVkFp0TWEGh%2FRifGP2x56f6fCfpd8%3D\" title=\"Sign in here using your NetID and Password\"><div id=\"sso-name\">UT Dallas Student Login</div>\n",
      "<i class=\"fa fa-chevron-right\"></i>\n",
      "</a><div class=\"sign-in-with-email-address\">\n",
      "You can also\n",
      "<a data-bind=\"click: toggle\" href=\"\">\n",
      "sign in with your email address.\n",
      "</a>\n",
      "<br/>\n",
      "(Please use your .edu address, if applicable.)\n",
      "</div>\n",
      "</div>, <div id=\"sso-name\">UT Dallas Student Login</div>, <div class=\"sign-in-with-email-address\">\n",
      "You can also\n",
      "<a data-bind=\"click: toggle\" href=\"\">\n",
      "sign in with your email address.\n",
      "</a>\n",
      "<br/>\n",
      "(Please use your .edu address, if applicable.)\n",
      "</div>, <div class=\"mobile-banner-web\">\n",
      "<div class=\"mobile-banner-title-container\">\n",
      "<div class=\"mobile-banner-web-title\">Job hunt on the go with the Handshake app</div>\n",
      "<div class=\"mobile-banner-web-subtitle\">Download the app on iPhone or Android to be the first to know about new jobs.</div>\n",
      "</div>\n",
      "<img alt=\"Download the Handshake app\" class=\"mobile-banner-web-qrcode\" src=\"https://handshake-production-cdn.joinhandshake.com/assets/login-v2/us-mobile-download-qr-code-64e74cd9e18cd54547fb6c408000e29efc68388bb9a7e9ac023b777d96a1ff12.png\"/>\n",
      "</div>, <div class=\"mobile-banner-title-container\">\n",
      "<div class=\"mobile-banner-web-title\">Job hunt on the go with the Handshake app</div>\n",
      "<div class=\"mobile-banner-web-subtitle\">Download the app on iPhone or Android to be the first to know about new jobs.</div>\n",
      "</div>, <div class=\"mobile-banner-web-title\">Job hunt on the go with the Handshake app</div>, <div class=\"mobile-banner-web-subtitle\">Download the app on iPhone or Android to be the first to know about new jobs.</div>, <div data-bind=\"if: show\">\n",
      "<img alt=\"The University of Texas at Dallas logo\" class=\"institution-logo institution-logo-smaller\" src=\"https://s3.amazonaws.com/handshake.production/app/public/assets/schools/580/original/hs-school-logo-data.?1743758549\"/>\n",
      "<form accept-charset=\"UTF-8\" action=\"/sessions\" data-bind=\"submit: track_email_address_submit\" id=\"non-sso-email-form\" method=\"post\"><input autocomplete=\"off\" name=\"utf8\" type=\"hidden\" value=\"✓\"/><input autocomplete=\"off\" name=\"authenticity_token\" type=\"hidden\" value=\"Z73c29/VxwhMMK/h6nCaNB/PuknFfuLrO4xWCMrp68jzOhNXvIToQ6kLtQDSWMkZ3TC3SE+uZr5/RnKt9n0CjQ==\"/>\n",
      "<div class=\"form\" data-track-impression=\"show-signin\">\n",
      "<h2 class=\"h3\">The University of Texas at Dallas</h2>\n",
      "<p>Enter your email (use your .edu email if applicable)</p>\n",
      "<input name=\"email_form\" type=\"hidden\" value=\"true\"/>\n",
      "<input autofocus=\"\" id=\"non-sso-email-address\" name=\"identifier\" placeholder=\"email@example.edu\" type=\"text\"/>\n",
      "<div class=\"actions\">\n",
      "<button class=\"button\" type=\"submit\">Next</button>\n",
      "<span class=\"h6\"><a href=\"https://support.joinhandshake.com/hc/en-us\">Need Help?</a></span>\n",
      "</div>\n",
      "</div>\n",
      "</form>\n",
      "</div>, <div class=\"form\" data-track-impression=\"show-signin\">\n",
      "<h2 class=\"h3\">The University of Texas at Dallas</h2>\n",
      "<p>Enter your email (use your .edu email if applicable)</p>\n",
      "<input name=\"email_form\" type=\"hidden\" value=\"true\"/>\n",
      "<input autofocus=\"\" id=\"non-sso-email-address\" name=\"identifier\" placeholder=\"email@example.edu\" type=\"text\"/>\n",
      "<div class=\"actions\">\n",
      "<button class=\"button\" type=\"submit\">Next</button>\n",
      "<span class=\"h6\"><a href=\"https://support.joinhandshake.com/hc/en-us\">Need Help?</a></span>\n",
      "</div>\n",
      "</div>, <div class=\"actions\">\n",
      "<button class=\"button\" type=\"submit\">Next</button>\n",
      "<span class=\"h6\"><a href=\"https://support.joinhandshake.com/hc/en-us\">Need Help?</a></span>\n",
      "</div>, <div class=\"activation-tracking\">\n",
      "<div class=\"unknown_email_address\"></div>\n",
      "</div>, <div class=\"unknown_email_address\"></div>, <div class=\"sidebar\">\n",
      "<img alt=\"\" class=\"absolute middle-circle-mobile\" role=\"presentation\" src=\"https://handshake-production-cdn.joinhandshake.com/assets/login-v2/sidebar-middle-mobile-23f199cd98ed912aae864f79a3f7a66bbecb19d6914f28952f4b1fbdbf3e20db.svg\"/>\n",
      "<a class=\"logo\" href=\"https://www.joinhandshake.com\" tabindex=\"1\"><img alt=\"Handshake logo\" height=\"34\" src=\"https://handshake-production-cdn.joinhandshake.com/assets/handshake-light-logo-130b147b97cb783e62d30ae932c212fd55b7013ac902291d5101135d73e81db3.svg\" width=\"172\"/>\n",
      "</a><img alt=\"\" class=\"absolute middle-circle-mobile\" role=\"presentation\" src=\"https://handshake-production-cdn.joinhandshake.com/assets/login-v2/sidebar-middle-mobile-23f199cd98ed912aae864f79a3f7a66bbecb19d6914f28952f4b1fbdbf3e20db.svg\"/>\n",
      "<div class=\"content\">\n",
      "<h2 class=\"marketing-title\">\n",
      "Get the job done\n",
      " \n",
      "</h2>\n",
      "<div class=\"marketing-content\">\n",
      "<h2>Students</h2>\n",
      "<p>Launch the next step in your career.</p>\n",
      "<h2>Employers</h2>\n",
      "<p>Hire the next generation of talent.</p>\n",
      "<h2>Career Centers</h2>\n",
      "<p>Bring the best jobs to your students.</p>\n",
      "</div>\n",
      "<div class=\"marketing-learn-more\">\n",
      "<a aria-label=\"Learn more about Handshake\" data-track-click=\"login-v2-clicked-learn-more\" href=\"https://www.joinhandshake.com\">Learn More</a>\n",
      "</div>\n",
      "</div>\n",
      "<img alt=\"\" class=\"absolute middle-stroke-web\" role=\"presentation\" src=\"https://handshake-production-cdn.joinhandshake.com/assets/login-v2/sidebar-middle-stroke-7cf2da38ae07110f83a924ed6dd824fc86c7b70e55b2cd50cc5e36120ab9a2a6.svg\"/>\n",
      "<img alt=\"\" class=\"absolute bottom-stroke-web\" role=\"presentation\" src=\"https://handshake-production-cdn.joinhandshake.com/assets/login-v2/sidebar-bottom-stroke-web-d762ca09af86716910564a5ddfc4d19282bbb959dad2aee4891cf0d358c031bf.svg\"/>\n",
      "<img alt=\"\" class=\"absolute bottom-stroke-mobile\" role=\"presentation\" src=\"https://handshake-production-cdn.joinhandshake.com/assets/login-v2/sidebar-bottom-mobile-84f28447220989396fe1c6aa36bf97e524f3bbb39fd360c33b95e369f0590ffc.svg\"/>\n",
      "</div>, <div class=\"content\">\n",
      "<h2 class=\"marketing-title\">\n",
      "Get the job done\n",
      " \n",
      "</h2>\n",
      "<div class=\"marketing-content\">\n",
      "<h2>Students</h2>\n",
      "<p>Launch the next step in your career.</p>\n",
      "<h2>Employers</h2>\n",
      "<p>Hire the next generation of talent.</p>\n",
      "<h2>Career Centers</h2>\n",
      "<p>Bring the best jobs to your students.</p>\n",
      "</div>\n",
      "<div class=\"marketing-learn-more\">\n",
      "<a aria-label=\"Learn more about Handshake\" data-track-click=\"login-v2-clicked-learn-more\" href=\"https://www.joinhandshake.com\">Learn More</a>\n",
      "</div>\n",
      "</div>, <div class=\"marketing-content\">\n",
      "<h2>Students</h2>\n",
      "<p>Launch the next step in your career.</p>\n",
      "<h2>Employers</h2>\n",
      "<p>Hire the next generation of talent.</p>\n",
      "<h2>Career Centers</h2>\n",
      "<p>Bring the best jobs to your students.</p>\n",
      "</div>, <div class=\"marketing-learn-more\">\n",
      "<a aria-label=\"Learn more about Handshake\" data-track-click=\"login-v2-clicked-learn-more\" href=\"https://www.joinhandshake.com\">Learn More</a>\n",
      "</div>]\n"
     ]
    }
   ],
   "source": [
    "print(cards)"
   ]
  },
  {
   "cell_type": "code",
   "execution_count": null,
   "id": "c5e295f6-c945-46ba-bbed-112a413a1d79",
   "metadata": {},
   "outputs": [],
   "source": []
  },
  {
   "cell_type": "code",
   "execution_count": 59,
   "id": "4b1c63f9-f7b7-495f-be84-90370964b33a",
   "metadata": {},
   "outputs": [
    {
     "data": {
      "text/plain": [
       "'OK'"
      ]
     },
     "execution_count": 59,
     "metadata": {},
     "output_type": "execute_result"
    }
   ],
   "source": [
    "response.reason"
   ]
  },
  {
   "cell_type": "code",
   "execution_count": 68,
   "id": "4c9ea1e6-ea92-4043-8f20-457e2063bad7",
   "metadata": {},
   "outputs": [],
   "source": [
    "soup = BeautifulSoup(response.text, 'html.parser')"
   ]
  },
  {
   "cell_type": "code",
   "execution_count": 63,
   "id": "4082add2-15db-487f-9438-ed84128e6ced",
   "metadata": {},
   "outputs": [],
   "source": [
    "cards = soup.find_all('div', class_='sc-YkBNp cmrxRE')"
   ]
  },
  {
   "cell_type": "code",
   "execution_count": 64,
   "id": "f37d1131-1968-44f0-8983-260c7c9a81eb",
   "metadata": {},
   "outputs": [
    {
     "data": {
      "text/plain": [
       "0"
      ]
     },
     "execution_count": 64,
     "metadata": {},
     "output_type": "execute_result"
    }
   ],
   "source": [
    "len(cards)"
   ]
  },
  {
   "cell_type": "code",
   "execution_count": 69,
   "id": "d130517e-1597-4273-b1f4-e11d3a6dfe1b",
   "metadata": {},
   "outputs": [],
   "source": [
    "job_cards = soup.find_all('div', class_=lambda c: c and 'style__card' in c)"
   ]
  },
  {
   "cell_type": "code",
   "execution_count": 70,
   "id": "01f3d986-65f8-43f2-b0b3-71a1e4f079a8",
   "metadata": {},
   "outputs": [
    {
     "data": {
      "text/plain": [
       "[]"
      ]
     },
     "execution_count": 70,
     "metadata": {},
     "output_type": "execute_result"
    }
   ],
   "source": [
    "job_cards"
   ]
  },
  {
   "cell_type": "code",
   "execution_count": 65,
   "id": "641e4782-8e05-447a-9b80-a731dd21e668",
   "metadata": {},
   "outputs": [],
   "source": [
    "from selenium import webdriver\n",
    "from selenium.webdriver.chrome.options import Options\n",
    "from bs4 import BeautifulSoup\n",
    "import time\n",
    "\n",
    "options = Options()\n",
    "options.add_argument('--headless')\n",
    "options.add_argument('--disable-gpu')\n",
    "options.add_argument('--window-size=1920x1080')\n",
    "\n",
    "driver = webdriver.Chrome(options=options)\n",
    "driver.get('https://utdallas.joinhandshake.com/stu/postings?page=1&query=data%20analyst&locations%5B%5D%5Blabel%5D=Dallas%2C%20TX')\n",
    "\n",
    "time.sleep(5)  # Give time for JS to render content\n",
    "\n",
    "soup = BeautifulSoup(driver.page_source, 'html.parser')\n",
    "driver.quit()\n",
    "\n",
    "# Find all job cards (update class name based on what you see in Inspect)\n",
    "job_cards = soup.find_all('div', class_='style__cards___hgLkO')  # example class, may need to be updated\n",
    "\n",
    "for card in job_cards:\n",
    "    print(card.get_text(strip=True))\n"
   ]
  },
  {
   "cell_type": "code",
   "execution_count": 67,
   "id": "b6b066d2-e747-453d-8eb4-667ab6da2673",
   "metadata": {},
   "outputs": [
    {
     "name": "stdout",
     "output_type": "stream",
     "text": [
      "Found 0 job cards\n",
      "\n"
     ]
    }
   ],
   "source": [
    "from selenium import webdriver\n",
    "from selenium.webdriver.chrome.options import Options\n",
    "from bs4 import BeautifulSoup\n",
    "import time\n",
    "\n",
    "# Set up headless Chrome\n",
    "options = Options()\n",
    "options.add_argument('--headless')\n",
    "options.add_argument('--disable-gpu')\n",
    "\n",
    "driver = webdriver.Chrome(options=options)\n",
    "\n",
    "# URL of Handshake UTD jobs (data analyst search)\n",
    "url = 'https://utdallas.joinhandshake.com/stu/postings?page=1&query=data%20analyst&locations%5B%5D%5Blabel%5D=Dallas%2C%20TX'\n",
    "driver.get(url)\n",
    "\n",
    "time.sleep(5)  # wait for JS content to load\n",
    "\n",
    "# Parse rendered HTML\n",
    "soup = BeautifulSoup(driver.page_source, 'html.parser')\n",
    "\n",
    "# ✅ Search all divs with class that contains \"style_card\"\n",
    "job_cards = soup.find_all('div', class_=lambda c: c and 'style__card' in c)\n",
    "\n",
    "print(f\"Found {len(job_cards)} job cards\\n\")\n",
    "\n",
    "for i, card in enumerate(job_cards, 1):\n",
    "    print(f\"Job {i}:\")\n",
    "    print(card.get_text(strip=True))\n",
    "    print(\"-\" * 40)\n",
    "\n",
    "driver.quit()\n"
   ]
  },
  {
   "cell_type": "code",
   "execution_count": 109,
   "id": "ea1a77fb-2c8c-4965-8c55-a5e74dd43307",
   "metadata": {},
   "outputs": [
    {
     "name": "stdout",
     "output_type": "stream",
     "text": [
      "Found 0 jobs.\n"
     ]
    }
   ],
   "source": [
    "from selenium import webdriver\n",
    "from selenium.webdriver.chrome.options import Options\n",
    "from selenium.webdriver.common.by import By\n",
    "from bs4 import BeautifulSoup\n",
    "import time\n",
    "\n",
    "# Set up headless Chrome\n",
    "options = Options()\n",
    "options.add_argument(\"--headless\")\n",
    "options.add_argument(\"--disable-gpu\")\n",
    "options.add_argument(\"--window-size=1920,1080\")\n",
    "\n",
    "driver = webdriver.Chrome(options=options)\n",
    "\n",
    "# Handshake UTD job search URL for \"data analyst\" in Dallas\n",
    "url = \"https://utdallas.joinhandshake.com/stu/postings?page=1&query=data%20analyst&locations%5B%5D%5Blabel%5D=Dallas%2C%20TX\"\n",
    "driver.get(url)\n",
    "\n",
    "# Wait for job cards to load\n",
    "time.sleep(5)  # Adjust as needed\n",
    "\n",
    "# Scroll to load more jobs (simulate user scroll)\n",
    "driver.execute_script(\"window.scrollTo(0, document.body.scrollHeight);\")\n",
    "time.sleep(2)\n",
    "\n",
    "# Use BeautifulSoup to parse the page\n",
    "soup = BeautifulSoup(driver.page_source, \"html.parser\")\n",
    "\n",
    "# 🔍 Find all job cards by class (use contains logic for dynamic class names)\n",
    "job_cards = soup.find_all(\"div\", class_=lambda c: c and \"style_card\" in c)\n",
    "\n",
    "print(f\"Found {len(job_cards)} jobs.\")\n",
    "\n",
    "# 🎯 Extract info from each job card\n",
    "for i, card in enumerate(job_cards, 1):\n",
    "    title = card.find(\"h3\") or card.find(\"a\")  # flexible fallback\n",
    "    company = card.find(\"div\", class_=lambda c: c and \"employer\" in c)\n",
    "    print(f\"{i}. {title.get_text(strip=True) if title else 'No title'}\")\n",
    "    print(f\"   {company.get_text(strip=True) if company else 'No company'}\")\n",
    "    print(\"-\" * 50)\n",
    "\n",
    "driver.quit()\n"
   ]
  },
  {
   "cell_type": "code",
   "execution_count": 1,
   "id": "238865dc-1b32-4088-885d-fee6ba8b4a6c",
   "metadata": {},
   "outputs": [
    {
     "name": "stdout",
     "output_type": "stream",
     "text": [
      "⚠️ Job cards did not load in time.\n"
     ]
    },
    {
     "ename": "MaxRetryError",
     "evalue": "HTTPConnectionPool(host='localhost', port=64010): Max retries exceeded with url: /session/b8c5b0a29b46bba8d9c9a874f242f1c6/source (Caused by NewConnectionError('<urllib3.connection.HTTPConnection object at 0x104cdbc20>: Failed to establish a new connection: [Errno 61] Connection refused'))",
     "output_type": "error",
     "traceback": [
      "\u001b[0;31m---------------------------------------------------------------------------\u001b[0m",
      "\u001b[0;31mConnectionRefusedError\u001b[0m                    Traceback (most recent call last)",
      "File \u001b[0;32m/Applications/anaconda3/lib/python3.12/site-packages/urllib3/connection.py:199\u001b[0m, in \u001b[0;36mHTTPConnection._new_conn\u001b[0;34m(self)\u001b[0m\n\u001b[1;32m    198\u001b[0m \u001b[38;5;28;01mtry\u001b[39;00m:\n\u001b[0;32m--> 199\u001b[0m     sock \u001b[38;5;241m=\u001b[39m connection\u001b[38;5;241m.\u001b[39mcreate_connection(\n\u001b[1;32m    200\u001b[0m         (\u001b[38;5;28mself\u001b[39m\u001b[38;5;241m.\u001b[39m_dns_host, \u001b[38;5;28mself\u001b[39m\u001b[38;5;241m.\u001b[39mport),\n\u001b[1;32m    201\u001b[0m         \u001b[38;5;28mself\u001b[39m\u001b[38;5;241m.\u001b[39mtimeout,\n\u001b[1;32m    202\u001b[0m         source_address\u001b[38;5;241m=\u001b[39m\u001b[38;5;28mself\u001b[39m\u001b[38;5;241m.\u001b[39msource_address,\n\u001b[1;32m    203\u001b[0m         socket_options\u001b[38;5;241m=\u001b[39m\u001b[38;5;28mself\u001b[39m\u001b[38;5;241m.\u001b[39msocket_options,\n\u001b[1;32m    204\u001b[0m     )\n\u001b[1;32m    205\u001b[0m \u001b[38;5;28;01mexcept\u001b[39;00m socket\u001b[38;5;241m.\u001b[39mgaierror \u001b[38;5;28;01mas\u001b[39;00m e:\n",
      "File \u001b[0;32m/Applications/anaconda3/lib/python3.12/site-packages/urllib3/util/connection.py:85\u001b[0m, in \u001b[0;36mcreate_connection\u001b[0;34m(address, timeout, source_address, socket_options)\u001b[0m\n\u001b[1;32m     84\u001b[0m \u001b[38;5;28;01mtry\u001b[39;00m:\n\u001b[0;32m---> 85\u001b[0m     \u001b[38;5;28;01mraise\u001b[39;00m err\n\u001b[1;32m     86\u001b[0m \u001b[38;5;28;01mfinally\u001b[39;00m:\n\u001b[1;32m     87\u001b[0m     \u001b[38;5;66;03m# Break explicitly a reference cycle\u001b[39;00m\n",
      "File \u001b[0;32m/Applications/anaconda3/lib/python3.12/site-packages/urllib3/util/connection.py:73\u001b[0m, in \u001b[0;36mcreate_connection\u001b[0;34m(address, timeout, source_address, socket_options)\u001b[0m\n\u001b[1;32m     72\u001b[0m     sock\u001b[38;5;241m.\u001b[39mbind(source_address)\n\u001b[0;32m---> 73\u001b[0m sock\u001b[38;5;241m.\u001b[39mconnect(sa)\n\u001b[1;32m     74\u001b[0m \u001b[38;5;66;03m# Break explicitly a reference cycle\u001b[39;00m\n",
      "\u001b[0;31mConnectionRefusedError\u001b[0m: [Errno 61] Connection refused",
      "\nThe above exception was the direct cause of the following exception:\n",
      "\u001b[0;31mNewConnectionError\u001b[0m                        Traceback (most recent call last)",
      "File \u001b[0;32m/Applications/anaconda3/lib/python3.12/site-packages/urllib3/connectionpool.py:789\u001b[0m, in \u001b[0;36mHTTPConnectionPool.urlopen\u001b[0;34m(self, method, url, body, headers, retries, redirect, assert_same_host, timeout, pool_timeout, release_conn, chunked, body_pos, preload_content, decode_content, **response_kw)\u001b[0m\n\u001b[1;32m    788\u001b[0m \u001b[38;5;66;03m# Make the request on the HTTPConnection object\u001b[39;00m\n\u001b[0;32m--> 789\u001b[0m response \u001b[38;5;241m=\u001b[39m \u001b[38;5;28mself\u001b[39m\u001b[38;5;241m.\u001b[39m_make_request(\n\u001b[1;32m    790\u001b[0m     conn,\n\u001b[1;32m    791\u001b[0m     method,\n\u001b[1;32m    792\u001b[0m     url,\n\u001b[1;32m    793\u001b[0m     timeout\u001b[38;5;241m=\u001b[39mtimeout_obj,\n\u001b[1;32m    794\u001b[0m     body\u001b[38;5;241m=\u001b[39mbody,\n\u001b[1;32m    795\u001b[0m     headers\u001b[38;5;241m=\u001b[39mheaders,\n\u001b[1;32m    796\u001b[0m     chunked\u001b[38;5;241m=\u001b[39mchunked,\n\u001b[1;32m    797\u001b[0m     retries\u001b[38;5;241m=\u001b[39mretries,\n\u001b[1;32m    798\u001b[0m     response_conn\u001b[38;5;241m=\u001b[39mresponse_conn,\n\u001b[1;32m    799\u001b[0m     preload_content\u001b[38;5;241m=\u001b[39mpreload_content,\n\u001b[1;32m    800\u001b[0m     decode_content\u001b[38;5;241m=\u001b[39mdecode_content,\n\u001b[1;32m    801\u001b[0m     \u001b[38;5;241m*\u001b[39m\u001b[38;5;241m*\u001b[39mresponse_kw,\n\u001b[1;32m    802\u001b[0m )\n\u001b[1;32m    804\u001b[0m \u001b[38;5;66;03m# Everything went great!\u001b[39;00m\n",
      "File \u001b[0;32m/Applications/anaconda3/lib/python3.12/site-packages/urllib3/connectionpool.py:495\u001b[0m, in \u001b[0;36mHTTPConnectionPool._make_request\u001b[0;34m(self, conn, method, url, body, headers, retries, timeout, chunked, response_conn, preload_content, decode_content, enforce_content_length)\u001b[0m\n\u001b[1;32m    494\u001b[0m \u001b[38;5;28;01mtry\u001b[39;00m:\n\u001b[0;32m--> 495\u001b[0m     conn\u001b[38;5;241m.\u001b[39mrequest(\n\u001b[1;32m    496\u001b[0m         method,\n\u001b[1;32m    497\u001b[0m         url,\n\u001b[1;32m    498\u001b[0m         body\u001b[38;5;241m=\u001b[39mbody,\n\u001b[1;32m    499\u001b[0m         headers\u001b[38;5;241m=\u001b[39mheaders,\n\u001b[1;32m    500\u001b[0m         chunked\u001b[38;5;241m=\u001b[39mchunked,\n\u001b[1;32m    501\u001b[0m         preload_content\u001b[38;5;241m=\u001b[39mpreload_content,\n\u001b[1;32m    502\u001b[0m         decode_content\u001b[38;5;241m=\u001b[39mdecode_content,\n\u001b[1;32m    503\u001b[0m         enforce_content_length\u001b[38;5;241m=\u001b[39menforce_content_length,\n\u001b[1;32m    504\u001b[0m     )\n\u001b[1;32m    506\u001b[0m \u001b[38;5;66;03m# We are swallowing BrokenPipeError (errno.EPIPE) since the server is\u001b[39;00m\n\u001b[1;32m    507\u001b[0m \u001b[38;5;66;03m# legitimately able to close the connection after sending a valid response.\u001b[39;00m\n\u001b[1;32m    508\u001b[0m \u001b[38;5;66;03m# With this behaviour, the received response is still readable.\u001b[39;00m\n",
      "File \u001b[0;32m/Applications/anaconda3/lib/python3.12/site-packages/urllib3/connection.py:441\u001b[0m, in \u001b[0;36mHTTPConnection.request\u001b[0;34m(self, method, url, body, headers, chunked, preload_content, decode_content, enforce_content_length)\u001b[0m\n\u001b[1;32m    440\u001b[0m     \u001b[38;5;28mself\u001b[39m\u001b[38;5;241m.\u001b[39mputheader(header, value)\n\u001b[0;32m--> 441\u001b[0m \u001b[38;5;28mself\u001b[39m\u001b[38;5;241m.\u001b[39mendheaders()\n\u001b[1;32m    443\u001b[0m \u001b[38;5;66;03m# If we're given a body we start sending that in chunks.\u001b[39;00m\n",
      "File \u001b[0;32m/Applications/anaconda3/lib/python3.12/http/client.py:1331\u001b[0m, in \u001b[0;36mHTTPConnection.endheaders\u001b[0;34m(self, message_body, encode_chunked)\u001b[0m\n\u001b[1;32m   1330\u001b[0m     \u001b[38;5;28;01mraise\u001b[39;00m CannotSendHeader()\n\u001b[0;32m-> 1331\u001b[0m \u001b[38;5;28mself\u001b[39m\u001b[38;5;241m.\u001b[39m_send_output(message_body, encode_chunked\u001b[38;5;241m=\u001b[39mencode_chunked)\n",
      "File \u001b[0;32m/Applications/anaconda3/lib/python3.12/http/client.py:1091\u001b[0m, in \u001b[0;36mHTTPConnection._send_output\u001b[0;34m(self, message_body, encode_chunked)\u001b[0m\n\u001b[1;32m   1090\u001b[0m \u001b[38;5;28;01mdel\u001b[39;00m \u001b[38;5;28mself\u001b[39m\u001b[38;5;241m.\u001b[39m_buffer[:]\n\u001b[0;32m-> 1091\u001b[0m \u001b[38;5;28mself\u001b[39m\u001b[38;5;241m.\u001b[39msend(msg)\n\u001b[1;32m   1093\u001b[0m \u001b[38;5;28;01mif\u001b[39;00m message_body \u001b[38;5;129;01mis\u001b[39;00m \u001b[38;5;129;01mnot\u001b[39;00m \u001b[38;5;28;01mNone\u001b[39;00m:\n\u001b[1;32m   1094\u001b[0m \n\u001b[1;32m   1095\u001b[0m     \u001b[38;5;66;03m# create a consistent interface to message_body\u001b[39;00m\n",
      "File \u001b[0;32m/Applications/anaconda3/lib/python3.12/http/client.py:1035\u001b[0m, in \u001b[0;36mHTTPConnection.send\u001b[0;34m(self, data)\u001b[0m\n\u001b[1;32m   1034\u001b[0m \u001b[38;5;28;01mif\u001b[39;00m \u001b[38;5;28mself\u001b[39m\u001b[38;5;241m.\u001b[39mauto_open:\n\u001b[0;32m-> 1035\u001b[0m     \u001b[38;5;28mself\u001b[39m\u001b[38;5;241m.\u001b[39mconnect()\n\u001b[1;32m   1036\u001b[0m \u001b[38;5;28;01melse\u001b[39;00m:\n",
      "File \u001b[0;32m/Applications/anaconda3/lib/python3.12/site-packages/urllib3/connection.py:279\u001b[0m, in \u001b[0;36mHTTPConnection.connect\u001b[0;34m(self)\u001b[0m\n\u001b[1;32m    278\u001b[0m \u001b[38;5;28;01mdef\u001b[39;00m \u001b[38;5;21mconnect\u001b[39m(\u001b[38;5;28mself\u001b[39m) \u001b[38;5;241m-\u001b[39m\u001b[38;5;241m>\u001b[39m \u001b[38;5;28;01mNone\u001b[39;00m:\n\u001b[0;32m--> 279\u001b[0m     \u001b[38;5;28mself\u001b[39m\u001b[38;5;241m.\u001b[39msock \u001b[38;5;241m=\u001b[39m \u001b[38;5;28mself\u001b[39m\u001b[38;5;241m.\u001b[39m_new_conn()\n\u001b[1;32m    280\u001b[0m     \u001b[38;5;28;01mif\u001b[39;00m \u001b[38;5;28mself\u001b[39m\u001b[38;5;241m.\u001b[39m_tunnel_host:\n\u001b[1;32m    281\u001b[0m         \u001b[38;5;66;03m# If we're tunneling it means we're connected to our proxy.\u001b[39;00m\n",
      "File \u001b[0;32m/Applications/anaconda3/lib/python3.12/site-packages/urllib3/connection.py:214\u001b[0m, in \u001b[0;36mHTTPConnection._new_conn\u001b[0;34m(self)\u001b[0m\n\u001b[1;32m    213\u001b[0m \u001b[38;5;28;01mexcept\u001b[39;00m \u001b[38;5;167;01mOSError\u001b[39;00m \u001b[38;5;28;01mas\u001b[39;00m e:\n\u001b[0;32m--> 214\u001b[0m     \u001b[38;5;28;01mraise\u001b[39;00m NewConnectionError(\n\u001b[1;32m    215\u001b[0m         \u001b[38;5;28mself\u001b[39m, \u001b[38;5;124mf\u001b[39m\u001b[38;5;124m\"\u001b[39m\u001b[38;5;124mFailed to establish a new connection: \u001b[39m\u001b[38;5;132;01m{\u001b[39;00me\u001b[38;5;132;01m}\u001b[39;00m\u001b[38;5;124m\"\u001b[39m\n\u001b[1;32m    216\u001b[0m     ) \u001b[38;5;28;01mfrom\u001b[39;00m \u001b[38;5;21;01me\u001b[39;00m\n\u001b[1;32m    218\u001b[0m \u001b[38;5;66;03m# Audit hooks are only available in Python 3.8+\u001b[39;00m\n",
      "\u001b[0;31mNewConnectionError\u001b[0m: <urllib3.connection.HTTPConnection object at 0x104cdbc20>: Failed to establish a new connection: [Errno 61] Connection refused",
      "\nThe above exception was the direct cause of the following exception:\n",
      "\u001b[0;31mMaxRetryError\u001b[0m                             Traceback (most recent call last)",
      "Cell \u001b[0;32mIn[1], line 31\u001b[0m\n\u001b[1;32m     28\u001b[0m     exit()\n\u001b[1;32m     30\u001b[0m \u001b[38;5;66;03m# Step 4: Parse HTML\u001b[39;00m\n\u001b[0;32m---> 31\u001b[0m soup \u001b[38;5;241m=\u001b[39m BeautifulSoup(driver\u001b[38;5;241m.\u001b[39mpage_source, \u001b[38;5;124m\"\u001b[39m\u001b[38;5;124mhtml.parser\u001b[39m\u001b[38;5;124m\"\u001b[39m)\n\u001b[1;32m     33\u001b[0m \u001b[38;5;66;03m# Step 5: Get all job cards with dynamic class\u001b[39;00m\n\u001b[1;32m     34\u001b[0m job_cards \u001b[38;5;241m=\u001b[39m soup\u001b[38;5;241m.\u001b[39mfind_all(\u001b[38;5;124m\"\u001b[39m\u001b[38;5;124mdiv\u001b[39m\u001b[38;5;124m\"\u001b[39m, class_\u001b[38;5;241m=\u001b[39m\u001b[38;5;28;01mlambda\u001b[39;00m c: c \u001b[38;5;129;01mand\u001b[39;00m \u001b[38;5;124m\"\u001b[39m\u001b[38;5;124mstyle_card\u001b[39m\u001b[38;5;124m\"\u001b[39m \u001b[38;5;129;01min\u001b[39;00m c)\n",
      "File \u001b[0;32m/Applications/anaconda3/lib/python3.12/site-packages/selenium/webdriver/remote/webdriver.py:570\u001b[0m, in \u001b[0;36mWebDriver.page_source\u001b[0;34m(self)\u001b[0m\n\u001b[1;32m    562\u001b[0m \u001b[38;5;129m@property\u001b[39m\n\u001b[1;32m    563\u001b[0m \u001b[38;5;28;01mdef\u001b[39;00m \u001b[38;5;21mpage_source\u001b[39m(\u001b[38;5;28mself\u001b[39m) \u001b[38;5;241m-\u001b[39m\u001b[38;5;241m>\u001b[39m \u001b[38;5;28mstr\u001b[39m:\n\u001b[1;32m    564\u001b[0m \u001b[38;5;250m    \u001b[39m\u001b[38;5;124;03m\"\"\"Gets the source of the current page.\u001b[39;00m\n\u001b[1;32m    565\u001b[0m \n\u001b[1;32m    566\u001b[0m \u001b[38;5;124;03m    Example:\u001b[39;00m\n\u001b[1;32m    567\u001b[0m \u001b[38;5;124;03m    --------\u001b[39;00m\n\u001b[1;32m    568\u001b[0m \u001b[38;5;124;03m    >>> print(driver.page_source)\u001b[39;00m\n\u001b[1;32m    569\u001b[0m \u001b[38;5;124;03m    \"\"\"\u001b[39;00m\n\u001b[0;32m--> 570\u001b[0m     \u001b[38;5;28;01mreturn\u001b[39;00m \u001b[38;5;28mself\u001b[39m\u001b[38;5;241m.\u001b[39mexecute(Command\u001b[38;5;241m.\u001b[39mGET_PAGE_SOURCE)[\u001b[38;5;124m\"\u001b[39m\u001b[38;5;124mvalue\u001b[39m\u001b[38;5;124m\"\u001b[39m]\n",
      "File \u001b[0;32m/Applications/anaconda3/lib/python3.12/site-packages/selenium/webdriver/remote/webdriver.py:427\u001b[0m, in \u001b[0;36mWebDriver.execute\u001b[0;34m(self, driver_command, params)\u001b[0m\n\u001b[1;32m    424\u001b[0m     \u001b[38;5;28;01melif\u001b[39;00m \u001b[38;5;124m\"\u001b[39m\u001b[38;5;124msessionId\u001b[39m\u001b[38;5;124m\"\u001b[39m \u001b[38;5;129;01mnot\u001b[39;00m \u001b[38;5;129;01min\u001b[39;00m params:\n\u001b[1;32m    425\u001b[0m         params[\u001b[38;5;124m\"\u001b[39m\u001b[38;5;124msessionId\u001b[39m\u001b[38;5;124m\"\u001b[39m] \u001b[38;5;241m=\u001b[39m \u001b[38;5;28mself\u001b[39m\u001b[38;5;241m.\u001b[39msession_id\n\u001b[0;32m--> 427\u001b[0m response \u001b[38;5;241m=\u001b[39m \u001b[38;5;28mself\u001b[39m\u001b[38;5;241m.\u001b[39mcommand_executor\u001b[38;5;241m.\u001b[39mexecute(driver_command, params)\n\u001b[1;32m    428\u001b[0m \u001b[38;5;28;01mif\u001b[39;00m response:\n\u001b[1;32m    429\u001b[0m     \u001b[38;5;28mself\u001b[39m\u001b[38;5;241m.\u001b[39merror_handler\u001b[38;5;241m.\u001b[39mcheck_response(response)\n",
      "File \u001b[0;32m/Applications/anaconda3/lib/python3.12/site-packages/selenium/webdriver/remote/remote_connection.py:404\u001b[0m, in \u001b[0;36mRemoteConnection.execute\u001b[0;34m(self, command, params)\u001b[0m\n\u001b[1;32m    402\u001b[0m trimmed \u001b[38;5;241m=\u001b[39m \u001b[38;5;28mself\u001b[39m\u001b[38;5;241m.\u001b[39m_trim_large_entries(params)\n\u001b[1;32m    403\u001b[0m LOGGER\u001b[38;5;241m.\u001b[39mdebug(\u001b[38;5;124m\"\u001b[39m\u001b[38;5;132;01m%s\u001b[39;00m\u001b[38;5;124m \u001b[39m\u001b[38;5;132;01m%s\u001b[39;00m\u001b[38;5;124m \u001b[39m\u001b[38;5;132;01m%s\u001b[39;00m\u001b[38;5;124m\"\u001b[39m, command_info[\u001b[38;5;241m0\u001b[39m], url, \u001b[38;5;28mstr\u001b[39m(trimmed))\n\u001b[0;32m--> 404\u001b[0m \u001b[38;5;28;01mreturn\u001b[39;00m \u001b[38;5;28mself\u001b[39m\u001b[38;5;241m.\u001b[39m_request(command_info[\u001b[38;5;241m0\u001b[39m], url, body\u001b[38;5;241m=\u001b[39mdata)\n",
      "File \u001b[0;32m/Applications/anaconda3/lib/python3.12/site-packages/selenium/webdriver/remote/remote_connection.py:428\u001b[0m, in \u001b[0;36mRemoteConnection._request\u001b[0;34m(self, method, url, body)\u001b[0m\n\u001b[1;32m    425\u001b[0m     body \u001b[38;5;241m=\u001b[39m \u001b[38;5;28;01mNone\u001b[39;00m\n\u001b[1;32m    427\u001b[0m \u001b[38;5;28;01mif\u001b[39;00m \u001b[38;5;28mself\u001b[39m\u001b[38;5;241m.\u001b[39m_client_config\u001b[38;5;241m.\u001b[39mkeep_alive:\n\u001b[0;32m--> 428\u001b[0m     response \u001b[38;5;241m=\u001b[39m \u001b[38;5;28mself\u001b[39m\u001b[38;5;241m.\u001b[39m_conn\u001b[38;5;241m.\u001b[39mrequest(method, url, body\u001b[38;5;241m=\u001b[39mbody, headers\u001b[38;5;241m=\u001b[39mheaders, timeout\u001b[38;5;241m=\u001b[39m\u001b[38;5;28mself\u001b[39m\u001b[38;5;241m.\u001b[39m_client_config\u001b[38;5;241m.\u001b[39mtimeout)\n\u001b[1;32m    429\u001b[0m     statuscode \u001b[38;5;241m=\u001b[39m response\u001b[38;5;241m.\u001b[39mstatus\n\u001b[1;32m    430\u001b[0m \u001b[38;5;28;01melse\u001b[39;00m:\n",
      "File \u001b[0;32m/Applications/anaconda3/lib/python3.12/site-packages/urllib3/_request_methods.py:135\u001b[0m, in \u001b[0;36mRequestMethods.request\u001b[0;34m(self, method, url, body, fields, headers, json, **urlopen_kw)\u001b[0m\n\u001b[1;32m    132\u001b[0m     urlopen_kw[\u001b[38;5;124m\"\u001b[39m\u001b[38;5;124mbody\u001b[39m\u001b[38;5;124m\"\u001b[39m] \u001b[38;5;241m=\u001b[39m body\n\u001b[1;32m    134\u001b[0m \u001b[38;5;28;01mif\u001b[39;00m method \u001b[38;5;129;01min\u001b[39;00m \u001b[38;5;28mself\u001b[39m\u001b[38;5;241m.\u001b[39m_encode_url_methods:\n\u001b[0;32m--> 135\u001b[0m     \u001b[38;5;28;01mreturn\u001b[39;00m \u001b[38;5;28mself\u001b[39m\u001b[38;5;241m.\u001b[39mrequest_encode_url(\n\u001b[1;32m    136\u001b[0m         method,\n\u001b[1;32m    137\u001b[0m         url,\n\u001b[1;32m    138\u001b[0m         fields\u001b[38;5;241m=\u001b[39mfields,  \u001b[38;5;66;03m# type: ignore[arg-type]\u001b[39;00m\n\u001b[1;32m    139\u001b[0m         headers\u001b[38;5;241m=\u001b[39mheaders,\n\u001b[1;32m    140\u001b[0m         \u001b[38;5;241m*\u001b[39m\u001b[38;5;241m*\u001b[39murlopen_kw,\n\u001b[1;32m    141\u001b[0m     )\n\u001b[1;32m    142\u001b[0m \u001b[38;5;28;01melse\u001b[39;00m:\n\u001b[1;32m    143\u001b[0m     \u001b[38;5;28;01mreturn\u001b[39;00m \u001b[38;5;28mself\u001b[39m\u001b[38;5;241m.\u001b[39mrequest_encode_body(\n\u001b[1;32m    144\u001b[0m         method, url, fields\u001b[38;5;241m=\u001b[39mfields, headers\u001b[38;5;241m=\u001b[39mheaders, \u001b[38;5;241m*\u001b[39m\u001b[38;5;241m*\u001b[39murlopen_kw\n\u001b[1;32m    145\u001b[0m     )\n",
      "File \u001b[0;32m/Applications/anaconda3/lib/python3.12/site-packages/urllib3/_request_methods.py:182\u001b[0m, in \u001b[0;36mRequestMethods.request_encode_url\u001b[0;34m(self, method, url, fields, headers, **urlopen_kw)\u001b[0m\n\u001b[1;32m    179\u001b[0m \u001b[38;5;28;01mif\u001b[39;00m fields:\n\u001b[1;32m    180\u001b[0m     url \u001b[38;5;241m+\u001b[39m\u001b[38;5;241m=\u001b[39m \u001b[38;5;124m\"\u001b[39m\u001b[38;5;124m?\u001b[39m\u001b[38;5;124m\"\u001b[39m \u001b[38;5;241m+\u001b[39m urlencode(fields)\n\u001b[0;32m--> 182\u001b[0m \u001b[38;5;28;01mreturn\u001b[39;00m \u001b[38;5;28mself\u001b[39m\u001b[38;5;241m.\u001b[39murlopen(method, url, \u001b[38;5;241m*\u001b[39m\u001b[38;5;241m*\u001b[39mextra_kw)\n",
      "File \u001b[0;32m/Applications/anaconda3/lib/python3.12/site-packages/urllib3/poolmanager.py:443\u001b[0m, in \u001b[0;36mPoolManager.urlopen\u001b[0;34m(self, method, url, redirect, **kw)\u001b[0m\n\u001b[1;32m    441\u001b[0m     response \u001b[38;5;241m=\u001b[39m conn\u001b[38;5;241m.\u001b[39murlopen(method, url, \u001b[38;5;241m*\u001b[39m\u001b[38;5;241m*\u001b[39mkw)\n\u001b[1;32m    442\u001b[0m \u001b[38;5;28;01melse\u001b[39;00m:\n\u001b[0;32m--> 443\u001b[0m     response \u001b[38;5;241m=\u001b[39m conn\u001b[38;5;241m.\u001b[39murlopen(method, u\u001b[38;5;241m.\u001b[39mrequest_uri, \u001b[38;5;241m*\u001b[39m\u001b[38;5;241m*\u001b[39mkw)\n\u001b[1;32m    445\u001b[0m redirect_location \u001b[38;5;241m=\u001b[39m redirect \u001b[38;5;129;01mand\u001b[39;00m response\u001b[38;5;241m.\u001b[39mget_redirect_location()\n\u001b[1;32m    446\u001b[0m \u001b[38;5;28;01mif\u001b[39;00m \u001b[38;5;129;01mnot\u001b[39;00m redirect_location:\n",
      "File \u001b[0;32m/Applications/anaconda3/lib/python3.12/site-packages/urllib3/connectionpool.py:873\u001b[0m, in \u001b[0;36mHTTPConnectionPool.urlopen\u001b[0;34m(self, method, url, body, headers, retries, redirect, assert_same_host, timeout, pool_timeout, release_conn, chunked, body_pos, preload_content, decode_content, **response_kw)\u001b[0m\n\u001b[1;32m    868\u001b[0m \u001b[38;5;28;01mif\u001b[39;00m \u001b[38;5;129;01mnot\u001b[39;00m conn:\n\u001b[1;32m    869\u001b[0m     \u001b[38;5;66;03m# Try again\u001b[39;00m\n\u001b[1;32m    870\u001b[0m     log\u001b[38;5;241m.\u001b[39mwarning(\n\u001b[1;32m    871\u001b[0m         \u001b[38;5;124m\"\u001b[39m\u001b[38;5;124mRetrying (\u001b[39m\u001b[38;5;132;01m%r\u001b[39;00m\u001b[38;5;124m) after connection broken by \u001b[39m\u001b[38;5;124m'\u001b[39m\u001b[38;5;132;01m%r\u001b[39;00m\u001b[38;5;124m'\u001b[39m\u001b[38;5;124m: \u001b[39m\u001b[38;5;132;01m%s\u001b[39;00m\u001b[38;5;124m\"\u001b[39m, retries, err, url\n\u001b[1;32m    872\u001b[0m     )\n\u001b[0;32m--> 873\u001b[0m     \u001b[38;5;28;01mreturn\u001b[39;00m \u001b[38;5;28mself\u001b[39m\u001b[38;5;241m.\u001b[39murlopen(\n\u001b[1;32m    874\u001b[0m         method,\n\u001b[1;32m    875\u001b[0m         url,\n\u001b[1;32m    876\u001b[0m         body,\n\u001b[1;32m    877\u001b[0m         headers,\n\u001b[1;32m    878\u001b[0m         retries,\n\u001b[1;32m    879\u001b[0m         redirect,\n\u001b[1;32m    880\u001b[0m         assert_same_host,\n\u001b[1;32m    881\u001b[0m         timeout\u001b[38;5;241m=\u001b[39mtimeout,\n\u001b[1;32m    882\u001b[0m         pool_timeout\u001b[38;5;241m=\u001b[39mpool_timeout,\n\u001b[1;32m    883\u001b[0m         release_conn\u001b[38;5;241m=\u001b[39mrelease_conn,\n\u001b[1;32m    884\u001b[0m         chunked\u001b[38;5;241m=\u001b[39mchunked,\n\u001b[1;32m    885\u001b[0m         body_pos\u001b[38;5;241m=\u001b[39mbody_pos,\n\u001b[1;32m    886\u001b[0m         preload_content\u001b[38;5;241m=\u001b[39mpreload_content,\n\u001b[1;32m    887\u001b[0m         decode_content\u001b[38;5;241m=\u001b[39mdecode_content,\n\u001b[1;32m    888\u001b[0m         \u001b[38;5;241m*\u001b[39m\u001b[38;5;241m*\u001b[39mresponse_kw,\n\u001b[1;32m    889\u001b[0m     )\n\u001b[1;32m    891\u001b[0m \u001b[38;5;66;03m# Handle redirect?\u001b[39;00m\n\u001b[1;32m    892\u001b[0m redirect_location \u001b[38;5;241m=\u001b[39m redirect \u001b[38;5;129;01mand\u001b[39;00m response\u001b[38;5;241m.\u001b[39mget_redirect_location()\n",
      "File \u001b[0;32m/Applications/anaconda3/lib/python3.12/site-packages/urllib3/connectionpool.py:873\u001b[0m, in \u001b[0;36mHTTPConnectionPool.urlopen\u001b[0;34m(self, method, url, body, headers, retries, redirect, assert_same_host, timeout, pool_timeout, release_conn, chunked, body_pos, preload_content, decode_content, **response_kw)\u001b[0m\n\u001b[1;32m    868\u001b[0m \u001b[38;5;28;01mif\u001b[39;00m \u001b[38;5;129;01mnot\u001b[39;00m conn:\n\u001b[1;32m    869\u001b[0m     \u001b[38;5;66;03m# Try again\u001b[39;00m\n\u001b[1;32m    870\u001b[0m     log\u001b[38;5;241m.\u001b[39mwarning(\n\u001b[1;32m    871\u001b[0m         \u001b[38;5;124m\"\u001b[39m\u001b[38;5;124mRetrying (\u001b[39m\u001b[38;5;132;01m%r\u001b[39;00m\u001b[38;5;124m) after connection broken by \u001b[39m\u001b[38;5;124m'\u001b[39m\u001b[38;5;132;01m%r\u001b[39;00m\u001b[38;5;124m'\u001b[39m\u001b[38;5;124m: \u001b[39m\u001b[38;5;132;01m%s\u001b[39;00m\u001b[38;5;124m\"\u001b[39m, retries, err, url\n\u001b[1;32m    872\u001b[0m     )\n\u001b[0;32m--> 873\u001b[0m     \u001b[38;5;28;01mreturn\u001b[39;00m \u001b[38;5;28mself\u001b[39m\u001b[38;5;241m.\u001b[39murlopen(\n\u001b[1;32m    874\u001b[0m         method,\n\u001b[1;32m    875\u001b[0m         url,\n\u001b[1;32m    876\u001b[0m         body,\n\u001b[1;32m    877\u001b[0m         headers,\n\u001b[1;32m    878\u001b[0m         retries,\n\u001b[1;32m    879\u001b[0m         redirect,\n\u001b[1;32m    880\u001b[0m         assert_same_host,\n\u001b[1;32m    881\u001b[0m         timeout\u001b[38;5;241m=\u001b[39mtimeout,\n\u001b[1;32m    882\u001b[0m         pool_timeout\u001b[38;5;241m=\u001b[39mpool_timeout,\n\u001b[1;32m    883\u001b[0m         release_conn\u001b[38;5;241m=\u001b[39mrelease_conn,\n\u001b[1;32m    884\u001b[0m         chunked\u001b[38;5;241m=\u001b[39mchunked,\n\u001b[1;32m    885\u001b[0m         body_pos\u001b[38;5;241m=\u001b[39mbody_pos,\n\u001b[1;32m    886\u001b[0m         preload_content\u001b[38;5;241m=\u001b[39mpreload_content,\n\u001b[1;32m    887\u001b[0m         decode_content\u001b[38;5;241m=\u001b[39mdecode_content,\n\u001b[1;32m    888\u001b[0m         \u001b[38;5;241m*\u001b[39m\u001b[38;5;241m*\u001b[39mresponse_kw,\n\u001b[1;32m    889\u001b[0m     )\n\u001b[1;32m    891\u001b[0m \u001b[38;5;66;03m# Handle redirect?\u001b[39;00m\n\u001b[1;32m    892\u001b[0m redirect_location \u001b[38;5;241m=\u001b[39m redirect \u001b[38;5;129;01mand\u001b[39;00m response\u001b[38;5;241m.\u001b[39mget_redirect_location()\n",
      "File \u001b[0;32m/Applications/anaconda3/lib/python3.12/site-packages/urllib3/connectionpool.py:873\u001b[0m, in \u001b[0;36mHTTPConnectionPool.urlopen\u001b[0;34m(self, method, url, body, headers, retries, redirect, assert_same_host, timeout, pool_timeout, release_conn, chunked, body_pos, preload_content, decode_content, **response_kw)\u001b[0m\n\u001b[1;32m    868\u001b[0m \u001b[38;5;28;01mif\u001b[39;00m \u001b[38;5;129;01mnot\u001b[39;00m conn:\n\u001b[1;32m    869\u001b[0m     \u001b[38;5;66;03m# Try again\u001b[39;00m\n\u001b[1;32m    870\u001b[0m     log\u001b[38;5;241m.\u001b[39mwarning(\n\u001b[1;32m    871\u001b[0m         \u001b[38;5;124m\"\u001b[39m\u001b[38;5;124mRetrying (\u001b[39m\u001b[38;5;132;01m%r\u001b[39;00m\u001b[38;5;124m) after connection broken by \u001b[39m\u001b[38;5;124m'\u001b[39m\u001b[38;5;132;01m%r\u001b[39;00m\u001b[38;5;124m'\u001b[39m\u001b[38;5;124m: \u001b[39m\u001b[38;5;132;01m%s\u001b[39;00m\u001b[38;5;124m\"\u001b[39m, retries, err, url\n\u001b[1;32m    872\u001b[0m     )\n\u001b[0;32m--> 873\u001b[0m     \u001b[38;5;28;01mreturn\u001b[39;00m \u001b[38;5;28mself\u001b[39m\u001b[38;5;241m.\u001b[39murlopen(\n\u001b[1;32m    874\u001b[0m         method,\n\u001b[1;32m    875\u001b[0m         url,\n\u001b[1;32m    876\u001b[0m         body,\n\u001b[1;32m    877\u001b[0m         headers,\n\u001b[1;32m    878\u001b[0m         retries,\n\u001b[1;32m    879\u001b[0m         redirect,\n\u001b[1;32m    880\u001b[0m         assert_same_host,\n\u001b[1;32m    881\u001b[0m         timeout\u001b[38;5;241m=\u001b[39mtimeout,\n\u001b[1;32m    882\u001b[0m         pool_timeout\u001b[38;5;241m=\u001b[39mpool_timeout,\n\u001b[1;32m    883\u001b[0m         release_conn\u001b[38;5;241m=\u001b[39mrelease_conn,\n\u001b[1;32m    884\u001b[0m         chunked\u001b[38;5;241m=\u001b[39mchunked,\n\u001b[1;32m    885\u001b[0m         body_pos\u001b[38;5;241m=\u001b[39mbody_pos,\n\u001b[1;32m    886\u001b[0m         preload_content\u001b[38;5;241m=\u001b[39mpreload_content,\n\u001b[1;32m    887\u001b[0m         decode_content\u001b[38;5;241m=\u001b[39mdecode_content,\n\u001b[1;32m    888\u001b[0m         \u001b[38;5;241m*\u001b[39m\u001b[38;5;241m*\u001b[39mresponse_kw,\n\u001b[1;32m    889\u001b[0m     )\n\u001b[1;32m    891\u001b[0m \u001b[38;5;66;03m# Handle redirect?\u001b[39;00m\n\u001b[1;32m    892\u001b[0m redirect_location \u001b[38;5;241m=\u001b[39m redirect \u001b[38;5;129;01mand\u001b[39;00m response\u001b[38;5;241m.\u001b[39mget_redirect_location()\n",
      "File \u001b[0;32m/Applications/anaconda3/lib/python3.12/site-packages/urllib3/connectionpool.py:843\u001b[0m, in \u001b[0;36mHTTPConnectionPool.urlopen\u001b[0;34m(self, method, url, body, headers, retries, redirect, assert_same_host, timeout, pool_timeout, release_conn, chunked, body_pos, preload_content, decode_content, **response_kw)\u001b[0m\n\u001b[1;32m    840\u001b[0m \u001b[38;5;28;01melif\u001b[39;00m \u001b[38;5;28misinstance\u001b[39m(new_e, (\u001b[38;5;167;01mOSError\u001b[39;00m, HTTPException)):\n\u001b[1;32m    841\u001b[0m     new_e \u001b[38;5;241m=\u001b[39m ProtocolError(\u001b[38;5;124m\"\u001b[39m\u001b[38;5;124mConnection aborted.\u001b[39m\u001b[38;5;124m\"\u001b[39m, new_e)\n\u001b[0;32m--> 843\u001b[0m retries \u001b[38;5;241m=\u001b[39m retries\u001b[38;5;241m.\u001b[39mincrement(\n\u001b[1;32m    844\u001b[0m     method, url, error\u001b[38;5;241m=\u001b[39mnew_e, _pool\u001b[38;5;241m=\u001b[39m\u001b[38;5;28mself\u001b[39m, _stacktrace\u001b[38;5;241m=\u001b[39msys\u001b[38;5;241m.\u001b[39mexc_info()[\u001b[38;5;241m2\u001b[39m]\n\u001b[1;32m    845\u001b[0m )\n\u001b[1;32m    846\u001b[0m retries\u001b[38;5;241m.\u001b[39msleep()\n\u001b[1;32m    848\u001b[0m \u001b[38;5;66;03m# Keep track of the error for the retry warning.\u001b[39;00m\n",
      "File \u001b[0;32m/Applications/anaconda3/lib/python3.12/site-packages/urllib3/util/retry.py:519\u001b[0m, in \u001b[0;36mRetry.increment\u001b[0;34m(self, method, url, response, error, _pool, _stacktrace)\u001b[0m\n\u001b[1;32m    517\u001b[0m \u001b[38;5;28;01mif\u001b[39;00m new_retry\u001b[38;5;241m.\u001b[39mis_exhausted():\n\u001b[1;32m    518\u001b[0m     reason \u001b[38;5;241m=\u001b[39m error \u001b[38;5;129;01mor\u001b[39;00m ResponseError(cause)\n\u001b[0;32m--> 519\u001b[0m     \u001b[38;5;28;01mraise\u001b[39;00m MaxRetryError(_pool, url, reason) \u001b[38;5;28;01mfrom\u001b[39;00m \u001b[38;5;21;01mreason\u001b[39;00m  \u001b[38;5;66;03m# type: ignore[arg-type]\u001b[39;00m\n\u001b[1;32m    521\u001b[0m log\u001b[38;5;241m.\u001b[39mdebug(\u001b[38;5;124m\"\u001b[39m\u001b[38;5;124mIncremented Retry for (url=\u001b[39m\u001b[38;5;124m'\u001b[39m\u001b[38;5;132;01m%s\u001b[39;00m\u001b[38;5;124m'\u001b[39m\u001b[38;5;124m): \u001b[39m\u001b[38;5;132;01m%r\u001b[39;00m\u001b[38;5;124m\"\u001b[39m, url, new_retry)\n\u001b[1;32m    523\u001b[0m \u001b[38;5;28;01mreturn\u001b[39;00m new_retry\n",
      "\u001b[0;31mMaxRetryError\u001b[0m: HTTPConnectionPool(host='localhost', port=64010): Max retries exceeded with url: /session/b8c5b0a29b46bba8d9c9a874f242f1c6/source (Caused by NewConnectionError('<urllib3.connection.HTTPConnection object at 0x104cdbc20>: Failed to establish a new connection: [Errno 61] Connection refused'))"
     ]
    }
   ],
   "source": [
    "from selenium import webdriver\n",
    "from selenium.webdriver.chrome.options import Options\n",
    "from selenium.webdriver.common.by import By\n",
    "from selenium.webdriver.support.ui import WebDriverWait\n",
    "from selenium.webdriver.support import expected_conditions as EC\n",
    "from bs4 import BeautifulSoup\n",
    "\n",
    "# Step 1: Setup\n",
    "options = Options()\n",
    "options.add_argument(\"--headless\")\n",
    "options.add_argument(\"--disable-gpu\")\n",
    "options.add_argument(\"--window-size=1920,1080\")\n",
    "\n",
    "driver = webdriver.Chrome(options=options)\n",
    "\n",
    "# Step 2: Go to Handshake UTD Job Search\n",
    "url = \"https://utdallas.joinhandshake.com/stu/postings?page=1&query=data%20analyst&locations%5B%5D%5Blabel%5D=Dallas%2C%20TX\"\n",
    "driver.get(url)\n",
    "\n",
    "# Step 3: Wait until job cards load\n",
    "try:\n",
    "    WebDriverWait(driver, 15).until(\n",
    "        EC.presence_of_element_located((By.CSS_SELECTOR, \"div[class*='style_card']\"))\n",
    "    )\n",
    "except:\n",
    "    print(\"⚠️ Job cards did not load in time.\")\n",
    "    driver.quit()\n",
    "    exit()\n",
    "\n",
    "# Step 4: Parse HTML\n",
    "soup = BeautifulSoup(driver.page_source, \"html.parser\")\n",
    "\n",
    "# Step 5: Get all job cards with dynamic class\n",
    "job_cards = soup.find_all(\"div\", class_=lambda c: c and \"style_card\" in c)\n",
    "\n",
    "print(f\"✅ Found {len(job_cards)} job(s).\")\n",
    "\n",
    "# Step 6: Print basic info\n",
    "for i, card in enumerate(job_cards, 1):\n",
    "    title_tag = card.find(\"h3\") or card.find(\"a\")\n",
    "    print(f\"{i}. {title_tag.get_text(strip=True) if title_tag else 'No title'}\")\n",
    "\n",
    "driver.quit()\n"
   ]
  },
  {
   "cell_type": "code",
   "execution_count": null,
   "id": "9a040291-71bb-4b82-b8f3-be0d4a18e793",
   "metadata": {},
   "outputs": [],
   "source": []
  }
 ],
 "metadata": {
  "kernelspec": {
   "display_name": "Python 3 (ipykernel)",
   "language": "python",
   "name": "python3"
  },
  "language_info": {
   "codemirror_mode": {
    "name": "ipython",
    "version": 3
   },
   "file_extension": ".py",
   "mimetype": "text/x-python",
   "name": "python",
   "nbconvert_exporter": "python",
   "pygments_lexer": "ipython3",
   "version": "3.12.7"
  }
 },
 "nbformat": 4,
 "nbformat_minor": 5
}
