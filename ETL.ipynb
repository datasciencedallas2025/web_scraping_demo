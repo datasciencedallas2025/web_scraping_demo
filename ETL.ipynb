{
 "cells": [
  {
   "cell_type": "code",
   "execution_count": 18,
   "id": "c5c30ee2-8002-4eb0-b590-d822ed5958ae",
   "metadata": {},
   "outputs": [],
   "source": [
    "from datetime import datetime"
   ]
  },
  {
   "cell_type": "code",
   "execution_count": 3,
   "id": "053ffe2b-a43c-4b7e-8e40-9c0c1fea44da",
   "metadata": {},
   "outputs": [
    {
     "name": "stdout",
     "output_type": "stream",
     "text": [
      "                          Title          Date Rating  \\\n",
      "0                       Pac-Man   Aug 9, 2006      E   \n",
      "1                 Kinect Sports   Jun 6, 2017   E10+   \n",
      "2              Metal Gear Solid  Jun 21, 2024      M   \n",
      "3  Monster Hunter Freedom Unite  Sep 12, 2006   E10+   \n",
      "4       The Simpsons: Hit & Run   Jul 5, 2010      T   \n",
      "\n",
      "                                         Description                    Score  \\\n",
      "0  [Xbox Live Arcade]  Play one of the all-time c...  Metascore 62 out of 100   \n",
      "1  This action sports compilation for the Xbox 36...  Metascore 73 out of 100   \n",
      "2  You are Snake, a government agent on a mission...  Metascore 94 out of 100   \n",
      "3  The Monster Hunter world is always changing an...  Metascore 81 out of 100   \n",
      "4  The Simpsons Hit & Run is a mission-based driv...  Metascore 78 out of 100   \n",
      "\n",
      "   Rank                          Name Platform    Year         Genre  \\\n",
      "0    90                       Pac-Man     2600  1982.0        Puzzle   \n",
      "1   140                 Kinect Sports     X360  2010.0        Sports   \n",
      "2   146              Metal Gear Solid       PS  1998.0        Action   \n",
      "3   162  Monster Hunter Freedom Unite      PSP  2008.0  Role-Playing   \n",
      "4   225       The Simpsons: Hit & Run      PS2  2003.0        Racing   \n",
      "\n",
      "                      Publisher  NA_Sales  EU_Sales  JP_Sales  Other_Sales  \\\n",
      "0                         Atari      7.28      0.45      0.00         0.08   \n",
      "1        Microsoft Game Studios      3.92      1.78      0.03         0.51   \n",
      "2  Konami Digital Entertainment      3.18      1.83      0.78         0.24   \n",
      "3                        Capcom      0.47      0.57      4.13         0.34   \n",
      "4                 Vivendi Games      1.73      2.19      0.00         0.79   \n",
      "\n",
      "   Global_Sales  \n",
      "0          7.81  \n",
      "1          6.24  \n",
      "2          6.03  \n",
      "3          5.50  \n",
      "4          4.70  \n"
     ]
    }
   ],
   "source": [
    "import pandas as pd\n",
    "\n",
    "# Replace 'file.csv' with your actual file path\n",
    "df = pd.read_csv('Output_C.csv')\n",
    "\n",
    "# Preview the first 5 rows\n",
    "print(df.head())"
   ]
  },
  {
   "cell_type": "code",
   "execution_count": 4,
   "id": "de333e98-421b-4aaf-85ba-c19161e7e8c0",
   "metadata": {},
   "outputs": [
    {
     "data": {
      "text/plain": [
       "Index(['Title', 'Date', 'Rating', 'Description', 'Score', 'Rank', 'Name',\n",
       "       'Platform', 'Year', 'Genre', 'Publisher', 'NA_Sales', 'EU_Sales',\n",
       "       'JP_Sales', 'Other_Sales', 'Global_Sales'],\n",
       "      dtype='object')"
      ]
     },
     "execution_count": 4,
     "metadata": {},
     "output_type": "execute_result"
    }
   ],
   "source": [
    "df.columns"
   ]
  },
  {
   "cell_type": "code",
   "execution_count": 5,
   "id": "96ade712-33a0-4f0a-96b1-5efaea426cff",
   "metadata": {},
   "outputs": [
    {
     "name": "stdout",
     "output_type": "stream",
     "text": [
      "                          Title          Date Rating  \\\n",
      "0                       Pac-Man   Aug 9, 2006      E   \n",
      "1                 Kinect Sports   Jun 6, 2017   E10+   \n",
      "2              Metal Gear Solid  Jun 21, 2024      M   \n",
      "3  Monster Hunter Freedom Unite  Sep 12, 2006   E10+   \n",
      "4       The Simpsons: Hit & Run   Jul 5, 2010      T   \n",
      "\n",
      "                                         Description                    Score  \\\n",
      "0  [Xbox Live Arcade]  Play one of the all-time c...  Metascore 62 out of 100   \n",
      "1  This action sports compilation for the Xbox 36...  Metascore 73 out of 100   \n",
      "2  You are Snake, a government agent on a mission...  Metascore 94 out of 100   \n",
      "3  The Monster Hunter world is always changing an...  Metascore 81 out of 100   \n",
      "4  The Simpsons Hit & Run is a mission-based driv...  Metascore 78 out of 100   \n",
      "\n",
      "          Genre  \n",
      "0        Puzzle  \n",
      "1        Sports  \n",
      "2        Action  \n",
      "3  Role-Playing  \n",
      "4        Racing  \n"
     ]
    }
   ],
   "source": [
    "selected_columns = ['Title', 'Date', 'Rating','Description','Score','Genre']  # Replace with your actual column names\n",
    "\n",
    "game_df = df[selected_columns]\n",
    "\n",
    "print(game_df.head())"
   ]
  },
  {
   "cell_type": "code",
   "execution_count": 6,
   "id": "fdece5d7-223e-403b-83d1-811d32a96441",
   "metadata": {},
   "outputs": [
    {
     "name": "stdout",
     "output_type": "stream",
     "text": [
      "  Platform\n",
      "0     2600\n",
      "1     X360\n",
      "2       PS\n",
      "3      PSP\n",
      "4      PS2\n"
     ]
    }
   ],
   "source": [
    "selected_columns = ['Platform']  # Replace with your actual column names\n",
    "\n",
    "platform_df = df[selected_columns]\n",
    "\n",
    "print(platform_df.head())"
   ]
  },
  {
   "cell_type": "code",
   "execution_count": 25,
   "id": "188c6a20-6288-4e0e-a4ed-ff8d7600f492",
   "metadata": {},
   "outputs": [
    {
     "name": "stdout",
     "output_type": "stream",
     "text": [
      "<class 'pandas.core.frame.DataFrame'>\n",
      "RangeIndex: 88 entries, 0 to 87\n",
      "Data columns (total 1 columns):\n",
      " #   Column    Non-Null Count  Dtype \n",
      "---  ------    --------------  ----- \n",
      " 0   Platform  88 non-null     object\n",
      "dtypes: object(1)\n",
      "memory usage: 836.0+ bytes\n"
     ]
    }
   ],
   "source": [
    "platform_df.info()"
   ]
  },
  {
   "cell_type": "code",
   "execution_count": 7,
   "id": "a2260bfb-f988-492c-a3e7-ec6db41b7391",
   "metadata": {},
   "outputs": [
    {
     "name": "stdout",
     "output_type": "stream",
     "text": [
      "  Platform\n",
      "0     2600\n",
      "1     X360\n",
      "2       PS\n",
      "3      PSP\n",
      "4      PS2\n"
     ]
    }
   ],
   "source": [
    "selected_columns = ['Publisher']  # Replace with your actual column names\n",
    "\n",
    "publisher_df = df[selected_columns]\n",
    "\n",
    "print(platform_df.head())"
   ]
  },
  {
   "cell_type": "code",
   "execution_count": 26,
   "id": "1ee397e7-8271-4c38-bbe7-368e368dd702",
   "metadata": {},
   "outputs": [
    {
     "name": "stdout",
     "output_type": "stream",
     "text": [
      "<class 'pandas.core.frame.DataFrame'>\n",
      "RangeIndex: 88 entries, 0 to 87\n",
      "Data columns (total 1 columns):\n",
      " #   Column     Non-Null Count  Dtype \n",
      "---  ------     --------------  ----- \n",
      " 0   Publisher  88 non-null     object\n",
      "dtypes: object(1)\n",
      "memory usage: 836.0+ bytes\n"
     ]
    }
   ],
   "source": [
    "publisher_df.info()"
   ]
  },
  {
   "cell_type": "code",
   "execution_count": 8,
   "id": "ac903e94-8e16-4078-b988-9f03923431ff",
   "metadata": {},
   "outputs": [
    {
     "name": "stdout",
     "output_type": "stream",
     "text": [
      "   NA_Sales  EU_Sales  JP_Sales  Other_Sales  Global_Sales\n",
      "0      7.28      0.45      0.00         0.08          7.81\n",
      "1      3.92      1.78      0.03         0.51          6.24\n",
      "2      3.18      1.83      0.78         0.24          6.03\n",
      "3      0.47      0.57      4.13         0.34          5.50\n",
      "4      1.73      2.19      0.00         0.79          4.70\n"
     ]
    }
   ],
   "source": [
    "selected_columns = ['NA_Sales','EU_Sales','JP_Sales','Other_Sales','Global_Sales']  # Replace with your actual column names\n",
    "\n",
    "sales_df = df[selected_columns]\n",
    "\n",
    "print(sales_df.head())"
   ]
  },
  {
   "cell_type": "code",
   "execution_count": 28,
   "id": "b6ae8ead-745e-47b2-8f66-768fbb9a0ac0",
   "metadata": {},
   "outputs": [
    {
     "name": "stdout",
     "output_type": "stream",
     "text": [
      "<class 'pandas.core.frame.DataFrame'>\n",
      "RangeIndex: 88 entries, 0 to 87\n",
      "Data columns (total 5 columns):\n",
      " #   Column        Non-Null Count  Dtype  \n",
      "---  ------        --------------  -----  \n",
      " 0   NA_Sales      88 non-null     float64\n",
      " 1   EU_Sales      88 non-null     float64\n",
      " 2   JP_Sales      88 non-null     float64\n",
      " 3   Other_Sales   88 non-null     float64\n",
      " 4   Global_Sales  88 non-null     float64\n",
      "dtypes: float64(5)\n",
      "memory usage: 3.6 KB\n"
     ]
    }
   ],
   "source": [
    "sales_df.info()"
   ]
  },
  {
   "cell_type": "code",
   "execution_count": 9,
   "id": "c2148ae2-ba4f-460f-81a6-441151484798",
   "metadata": {},
   "outputs": [
    {
     "name": "stdout",
     "output_type": "stream",
     "text": [
      "<class 'pandas.core.frame.DataFrame'>\n",
      "RangeIndex: 88 entries, 0 to 87\n",
      "Data columns (total 6 columns):\n",
      " #   Column       Non-Null Count  Dtype \n",
      "---  ------       --------------  ----- \n",
      " 0   Title        88 non-null     object\n",
      " 1   Date         88 non-null     object\n",
      " 2   Rating       88 non-null     object\n",
      " 3   Description  88 non-null     object\n",
      " 4   Score        88 non-null     object\n",
      " 5   Genre        88 non-null     object\n",
      "dtypes: object(6)\n",
      "memory usage: 4.3+ KB\n"
     ]
    }
   ],
   "source": [
    "game_df.info()"
   ]
  },
  {
   "cell_type": "code",
   "execution_count": 12,
   "id": "eb2e01f0-f500-41d8-8f1e-8da00f86516a",
   "metadata": {},
   "outputs": [
    {
     "name": "stderr",
     "output_type": "stream",
     "text": [
      "/var/folders/9j/ck4ghkj915q59nnl_d5wvg4h0000gn/T/ipykernel_1328/1070738680.py:1: SettingWithCopyWarning: \n",
      "A value is trying to be set on a copy of a slice from a DataFrame.\n",
      "Try using .loc[row_indexer,col_indexer] = value instead\n",
      "\n",
      "See the caveats in the documentation: https://pandas.pydata.org/pandas-docs/stable/user_guide/indexing.html#returning-a-view-versus-a-copy\n",
      "  game_df['Score'] = game_df['Score'].str.extract(r'(\\d+)').astype(int)\n"
     ]
    }
   ],
   "source": [
    "game_df['Score'] = game_df['Score'].str.extract(r'(\\d+)').astype(int)"
   ]
  },
  {
   "cell_type": "code",
   "execution_count": 15,
   "id": "c9f4b2c0-6850-4d66-9b7b-6de40fa2ffa1",
   "metadata": {},
   "outputs": [
    {
     "data": {
      "text/html": [
       "<div>\n",
       "<style scoped>\n",
       "    .dataframe tbody tr th:only-of-type {\n",
       "        vertical-align: middle;\n",
       "    }\n",
       "\n",
       "    .dataframe tbody tr th {\n",
       "        vertical-align: top;\n",
       "    }\n",
       "\n",
       "    .dataframe thead th {\n",
       "        text-align: right;\n",
       "    }\n",
       "</style>\n",
       "<table border=\"1\" class=\"dataframe\">\n",
       "  <thead>\n",
       "    <tr style=\"text-align: right;\">\n",
       "      <th></th>\n",
       "      <th>Title</th>\n",
       "      <th>Date</th>\n",
       "      <th>Rating</th>\n",
       "      <th>Description</th>\n",
       "      <th>Score</th>\n",
       "      <th>Genre</th>\n",
       "    </tr>\n",
       "  </thead>\n",
       "  <tbody>\n",
       "    <tr>\n",
       "      <th>0</th>\n",
       "      <td>Pac-Man</td>\n",
       "      <td>Aug 9, 2006</td>\n",
       "      <td>E</td>\n",
       "      <td>[Xbox Live Arcade]  Play one of the all-time c...</td>\n",
       "      <td>62</td>\n",
       "      <td>Puzzle</td>\n",
       "    </tr>\n",
       "    <tr>\n",
       "      <th>1</th>\n",
       "      <td>Kinect Sports</td>\n",
       "      <td>Jun 6, 2017</td>\n",
       "      <td>E10+</td>\n",
       "      <td>This action sports compilation for the Xbox 36...</td>\n",
       "      <td>73</td>\n",
       "      <td>Sports</td>\n",
       "    </tr>\n",
       "    <tr>\n",
       "      <th>2</th>\n",
       "      <td>Metal Gear Solid</td>\n",
       "      <td>Jun 21, 2024</td>\n",
       "      <td>M</td>\n",
       "      <td>You are Snake, a government agent on a mission...</td>\n",
       "      <td>94</td>\n",
       "      <td>Action</td>\n",
       "    </tr>\n",
       "    <tr>\n",
       "      <th>3</th>\n",
       "      <td>Monster Hunter Freedom Unite</td>\n",
       "      <td>Sep 12, 2006</td>\n",
       "      <td>E10+</td>\n",
       "      <td>The Monster Hunter world is always changing an...</td>\n",
       "      <td>81</td>\n",
       "      <td>Role-Playing</td>\n",
       "    </tr>\n",
       "    <tr>\n",
       "      <th>4</th>\n",
       "      <td>The Simpsons: Hit &amp; Run</td>\n",
       "      <td>Jul 5, 2010</td>\n",
       "      <td>T</td>\n",
       "      <td>The Simpsons Hit &amp; Run is a mission-based driv...</td>\n",
       "      <td>78</td>\n",
       "      <td>Racing</td>\n",
       "    </tr>\n",
       "    <tr>\n",
       "      <th>...</th>\n",
       "      <td>...</td>\n",
       "      <td>...</td>\n",
       "      <td>...</td>\n",
       "      <td>...</td>\n",
       "      <td>...</td>\n",
       "      <td>...</td>\n",
       "    </tr>\n",
       "    <tr>\n",
       "      <th>83</th>\n",
       "      <td>MySims Agents</td>\n",
       "      <td>Jul 13, 2017</td>\n",
       "      <td>E</td>\n",
       "      <td>In MySims Agents players take on the role of a...</td>\n",
       "      <td>78</td>\n",
       "      <td>Adventure</td>\n",
       "    </tr>\n",
       "    <tr>\n",
       "      <th>84</th>\n",
       "      <td>Legacy of Kain: Soul Reaver</td>\n",
       "      <td>Mar 2, 2004</td>\n",
       "      <td>M</td>\n",
       "      <td>Cast down to the material world, the mysteriou...</td>\n",
       "      <td>91</td>\n",
       "      <td>Action</td>\n",
       "    </tr>\n",
       "    <tr>\n",
       "      <th>85</th>\n",
       "      <td>Ninja Gaiden II</td>\n",
       "      <td>Dec 1, 2022</td>\n",
       "      <td>E</td>\n",
       "      <td>(Also known as \"Ninja Gaiden 2\")  In Ninja Gai...</td>\n",
       "      <td>81</td>\n",
       "      <td>Action</td>\n",
       "    </tr>\n",
       "    <tr>\n",
       "      <th>86</th>\n",
       "      <td>Prince of Persia</td>\n",
       "      <td>Jun 3, 2002</td>\n",
       "      <td>E</td>\n",
       "      <td>Set in a land rooted in ancient Persian mythol...</td>\n",
       "      <td>81</td>\n",
       "      <td>Action</td>\n",
       "    </tr>\n",
       "    <tr>\n",
       "      <th>87</th>\n",
       "      <td>Disney Infinity</td>\n",
       "      <td>May 14, 2002</td>\n",
       "      <td>M</td>\n",
       "      <td>In Disney's most ambitious video game initiati...</td>\n",
       "      <td>74</td>\n",
       "      <td>Action</td>\n",
       "    </tr>\n",
       "  </tbody>\n",
       "</table>\n",
       "<p>88 rows × 6 columns</p>\n",
       "</div>"
      ],
      "text/plain": [
       "                           Title          Date Rating  \\\n",
       "0                        Pac-Man   Aug 9, 2006      E   \n",
       "1                  Kinect Sports   Jun 6, 2017   E10+   \n",
       "2               Metal Gear Solid  Jun 21, 2024      M   \n",
       "3   Monster Hunter Freedom Unite  Sep 12, 2006   E10+   \n",
       "4        The Simpsons: Hit & Run   Jul 5, 2010      T   \n",
       "..                           ...           ...    ...   \n",
       "83                 MySims Agents  Jul 13, 2017      E   \n",
       "84   Legacy of Kain: Soul Reaver   Mar 2, 2004      M   \n",
       "85               Ninja Gaiden II   Dec 1, 2022      E   \n",
       "86              Prince of Persia   Jun 3, 2002      E   \n",
       "87               Disney Infinity  May 14, 2002      M   \n",
       "\n",
       "                                          Description  Score         Genre  \n",
       "0   [Xbox Live Arcade]  Play one of the all-time c...     62        Puzzle  \n",
       "1   This action sports compilation for the Xbox 36...     73        Sports  \n",
       "2   You are Snake, a government agent on a mission...     94        Action  \n",
       "3   The Monster Hunter world is always changing an...     81  Role-Playing  \n",
       "4   The Simpsons Hit & Run is a mission-based driv...     78        Racing  \n",
       "..                                                ...    ...           ...  \n",
       "83  In MySims Agents players take on the role of a...     78     Adventure  \n",
       "84  Cast down to the material world, the mysteriou...     91        Action  \n",
       "85  (Also known as \"Ninja Gaiden 2\")  In Ninja Gai...     81        Action  \n",
       "86  Set in a land rooted in ancient Persian mythol...     81        Action  \n",
       "87  In Disney's most ambitious video game initiati...     74        Action  \n",
       "\n",
       "[88 rows x 6 columns]"
      ]
     },
     "execution_count": 15,
     "metadata": {},
     "output_type": "execute_result"
    }
   ],
   "source": [
    "game_df"
   ]
  },
  {
   "cell_type": "code",
   "execution_count": 21,
   "id": "ee4e7ec1-a105-4fc8-b09f-d986ddb10c9e",
   "metadata": {},
   "outputs": [],
   "source": [
    "game_df2 = game_df.astype({\n",
    "    'Title': 'str',\n",
    "    'Date': 'str',\n",
    "    'Rating':'str',\n",
    "    'Description':'str',\n",
    "    'Score':'int'\n",
    "})"
   ]
  },
  {
   "cell_type": "code",
   "execution_count": 22,
   "id": "f869c7a4-57c9-4691-be3b-28536fbec05e",
   "metadata": {},
   "outputs": [],
   "source": [
    "game_df2['Date'] = pd.to_datetime(game_df2['Date'])"
   ]
  },
  {
   "cell_type": "code",
   "execution_count": 24,
   "id": "54e6af0a-ba9a-4dd8-8138-9e9a19e032a1",
   "metadata": {},
   "outputs": [
    {
     "name": "stdout",
     "output_type": "stream",
     "text": [
      "<class 'pandas.core.frame.DataFrame'>\n",
      "RangeIndex: 88 entries, 0 to 87\n",
      "Data columns (total 6 columns):\n",
      " #   Column       Non-Null Count  Dtype         \n",
      "---  ------       --------------  -----         \n",
      " 0   Title        88 non-null     object        \n",
      " 1   Date         88 non-null     datetime64[ns]\n",
      " 2   Rating       88 non-null     object        \n",
      " 3   Description  88 non-null     object        \n",
      " 4   Score        88 non-null     int64         \n",
      " 5   Genre        88 non-null     object        \n",
      "dtypes: datetime64[ns](1), int64(1), object(4)\n",
      "memory usage: 4.3+ KB\n"
     ]
    }
   ],
   "source": [
    "game_df2.info()"
   ]
  },
  {
   "cell_type": "code",
   "execution_count": null,
   "id": "b4399b21-9ddf-43ef-8289-1bca3d37c80e",
   "metadata": {},
   "outputs": [],
   "source": []
  },
  {
   "cell_type": "code",
   "execution_count": 10,
   "id": "97202429-6701-4067-92b2-591431c9c273",
   "metadata": {},
   "outputs": [
    {
     "ename": "AttributeError",
     "evalue": "'DataFrame' object has no attribute 'dtype'",
     "output_type": "error",
     "traceback": [
      "\u001b[0;31m---------------------------------------------------------------------------\u001b[0m",
      "\u001b[0;31mAttributeError\u001b[0m                            Traceback (most recent call last)",
      "\u001b[0;32m/var/folders/9j/ck4ghkj915q59nnl_d5wvg4h0000gn/T/ipykernel_1328/301536625.py\u001b[0m in \u001b[0;36m?\u001b[0;34m()\u001b[0m\n\u001b[0;32m----> 1\u001b[0;31m \u001b[0mgame_df\u001b[0m\u001b[0;34m.\u001b[0m\u001b[0mdtype\u001b[0m\u001b[0;34m\u001b[0m\u001b[0;34m\u001b[0m\u001b[0m\n\u001b[0m",
      "\u001b[0;32m/Applications/anaconda3/lib/python3.12/site-packages/pandas/core/generic.py\u001b[0m in \u001b[0;36m?\u001b[0;34m(self, name)\u001b[0m\n\u001b[1;32m   6295\u001b[0m             \u001b[0;32mand\u001b[0m \u001b[0mname\u001b[0m \u001b[0;32mnot\u001b[0m \u001b[0;32min\u001b[0m \u001b[0mself\u001b[0m\u001b[0;34m.\u001b[0m\u001b[0m_accessors\u001b[0m\u001b[0;34m\u001b[0m\u001b[0;34m\u001b[0m\u001b[0m\n\u001b[1;32m   6296\u001b[0m             \u001b[0;32mand\u001b[0m \u001b[0mself\u001b[0m\u001b[0;34m.\u001b[0m\u001b[0m_info_axis\u001b[0m\u001b[0;34m.\u001b[0m\u001b[0m_can_hold_identifiers_and_holds_name\u001b[0m\u001b[0;34m(\u001b[0m\u001b[0mname\u001b[0m\u001b[0;34m)\u001b[0m\u001b[0;34m\u001b[0m\u001b[0;34m\u001b[0m\u001b[0m\n\u001b[1;32m   6297\u001b[0m         \u001b[0;34m)\u001b[0m\u001b[0;34m:\u001b[0m\u001b[0;34m\u001b[0m\u001b[0;34m\u001b[0m\u001b[0m\n\u001b[1;32m   6298\u001b[0m             \u001b[0;32mreturn\u001b[0m \u001b[0mself\u001b[0m\u001b[0;34m[\u001b[0m\u001b[0mname\u001b[0m\u001b[0;34m]\u001b[0m\u001b[0;34m\u001b[0m\u001b[0;34m\u001b[0m\u001b[0m\n\u001b[0;32m-> 6299\u001b[0;31m         \u001b[0;32mreturn\u001b[0m \u001b[0mobject\u001b[0m\u001b[0;34m.\u001b[0m\u001b[0m__getattribute__\u001b[0m\u001b[0;34m(\u001b[0m\u001b[0mself\u001b[0m\u001b[0;34m,\u001b[0m \u001b[0mname\u001b[0m\u001b[0;34m)\u001b[0m\u001b[0;34m\u001b[0m\u001b[0;34m\u001b[0m\u001b[0m\n\u001b[0m",
      "\u001b[0;31mAttributeError\u001b[0m: 'DataFrame' object has no attribute 'dtype'"
     ]
    }
   ],
   "source": [
    "game_df.dtype"
   ]
  },
  {
   "cell_type": "code",
   "execution_count": null,
   "id": "6bd0d4bc-8400-486b-b683-c492b5f306f5",
   "metadata": {},
   "outputs": [],
   "source": []
  },
  {
   "cell_type": "code",
   "execution_count": 29,
   "id": "30c4e21e-2878-40d7-ba2f-2cac0fc284f2",
   "metadata": {},
   "outputs": [],
   "source": [
    "game_df2.to_csv('games.csv', index=False)"
   ]
  },
  {
   "cell_type": "code",
   "execution_count": 30,
   "id": "5062dbb2-3afc-4a41-b57d-8d2782ed643e",
   "metadata": {},
   "outputs": [],
   "source": [
    "platform_df.to_csv('platform.csv', index=False)"
   ]
  },
  {
   "cell_type": "code",
   "execution_count": 31,
   "id": "ccae3fdc-b225-4437-a958-68583719f934",
   "metadata": {},
   "outputs": [],
   "source": [
    "publisher_df.to_csv('publisher.csv', index=False)"
   ]
  },
  {
   "cell_type": "code",
   "execution_count": 32,
   "id": "e0b17fb5-0ca1-4a11-a52c-307b06f107b2",
   "metadata": {},
   "outputs": [],
   "source": [
    "sales_df.to_csv('sales.csv', index=False)"
   ]
  },
  {
   "cell_type": "code",
   "execution_count": null,
   "id": "0970e657-84ed-45ce-8799-74ecb5e4ca6c",
   "metadata": {},
   "outputs": [],
   "source": []
  }
 ],
 "metadata": {
  "kernelspec": {
   "display_name": "Python 3 (ipykernel)",
   "language": "python",
   "name": "python3"
  },
  "language_info": {
   "codemirror_mode": {
    "name": "ipython",
    "version": 3
   },
   "file_extension": ".py",
   "mimetype": "text/x-python",
   "name": "python",
   "nbconvert_exporter": "python",
   "pygments_lexer": "ipython3",
   "version": "3.12.7"
  }
 },
 "nbformat": 4,
 "nbformat_minor": 5
}
