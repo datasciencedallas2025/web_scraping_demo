{
 "cells": [
  {
   "cell_type": "code",
   "execution_count": 1,
   "id": "aeeb45e3-05b3-4012-aaa6-9be6ba833095",
   "metadata": {},
   "outputs": [
    {
     "name": "stdout",
     "output_type": "stream",
     "text": [
      "Empty DataFrame\n",
      "Columns: []\n",
      "Index: []\n"
     ]
    }
   ],
   "source": [
    "import requests\n",
    "from bs4 import BeautifulSoup\n",
    "import pandas as pd\n",
    "import sqlite3\n",
    "import time\n",
    "\n",
    "# Headers to avoid 403 error\n",
    "headers = {\n",
    "    \"User-Agent\": \"Mozilla/5.0\"\n",
    "}\n",
    "\n",
    "base_url = \"https://www.metacritic.com/browse/games/release-date/available/all/date\"\n",
    "game_data = []\n",
    "\n",
    "for page in range(0, 5):  # Scrape first 5 pages\n",
    "    url = f\"{base_url}?page={page}\"\n",
    "    response = requests.get(url, headers=headers)\n",
    "    soup = BeautifulSoup(response.text, 'html.parser')\n",
    "\n",
    "    games = soup.find_all(\"td\", class_=\"clamp-summary-wrap\")\n",
    "\n",
    "    for game in games:\n",
    "        title = game.find(\"a\", class_=\"title\").get_text(strip=True)\n",
    "        platform = game.find(\"div\", class_=\"clamp-details\").find_all(\"span\")[1].get_text(strip=True)\n",
    "        release_date = game.find(\"div\", class_=\"clamp-details\").find_all(\"span\")[2].get_text(strip=True)\n",
    "        summary = game.find(\"div\", class_=\"summary\").get_text(strip=True)\n",
    "\n",
    "        game_data.append({\n",
    "            \"title\": title,\n",
    "            \"platform\": platform,\n",
    "            \"release_date\": release_date,\n",
    "            \"summary\": summary\n",
    "        })\n",
    "\n",
    "    time.sleep(1)  # Be polite to the server\n",
    "\n",
    "df = pd.DataFrame(game_data)\n",
    "print(df.head())\n"
   ]
  },
  {
   "cell_type": "code",
   "execution_count": 1,
   "id": "478e9836-d0a4-4217-9490-077cb7f936e0",
   "metadata": {},
   "outputs": [],
   "source": [
    "import csv\n",
    "from datetime import datetime\n",
    "import requests\n",
    "from bs4 import BeautifulSoup"
   ]
  },
  {
   "cell_type": "code",
   "execution_count": 2,
   "id": "01e820bd-0dfb-4058-9b85-02cafc53d538",
   "metadata": {},
   "outputs": [],
   "source": [
    "def get_url (min, max, genre):\n",
    "    template = 'https://www.metacritic.com/browse/game/all/action-adventure/all-time/metascore/?releaseYearMin={}&releaseYearMax={}&genre={}'\n",
    "    url = template.format(min, max, genre)\n",
    "    return url"
   ]
  },
  {
   "cell_type": "code",
   "execution_count": 3,
   "id": "1dfd3149-2fa6-476b-b423-4c220516327a",
   "metadata": {},
   "outputs": [],
   "source": [
    "url = get_url(1995, 2000, 'adventure')"
   ]
  },
  {
   "cell_type": "code",
   "execution_count": 4,
   "id": "575f3a55-f3b6-48d2-be93-c6d26cecf3d4",
   "metadata": {},
   "outputs": [],
   "source": [
    "headers = {\n",
    "    \"User-Agent\": \"Mozilla/5.0 (Windows NT 10.0; Win64; x64) AppleWebKit/537.36 (KHTML, like Gecko) Chrome/120.0.0.0 Safari/537.36\"\n",
    "}"
   ]
  },
  {
   "cell_type": "code",
   "execution_count": 5,
   "id": "5525c420-67b0-409a-8f7d-8aa7f1354e46",
   "metadata": {},
   "outputs": [],
   "source": [
    "response = requests.get(url, headers=headers)"
   ]
  },
  {
   "cell_type": "code",
   "execution_count": 6,
   "id": "ef43984a-ca42-4e7c-b92d-1fd5b2a2c949",
   "metadata": {},
   "outputs": [
    {
     "data": {
      "text/plain": [
       "<Response [200]>"
      ]
     },
     "execution_count": 6,
     "metadata": {},
     "output_type": "execute_result"
    }
   ],
   "source": [
    "response"
   ]
  },
  {
   "cell_type": "code",
   "execution_count": 7,
   "id": "abd74589-bc16-4b98-b5bd-4ec07a9b38ff",
   "metadata": {},
   "outputs": [
    {
     "data": {
      "text/plain": [
       "'OK'"
      ]
     },
     "execution_count": 7,
     "metadata": {},
     "output_type": "execute_result"
    }
   ],
   "source": [
    "response.reason"
   ]
  },
  {
   "cell_type": "code",
   "execution_count": 23,
   "id": "7dbfeb82-fd88-45f8-8066-85893d0ea185",
   "metadata": {},
   "outputs": [],
   "source": [
    "soup = BeautifulSoup(response.text, 'html.parser')"
   ]
  },
  {
   "cell_type": "code",
   "execution_count": 24,
   "id": "df753dc3-76bb-4365-ae9f-c76fe318909f",
   "metadata": {},
   "outputs": [],
   "source": [
    "titles = soup.find_all('div','c-finderProductCard_title')"
   ]
  },
  {
   "cell_type": "code",
   "execution_count": 25,
   "id": "839556e9-8d28-4def-a59c-d8136ab6b348",
   "metadata": {},
   "outputs": [
    {
     "data": {
      "text/plain": [
       "6"
      ]
     },
     "execution_count": 25,
     "metadata": {},
     "output_type": "execute_result"
    }
   ],
   "source": [
    "len(titles)"
   ]
  },
  {
   "cell_type": "code",
   "execution_count": 26,
   "id": "695bc451-ee99-43d0-bfb4-de08361be9ea",
   "metadata": {},
   "outputs": [
    {
     "name": "stdout",
     "output_type": "stream",
     "text": [
      "[<div class=\"c-finderProductCard_title\" data-title=\"The Devil Inside\"><h3 class=\"c-finderProductCard_titleHeading\"><span>1.</span> <span>The Devil Inside</span></h3></div>, <div class=\"c-finderProductCard_title\" data-title=\"Bad Mojo\"><h3 class=\"c-finderProductCard_titleHeading\"><span>2.</span> <span>Bad Mojo</span></h3></div>, <div class=\"c-finderProductCard_title\" data-title=\"Riddle of the Sphinx: An Egyptian Adventure\"><h3 class=\"c-finderProductCard_titleHeading\"><span>3.</span> <span>Riddle of the Sphinx: An Egyptian Adventure</span></h3></div>, <div class=\"c-finderProductCard_title\" data-title=\"Traitors Gate\"><h3 class=\"c-finderProductCard_titleHeading\"><span>4.</span> <span>Traitors Gate</span></h3></div>, <div class=\"c-finderProductCard_title\" data-title=\"Of Light and Darkness: The Prophecy\"><h3 class=\"c-finderProductCard_titleHeading\"><span>5.</span> <span>Of Light and Darkness: The Prophecy</span></h3></div>, <div class=\"c-finderProductCard_title\" data-title=\"Seven Games of the Soul\"><h3 class=\"c-finderProductCard_titleHeading\"><span>6.</span> <span>Seven Games of the Soul</span></h3></div>]\n"
     ]
    }
   ],
   "source": [
    "print(titles)"
   ]
  },
  {
   "cell_type": "code",
   "execution_count": 27,
   "id": "b16ab2cf-928d-4840-913a-a189a9a4d31a",
   "metadata": {},
   "outputs": [],
   "source": [
    "title = titles[0]"
   ]
  },
  {
   "cell_type": "code",
   "execution_count": 28,
   "id": "aa4020d8-f702-4a75-9111-ebc64ce3138d",
   "metadata": {},
   "outputs": [
    {
     "data": {
      "text/plain": [
       "<div class=\"c-finderProductCard_title\" data-title=\"The Devil Inside\"><h3 class=\"c-finderProductCard_titleHeading\"><span>1.</span> <span>The Devil Inside</span></h3></div>"
      ]
     },
     "execution_count": 28,
     "metadata": {},
     "output_type": "execute_result"
    }
   ],
   "source": [
    "title"
   ]
  },
  {
   "cell_type": "code",
   "execution_count": 29,
   "id": "d23b8e48-3750-4358-921f-1049398d7e52",
   "metadata": {},
   "outputs": [],
   "source": [
    "htag = title.h3"
   ]
  },
  {
   "cell_type": "code",
   "execution_count": 30,
   "id": "61890240-7b0e-4c21-abd3-fd64e7f17134",
   "metadata": {},
   "outputs": [
    {
     "data": {
      "text/plain": [
       "<h3 class=\"c-finderProductCard_titleHeading\"><span>1.</span> <span>The Devil Inside</span></h3>"
      ]
     },
     "execution_count": 30,
     "metadata": {},
     "output_type": "execute_result"
    }
   ],
   "source": [
    "htag"
   ]
  },
  {
   "cell_type": "code",
   "execution_count": 31,
   "id": "7e93fb92-e719-44b3-a9c1-3ddc95ed94d5",
   "metadata": {},
   "outputs": [
    {
     "data": {
      "text/plain": [
       "'The Devil Inside'"
      ]
     },
     "execution_count": 31,
     "metadata": {},
     "output_type": "execute_result"
    }
   ],
   "source": [
    "title = htag.find_all(\"span\")[1].text.strip()\n",
    "title"
   ]
  },
  {
   "cell_type": "code",
   "execution_count": 21,
   "id": "428bf40d-b95e-4e4e-9923-f7802e2725ae",
   "metadata": {},
   "outputs": [
    {
     "data": {
      "text/plain": [
       "[<div class=\"c-finderProductCard_title\" data-title=\"The Devil Inside\"><h3 class=\"c-finderProductCard_titleHeading\"><span>1.</span> <span>The Devil Inside</span></h3></div>,\n",
       " <div class=\"c-finderProductCard_title\" data-title=\"Bad Mojo\"><h3 class=\"c-finderProductCard_titleHeading\"><span>2.</span> <span>Bad Mojo</span></h3></div>,\n",
       " <div class=\"c-finderProductCard_title\" data-title=\"Riddle of the Sphinx: An Egyptian Adventure\"><h3 class=\"c-finderProductCard_titleHeading\"><span>3.</span> <span>Riddle of the Sphinx: An Egyptian Adventure</span></h3></div>,\n",
       " <div class=\"c-finderProductCard_title\" data-title=\"Traitors Gate\"><h3 class=\"c-finderProductCard_titleHeading\"><span>4.</span> <span>Traitors Gate</span></h3></div>,\n",
       " <div class=\"c-finderProductCard_title\" data-title=\"Of Light and Darkness: The Prophecy\"><h3 class=\"c-finderProductCard_titleHeading\"><span>5.</span> <span>Of Light and Darkness: The Prophecy</span></h3></div>,\n",
       " <div class=\"c-finderProductCard_title\" data-title=\"Seven Games of the Soul\"><h3 class=\"c-finderProductCard_titleHeading\"><span>6.</span> <span>Seven Games of the Soul</span></h3></div>]"
      ]
     },
     "execution_count": 21,
     "metadata": {},
     "output_type": "execute_result"
    }
   ],
   "source": [
    "titles"
   ]
  },
  {
   "cell_type": "code",
   "execution_count": null,
   "id": "192fd7d1-5a4a-419d-be78-9a00c63d1ca6",
   "metadata": {},
   "outputs": [],
   "source": [
    "titles = []\n",
    "for div in title_divs[:6]:  # limit to first 6 titles\n",
    "    h3 = div.find(\"h3\")\n",
    "    spans = h3.find_all(\"span\")\n",
    "    if len(spans) > 1:\n",
    "        title = spans[1].text.strip()\n",
    "        titles.append(title)\n",
    "\n",
    "print(titles)"
   ]
  },
  {
   "cell_type": "code",
   "execution_count": 22,
   "id": "3387fd0f-46cd-4219-92ce-0825460e741f",
   "metadata": {},
   "outputs": [
    {
     "data": {
      "text/plain": [
       "<div class=\"c-finderProductCard_title\" data-title=\"The Devil Inside\"><h3 class=\"c-finderProductCard_titleHeading\"><span>1.</span> <span>The Devil Inside</span></h3></div>"
      ]
     },
     "execution_count": 22,
     "metadata": {},
     "output_type": "execute_result"
    }
   ],
   "source": [
    "titles[0]"
   ]
  },
  {
   "cell_type": "code",
   "execution_count": null,
   "id": "84918450-a78a-4c4c-923c-331ba2e2476d",
   "metadata": {},
   "outputs": [],
   "source": []
  },
  {
   "cell_type": "code",
   "execution_count": null,
   "id": "59ae16e7-db06-4afa-b5ca-6f52050f5899",
   "metadata": {},
   "outputs": [],
   "source": [
    "words = ['apple', 'banana', 'cherry']\n",
    "# Key = first letter, Value = word\n",
    "my_dict = {word[0]: word for word in words}\n",
    "print(my_dict)"
   ]
  },
  {
   "cell_type": "code",
   "execution_count": 32,
   "id": "aadf8bed-eb5b-41ac-9e8a-843617fc3bec",
   "metadata": {},
   "outputs": [
    {
     "name": "stdout",
     "output_type": "stream",
     "text": [
      "['The Devil Inside', 'The Devil Inside', 'The Devil Inside', 'The Devil Inside', 'The Devil Inside', 'The Devil Inside']\n"
     ]
    }
   ],
   "source": [
    "titles_a = []\n",
    "\n",
    "for i in range(len(titles)):  # limit to first 6 elements\n",
    "    title = htag.find_all(\"span\")[1].text.strip()\n",
    "    titles_a.append(title)\n",
    "\n",
    "print(titles_a)"
   ]
  },
  {
   "cell_type": "code",
   "execution_count": 33,
   "id": "5f37f631-11bd-49f0-80fa-99e507453f06",
   "metadata": {},
   "outputs": [
    {
     "name": "stdout",
     "output_type": "stream",
     "text": [
      "['The Devil Inside', 'Bad Mojo', 'Riddle of the Sphinx: An Egyptian Adventure', 'Traitors Gate', 'Of Light and Darkness: The Prophecy', 'Seven Games of the Soul']\n"
     ]
    }
   ],
   "source": [
    "titles_a = []\n",
    "\n",
    "for htag in titles:\n",
    "    title = htag.find_all(\"span\")[1].text.strip()\n",
    "    titles_a.append(title)\n",
    "\n",
    "print(titles_a)\n"
   ]
  },
  {
   "cell_type": "code",
   "execution_count": null,
   "id": "c244111f-6628-4d55-b704-b53824507012",
   "metadata": {},
   "outputs": [],
   "source": []
  },
  {
   "cell_type": "code",
   "execution_count": null,
   "id": "1b26f6d7-84e6-45a4-a17f-294ed7309057",
   "metadata": {},
   "outputs": [],
   "source": []
  },
  {
   "cell_type": "code",
   "execution_count": 35,
   "id": "f9eca0f4-d798-4a5f-a3f0-96e92a663800",
   "metadata": {},
   "outputs": [],
   "source": [
    "dates = soup.find_all('div','c-finderProductCard_meta')"
   ]
  },
  {
   "cell_type": "code",
   "execution_count": 26,
   "id": "d0a9e7c0-815d-4801-90c8-b104aed92999",
   "metadata": {},
   "outputs": [
    {
     "data": {
      "text/plain": [
       "12"
      ]
     },
     "execution_count": 26,
     "metadata": {},
     "output_type": "execute_result"
    }
   ],
   "source": [
    "len(dates)"
   ]
  },
  {
   "cell_type": "code",
   "execution_count": 27,
   "id": "9cdc2f76-32c6-4c79-b2ad-06c2bf241999",
   "metadata": {},
   "outputs": [],
   "source": [
    "date = dates[0]"
   ]
  },
  {
   "cell_type": "code",
   "execution_count": 28,
   "id": "f2a23bb3-e18f-48ed-af87-492ee543a317",
   "metadata": {},
   "outputs": [
    {
     "data": {
      "text/plain": [
       "<span class=\"u-text-uppercase\">\n",
       "          Nov 9, 2000\n",
       "        </span>"
      ]
     },
     "execution_count": 28,
     "metadata": {},
     "output_type": "execute_result"
    }
   ],
   "source": [
    "date.find('span','u-text-uppercase')"
   ]
  },
  {
   "cell_type": "code",
   "execution_count": 29,
   "id": "1856138b-bb62-4f00-9c25-e402db627c77",
   "metadata": {},
   "outputs": [
    {
     "name": "stdout",
     "output_type": "stream",
     "text": [
      "Nov 9, 2000\n"
     ]
    }
   ],
   "source": [
    "release_date = date.find('span', 'u-text-uppercase').text.strip()\n",
    "print(release_date)"
   ]
  },
  {
   "cell_type": "code",
   "execution_count": null,
   "id": "a8dced89-784a-4221-930f-fd9fd8514d0e",
   "metadata": {},
   "outputs": [],
   "source": []
  },
  {
   "cell_type": "code",
   "execution_count": 45,
   "id": "2e0273c4-115f-432a-918d-f2c801cbe28f",
   "metadata": {},
   "outputs": [
    {
     "data": {
      "text/plain": [
       "<div class=\"c-finderProductCard_meta\"><span class=\"u-text-uppercase\">\n",
       "          Nov 9, 2000\n",
       "        </span> <span>\n",
       "           • \n",
       "        </span> <span><span class=\"u-text-capitalize\">Rated</span> M\n",
       "        </span></div>"
      ]
     },
     "execution_count": 45,
     "metadata": {},
     "output_type": "execute_result"
    }
   ],
   "source": [
    "dates[0]"
   ]
  },
  {
   "cell_type": "code",
   "execution_count": 46,
   "id": "f51a2766-e8fd-4e4f-ac33-d051b4c3dc2c",
   "metadata": {},
   "outputs": [
    {
     "ename": "AttributeError",
     "evalue": "'NoneType' object has no attribute 'text'",
     "output_type": "error",
     "traceback": [
      "\u001b[0;31m---------------------------------------------------------------------------\u001b[0m",
      "\u001b[0;31mAttributeError\u001b[0m                            Traceback (most recent call last)",
      "Cell \u001b[0;32mIn[46], line 4\u001b[0m\n\u001b[1;32m      1\u001b[0m dates_a \u001b[38;5;241m=\u001b[39m []\n\u001b[1;32m      3\u001b[0m \u001b[38;5;28;01mfor\u001b[39;00m date \u001b[38;5;129;01min\u001b[39;00m dates:\n\u001b[0;32m----> 4\u001b[0m     i \u001b[38;5;241m=\u001b[39m date\u001b[38;5;241m.\u001b[39mfind(\u001b[38;5;124m'\u001b[39m\u001b[38;5;124mspan\u001b[39m\u001b[38;5;124m'\u001b[39m, \u001b[38;5;124m'\u001b[39m\u001b[38;5;124mu-text-uppercase\u001b[39m\u001b[38;5;124m'\u001b[39m)\u001b[38;5;241m.\u001b[39mtext\u001b[38;5;241m.\u001b[39mstrip()\n\u001b[1;32m      5\u001b[0m     dates_a\u001b[38;5;241m.\u001b[39mappend(i)\n\u001b[1;32m      7\u001b[0m \u001b[38;5;28mprint\u001b[39m(dates_a)\n",
      "\u001b[0;31mAttributeError\u001b[0m: 'NoneType' object has no attribute 'text'"
     ]
    }
   ],
   "source": [
    "dates_a = []\n",
    "\n",
    "for date in dates:\n",
    "    i = date.find('span', 'u-text-uppercase').text.strip()\n",
    "    dates_a.append(i)\n",
    "\n",
    "print(dates_a)"
   ]
  },
  {
   "cell_type": "code",
   "execution_count": null,
   "id": "c5f49393-1a81-4433-9e74-25b1b4358a73",
   "metadata": {},
   "outputs": [],
   "source": [
    "titles_a = []\n",
    "\n",
    "for htag in titles:\n",
    "    title = htag.find_all(\"span\")[1].text.strip()\n",
    "    titles_a.append(title)\n",
    "\n",
    "print(titles_a)"
   ]
  },
  {
   "cell_type": "code",
   "execution_count": 47,
   "id": "a5543f12-2f6d-46b1-8ee4-0b606048c97b",
   "metadata": {},
   "outputs": [
    {
     "name": "stdout",
     "output_type": "stream",
     "text": [
      "['Nov 9, 2000', None, 'Feb 29, 1996', None, 'Dec 5, 2000', None, 'Apr 30, 2000', None, 'Mar 31, 1998', None, 'Nov 30, 2000', None]\n"
     ]
    }
   ],
   "source": [
    "dates_a = []\n",
    "\n",
    "for date in dates:\n",
    "    span = date.find('span', class_='u-text-uppercase')\n",
    "    if span:  # check if span was found\n",
    "        i = span.text.strip()\n",
    "        dates_a.append(i)\n",
    "    else:\n",
    "        dates_a.append(None)  # or skip with `continue`\n",
    "\n",
    "print(dates_a)\n"
   ]
  },
  {
   "cell_type": "code",
   "execution_count": 48,
   "id": "cb2cea95-e310-4fe3-a0ea-47b10e4e1aac",
   "metadata": {},
   "outputs": [
    {
     "data": {
      "text/plain": [
       "['Nov 9, 2000',\n",
       " 'Feb 29, 1996',\n",
       " 'Dec 5, 2000',\n",
       " 'Apr 30, 2000',\n",
       " 'Mar 31, 1998',\n",
       " 'Nov 30, 2000']"
      ]
     },
     "execution_count": 48,
     "metadata": {},
     "output_type": "execute_result"
    }
   ],
   "source": [
    "clean_list = [x for x in dates_a if x is not None]\n",
    "clean_list"
   ]
  },
  {
   "cell_type": "code",
   "execution_count": null,
   "id": "d9e1ae18-4b18-4089-861c-e15e1debb388",
   "metadata": {},
   "outputs": [],
   "source": []
  },
  {
   "cell_type": "code",
   "execution_count": 59,
   "id": "3b512ac7-d6ca-4e37-8329-64d3e34e9495",
   "metadata": {},
   "outputs": [],
   "source": [
    "rates = soup.find_all('div','c-finderProductCard_meta')"
   ]
  },
  {
   "cell_type": "code",
   "execution_count": 60,
   "id": "507b7ef6-d6a2-4399-8c82-e62df5959fa9",
   "metadata": {},
   "outputs": [],
   "source": [
    "rate = rates[0]"
   ]
  },
  {
   "cell_type": "code",
   "execution_count": 61,
   "id": "30332dd7-5c74-4214-9667-407851bfa4cc",
   "metadata": {},
   "outputs": [
    {
     "data": {
      "text/plain": [
       "<span class=\"u-text-capitalize\">Rated</span>"
      ]
     },
     "execution_count": 61,
     "metadata": {},
     "output_type": "execute_result"
    }
   ],
   "source": [
    "rate.find('span','u-text-capitalize')"
   ]
  },
  {
   "cell_type": "code",
   "execution_count": 62,
   "id": "f095d551-4642-41c1-b747-76caae927eff",
   "metadata": {},
   "outputs": [
    {
     "data": {
      "text/plain": [
       "12"
      ]
     },
     "execution_count": 62,
     "metadata": {},
     "output_type": "execute_result"
    }
   ],
   "source": [
    "len(rates)"
   ]
  },
  {
   "cell_type": "code",
   "execution_count": 58,
   "id": "47ac2037-4abe-477c-9860-0adc5fa31f19",
   "metadata": {},
   "outputs": [
    {
     "data": {
      "text/plain": [
       "<div class=\"c-finderProductCard_meta\"><span class=\"u-text-uppercase\">\n",
       "          Nov 9, 2000\n",
       "        </span> <span>\n",
       "           • \n",
       "        </span> <span><span class=\"u-text-capitalize\">Rated</span> M\n",
       "        </span></div>"
      ]
     },
     "execution_count": 58,
     "metadata": {},
     "output_type": "execute_result"
    }
   ],
   "source": [
    "rates[0]"
   ]
  },
  {
   "cell_type": "code",
   "execution_count": null,
   "id": "937f2402-d709-4c16-99ff-5a5f6c494951",
   "metadata": {},
   "outputs": [],
   "source": []
  },
  {
   "cell_type": "code",
   "execution_count": 65,
   "id": "66bb9d84-ce96-41b5-ae82-468e915e22c6",
   "metadata": {},
   "outputs": [
    {
     "name": "stdout",
     "output_type": "stream",
     "text": [
      "['M', None, 'T', None, 'E', None, 'E', None, 'T', None, 'M', None]\n"
     ]
    }
   ],
   "source": [
    "rates_a = []\n",
    "\n",
    "for rate in rates:\n",
    "    span = rate.find('span', class_='u-text-capitalize')\n",
    "    #rating_value = rating_span.next_sibling.strip()\n",
    "    if span:  # check if span was found\n",
    "        i = span.next_sibling.strip()\n",
    "        rates_a.append(i)\n",
    "    else:\n",
    "        rates_a.append(None)  # or skip with `continue`\n",
    "\n",
    "print(rates_a)\n"
   ]
  },
  {
   "cell_type": "code",
   "execution_count": 66,
   "id": "681b52e8-32b8-426d-a392-283ad16b7ac5",
   "metadata": {},
   "outputs": [
    {
     "data": {
      "text/plain": [
       "['M', 'T', 'E', 'E', 'T', 'M']"
      ]
     },
     "execution_count": 66,
     "metadata": {},
     "output_type": "execute_result"
    }
   ],
   "source": [
    "clean_list_2 = [x for x in rates_a if x is not None]\n",
    "clean_list_2"
   ]
  },
  {
   "cell_type": "code",
   "execution_count": 63,
   "id": "b676bce2-4e0c-4597-995f-ebb12199c0e8",
   "metadata": {},
   "outputs": [
    {
     "name": "stdout",
     "output_type": "stream",
     "text": [
      "M\n"
     ]
    }
   ],
   "source": [
    "rating_span = rate.find('span', 'u-text-capitalize')  # finds <span>Rated</span>\n",
    "rating_value = rating_span.next_sibling.strip()\n",
    "print(rating_value)"
   ]
  },
  {
   "cell_type": "code",
   "execution_count": 67,
   "id": "ff5d5f77-97ee-4d2f-8e23-bfd33b0927f9",
   "metadata": {},
   "outputs": [],
   "source": [
    "descriptions = soup.find_all('div','c-finderProductCard_description')"
   ]
  },
  {
   "cell_type": "code",
   "execution_count": 68,
   "id": "6064d12a-5466-4f5d-8037-2cea8daef6a2",
   "metadata": {},
   "outputs": [],
   "source": [
    "description = descriptions[0]"
   ]
  },
  {
   "cell_type": "code",
   "execution_count": 69,
   "id": "ac104f07-ea48-4278-8ff6-d0c95771f2ab",
   "metadata": {},
   "outputs": [
    {
     "name": "stdout",
     "output_type": "stream",
     "text": [
      "The game features you as the star of a live Hollywood television show investigating paranormal activities. Hubert Chardot, author of the Alone In The Dark series, creates the foreboding backdrop for the evening's activities.  [TalonSoft]\n"
     ]
    }
   ],
   "source": [
    "description_span = description.find('span')\n",
    "description_value = description_span.text.strip() if description_span else None\n",
    "print(description_value)"
   ]
  },
  {
   "cell_type": "code",
   "execution_count": 72,
   "id": "3b006455-f55b-4b6b-bd36-7fbb0d9e0c99",
   "metadata": {},
   "outputs": [
    {
     "data": {
      "text/plain": [
       "<div class=\"c-finderProductCard_description\"><span>Roger was about to do something bad. Unfortunately, he can't remember what it was because he has been transformed into a cockroach. In this Kafkaesque graphic adventure game, Roger (you) must scurry through the walls of a run down San Fransisco bar trying to restore his memory and his human form while avoiding spiders, a roach eating cat, and other creatures that live in the bar.</span></div>"
      ]
     },
     "execution_count": 72,
     "metadata": {},
     "output_type": "execute_result"
    }
   ],
   "source": [
    "descriptions[1]"
   ]
  },
  {
   "cell_type": "code",
   "execution_count": null,
   "id": "88cd3b77-b6d5-4a92-8d61-6440efdfd9c5",
   "metadata": {},
   "outputs": [],
   "source": []
  },
  {
   "cell_type": "code",
   "execution_count": 73,
   "id": "8fb815a5-fc93-4732-9712-5ed94be78986",
   "metadata": {},
   "outputs": [
    {
     "name": "stdout",
     "output_type": "stream",
     "text": [
      "[\"The game features you as the star of a live Hollywood television show investigating paranormal activities. Hubert Chardot, author of the Alone In The Dark series, creates the foreboding backdrop for the evening's activities.  [TalonSoft]\", \"Roger was about to do something bad. Unfortunately, he can't remember what it was because he has been transformed into a cockroach. In this Kafkaesque graphic adventure game, Roger (you) must scurry through the walls of a run down San Fransisco bar trying to restore his memory and his human form while avoiding spiders, a roach eating cat, and other creatures that live in the bar.\", 'Riddle of the Sphinx makes up for its technical shortcomings with a great location and an impressive amount of detail.', \"You'll need to learn lock picking, security-code deciphering, and computer hacking; it's like job training, albeit for what seems like a really, really fun job.\", 'A real-time surrealistic adventure in which the player must redeem the collective souls of a multitude of famous historical figures. More than 30 entities, ranging from Quechua, Mythic Godking of the high Andes (5000 B.C.) to the modern day mass murderer John Wayne Gacy (1994 A.D.), are present and accounted for in the race against the encroaching apocalypse. [AMG]', \"The real problem with Seven Games of the Soul is that it's not only nonsensical, but it's also pretentious.\"]\n"
     ]
    }
   ],
   "source": [
    "descriptions_a = []\n",
    "\n",
    "for description in descriptions:\n",
    "    description_span = description.find('span')\n",
    "    description_value = description_span.text.strip() if description_span else None\n",
    "    descriptions_a.append(description_value)\n",
    "\n",
    "print(descriptions_a)"
   ]
  },
  {
   "cell_type": "code",
   "execution_count": null,
   "id": "d3beaf7e-19d1-431e-af52-1898fe96a489",
   "metadata": {},
   "outputs": [],
   "source": []
  },
  {
   "cell_type": "code",
   "execution_count": null,
   "id": "08239b4b-068b-475d-b553-c25062348c1b",
   "metadata": {},
   "outputs": [],
   "source": []
  },
  {
   "cell_type": "code",
   "execution_count": null,
   "id": "405dec14-f82e-4855-a98c-d2c53dbae93e",
   "metadata": {},
   "outputs": [],
   "source": []
  },
  {
   "cell_type": "code",
   "execution_count": null,
   "id": "ce6636bc-1044-4f0b-a691-68e88fcc6e38",
   "metadata": {},
   "outputs": [],
   "source": []
  },
  {
   "cell_type": "code",
   "execution_count": null,
   "id": "0c28689a-0ab4-478a-8e19-ef315489f699",
   "metadata": {},
   "outputs": [],
   "source": []
  },
  {
   "cell_type": "code",
   "execution_count": 74,
   "id": "3a337b5b-356e-4943-8fdb-e7f169412e62",
   "metadata": {},
   "outputs": [],
   "source": [
    "scores = soup.find_all('div','c-siteReviewScore')"
   ]
  },
  {
   "cell_type": "code",
   "execution_count": 75,
   "id": "59e171d8-e4a9-4e49-9da1-994ba300bd55",
   "metadata": {},
   "outputs": [],
   "source": [
    "score = scores[0]"
   ]
  },
  {
   "cell_type": "code",
   "execution_count": 76,
   "id": "d8e9e0de-9f84-46c3-96bc-db7c074d18c1",
   "metadata": {},
   "outputs": [
    {
     "name": "stdout",
     "output_type": "stream",
     "text": [
      "Metascore 76 out of 100\n"
     ]
    }
   ],
   "source": [
    "metascore_text = score.get(\"aria-label\")\n",
    "print(metascore_text)"
   ]
  },
  {
   "cell_type": "code",
   "execution_count": 78,
   "id": "1384c755-f349-44ec-9d1e-c547a99be67e",
   "metadata": {},
   "outputs": [
    {
     "name": "stdout",
     "output_type": "stream",
     "text": [
      "['Metascore 76 out of 100', 'Metascore 74 out of 100', 'Metascore 72 out of 100', 'Metascore 63 out of 100', 'Metascore 58 out of 100', 'Metascore 52 out of 100']\n"
     ]
    }
   ],
   "source": [
    "scores_a = []\n",
    "\n",
    "for score in scores:\n",
    "    metascore_text = score.get(\"aria-label\")\n",
    "    scores_a.append(metascore_text)\n",
    "\n",
    "print(scores_a)"
   ]
  },
  {
   "cell_type": "code",
   "execution_count": 81,
   "id": "b3d7d792-1298-4f98-88fb-1b3ed3beb8e3",
   "metadata": {},
   "outputs": [
    {
     "name": "stdout",
     "output_type": "stream",
     "text": [
      "                                         Title          Date Rating  \\\n",
      "0                             The Devil Inside   Nov 9, 2000      M   \n",
      "1                                     Bad Mojo  Feb 29, 1996      T   \n",
      "2  Riddle of the Sphinx: An Egyptian Adventure   Dec 5, 2000      E   \n",
      "3                                Traitors Gate  Apr 30, 2000      E   \n",
      "4          Of Light and Darkness: The Prophecy  Mar 31, 1998      T   \n",
      "5                      Seven Games of the Soul  Nov 30, 2000      M   \n",
      "\n",
      "                                         Description                    score  \n",
      "0  The game features you as the star of a live Ho...  Metascore 76 out of 100  \n",
      "1  Roger was about to do something bad. Unfortuna...  Metascore 74 out of 100  \n",
      "2  Riddle of the Sphinx makes up for its technica...  Metascore 72 out of 100  \n",
      "3  You'll need to learn lock picking, security-co...  Metascore 63 out of 100  \n",
      "4  A real-time surrealistic adventure in which th...  Metascore 58 out of 100  \n",
      "5  The real problem with Seven Games of the Soul ...  Metascore 52 out of 100  \n"
     ]
    }
   ],
   "source": [
    "import pandas as pd\n",
    "\n",
    "# Example lists\n",
    "\n",
    "# Create DataFrame\n",
    "df = pd.DataFrame({\n",
    "    'Title': titles_a,\n",
    "    'Date': clean_list,\n",
    "    'Rating': clean_list_2,\n",
    "    'Description': descriptions_a,\n",
    "    'score': scores_a\n",
    "})\n",
    "\n",
    "print(df)\n"
   ]
  },
  {
   "cell_type": "code",
   "execution_count": 82,
   "id": "ad8aa44e-265b-4aec-8ae0-0be8e0c808a8",
   "metadata": {},
   "outputs": [
    {
     "data": {
      "text/html": [
       "<div>\n",
       "<style scoped>\n",
       "    .dataframe tbody tr th:only-of-type {\n",
       "        vertical-align: middle;\n",
       "    }\n",
       "\n",
       "    .dataframe tbody tr th {\n",
       "        vertical-align: top;\n",
       "    }\n",
       "\n",
       "    .dataframe thead th {\n",
       "        text-align: right;\n",
       "    }\n",
       "</style>\n",
       "<table border=\"1\" class=\"dataframe\">\n",
       "  <thead>\n",
       "    <tr style=\"text-align: right;\">\n",
       "      <th></th>\n",
       "      <th>Title</th>\n",
       "      <th>Date</th>\n",
       "      <th>Rating</th>\n",
       "      <th>Description</th>\n",
       "      <th>score</th>\n",
       "    </tr>\n",
       "  </thead>\n",
       "  <tbody>\n",
       "    <tr>\n",
       "      <th>0</th>\n",
       "      <td>The Devil Inside</td>\n",
       "      <td>Nov 9, 2000</td>\n",
       "      <td>M</td>\n",
       "      <td>The game features you as the star of a live Ho...</td>\n",
       "      <td>Metascore 76 out of 100</td>\n",
       "    </tr>\n",
       "    <tr>\n",
       "      <th>1</th>\n",
       "      <td>Bad Mojo</td>\n",
       "      <td>Feb 29, 1996</td>\n",
       "      <td>T</td>\n",
       "      <td>Roger was about to do something bad. Unfortuna...</td>\n",
       "      <td>Metascore 74 out of 100</td>\n",
       "    </tr>\n",
       "    <tr>\n",
       "      <th>2</th>\n",
       "      <td>Riddle of the Sphinx: An Egyptian Adventure</td>\n",
       "      <td>Dec 5, 2000</td>\n",
       "      <td>E</td>\n",
       "      <td>Riddle of the Sphinx makes up for its technica...</td>\n",
       "      <td>Metascore 72 out of 100</td>\n",
       "    </tr>\n",
       "    <tr>\n",
       "      <th>3</th>\n",
       "      <td>Traitors Gate</td>\n",
       "      <td>Apr 30, 2000</td>\n",
       "      <td>E</td>\n",
       "      <td>You'll need to learn lock picking, security-co...</td>\n",
       "      <td>Metascore 63 out of 100</td>\n",
       "    </tr>\n",
       "    <tr>\n",
       "      <th>4</th>\n",
       "      <td>Of Light and Darkness: The Prophecy</td>\n",
       "      <td>Mar 31, 1998</td>\n",
       "      <td>T</td>\n",
       "      <td>A real-time surrealistic adventure in which th...</td>\n",
       "      <td>Metascore 58 out of 100</td>\n",
       "    </tr>\n",
       "    <tr>\n",
       "      <th>5</th>\n",
       "      <td>Seven Games of the Soul</td>\n",
       "      <td>Nov 30, 2000</td>\n",
       "      <td>M</td>\n",
       "      <td>The real problem with Seven Games of the Soul ...</td>\n",
       "      <td>Metascore 52 out of 100</td>\n",
       "    </tr>\n",
       "  </tbody>\n",
       "</table>\n",
       "</div>"
      ],
      "text/plain": [
       "                                         Title          Date Rating  \\\n",
       "0                             The Devil Inside   Nov 9, 2000      M   \n",
       "1                                     Bad Mojo  Feb 29, 1996      T   \n",
       "2  Riddle of the Sphinx: An Egyptian Adventure   Dec 5, 2000      E   \n",
       "3                                Traitors Gate  Apr 30, 2000      E   \n",
       "4          Of Light and Darkness: The Prophecy  Mar 31, 1998      T   \n",
       "5                      Seven Games of the Soul  Nov 30, 2000      M   \n",
       "\n",
       "                                         Description                    score  \n",
       "0  The game features you as the star of a live Ho...  Metascore 76 out of 100  \n",
       "1  Roger was about to do something bad. Unfortuna...  Metascore 74 out of 100  \n",
       "2  Riddle of the Sphinx makes up for its technica...  Metascore 72 out of 100  \n",
       "3  You'll need to learn lock picking, security-co...  Metascore 63 out of 100  \n",
       "4  A real-time surrealistic adventure in which th...  Metascore 58 out of 100  \n",
       "5  The real problem with Seven Games of the Soul ...  Metascore 52 out of 100  "
      ]
     },
     "execution_count": 82,
     "metadata": {},
     "output_type": "execute_result"
    }
   ],
   "source": [
    "df"
   ]
  },
  {
   "cell_type": "code",
   "execution_count": null,
   "id": "fe94c1de-aaf6-4273-b205-44a4a93138f6",
   "metadata": {},
   "outputs": [],
   "source": [
    "def get_record(card, date, description, score):\n",
    "    atag = card.h3\n",
    "    title = atag.find_all(\"span\")[1].text.strip()\n",
    "    date.find('span','u-text-uppercase')\n",
    "    release_date = date.find('span', 'u-text-uppercase').text.strip()\n",
    "    #date.find('span','u-text-capitalize')\n",
    "    rating_span = date.find('span', 'u-text-capitalize')  # finds <span>Rated</span>\n",
    "    rating_value = rating_span.next_sibling.strip()\n",
    "    description_span = description.find('span')\n",
    "    description_value = description_span.text.strip() if description_span else None\n",
    "    metascore_text = score.get(\"aria-label\")\n",
    "\n",
    "    record = (title, release_date, rating_value, description_value, metascore_text)\n",
    "\n",
    "    return record"
   ]
  },
  {
   "cell_type": "code",
   "execution_count": null,
   "id": "f9eeedac-4e47-4102-b594-497399bd8bd1",
   "metadata": {},
   "outputs": [],
   "source": [
    "records = []\n",
    "\n",
    "for i in cards:\n",
    "    record = get_record(card, date, description, score)\n",
    "    records.append(record)"
   ]
  },
  {
   "cell_type": "code",
   "execution_count": 48,
   "id": "cb0251fd-9a55-4975-890d-a422d2c300a1",
   "metadata": {},
   "outputs": [
    {
     "data": {
      "text/plain": [
       "[<div class=\"c-finderProductCard_title\" data-title=\"The Devil Inside\"><h3 class=\"c-finderProductCard_titleHeading\"><span>1.</span> <span>The Devil Inside</span></h3></div>,\n",
       " <div class=\"c-finderProductCard_title\" data-title=\"Bad Mojo\"><h3 class=\"c-finderProductCard_titleHeading\"><span>2.</span> <span>Bad Mojo</span></h3></div>,\n",
       " <div class=\"c-finderProductCard_title\" data-title=\"Riddle of the Sphinx: An Egyptian Adventure\"><h3 class=\"c-finderProductCard_titleHeading\"><span>3.</span> <span>Riddle of the Sphinx: An Egyptian Adventure</span></h3></div>,\n",
       " <div class=\"c-finderProductCard_title\" data-title=\"Traitors Gate\"><h3 class=\"c-finderProductCard_titleHeading\"><span>4.</span> <span>Traitors Gate</span></h3></div>,\n",
       " <div class=\"c-finderProductCard_title\" data-title=\"Of Light and Darkness: The Prophecy\"><h3 class=\"c-finderProductCard_titleHeading\"><span>5.</span> <span>Of Light and Darkness: The Prophecy</span></h3></div>,\n",
       " <div class=\"c-finderProductCard_title\" data-title=\"Seven Games of the Soul\"><h3 class=\"c-finderProductCard_titleHeading\"><span>6.</span> <span>Seven Games of the Soul</span></h3></div>]"
      ]
     },
     "execution_count": 48,
     "metadata": {},
     "output_type": "execute_result"
    }
   ],
   "source": [
    "titles"
   ]
  },
  {
   "cell_type": "code",
   "execution_count": 51,
   "id": "fd32cb05-1eff-46bd-b5b9-f9243ab414ea",
   "metadata": {},
   "outputs": [],
   "source": [
    "#titles\n",
    "\n",
    "def get_titles(n):\n",
    "    title_a = titles[0]\n",
    "    htag = title_a.h3\n",
    "    title_b = htag.find_all(\"span\")[1].text.strip()\n",
    "    return title_b"
   ]
  },
  {
   "cell_type": "code",
   "execution_count": 53,
   "id": "fa82b8ff-65c0-4b89-81b9-613309256a06",
   "metadata": {},
   "outputs": [
    {
     "ename": "SyntaxError",
     "evalue": "invalid syntax (3140178347.py, line 1)",
     "output_type": "error",
     "traceback": [
      "\u001b[0;36m  Cell \u001b[0;32mIn[53], line 1\u001b[0;36m\u001b[0m\n\u001b[0;31m    get_title(0):\u001b[0m\n\u001b[0m                ^\u001b[0m\n\u001b[0;31mSyntaxError\u001b[0m\u001b[0;31m:\u001b[0m invalid syntax\n"
     ]
    }
   ],
   "source": [
    "get_title(0):"
   ]
  },
  {
   "cell_type": "code",
   "execution_count": null,
   "id": "da27789d-ea9d-4546-9624-779112510a9f",
   "metadata": {},
   "outputs": [],
   "source": []
  },
  {
   "cell_type": "code",
   "execution_count": null,
   "id": "cb022b6b-1732-41cc-8d8e-7aec8d159f51",
   "metadata": {},
   "outputs": [],
   "source": []
  },
  {
   "cell_type": "code",
   "execution_count": null,
   "id": "b5894163-c7ea-4f2a-b5c3-20b4a9f09e50",
   "metadata": {},
   "outputs": [],
   "source": []
  },
  {
   "cell_type": "code",
   "execution_count": null,
   "id": "876dd0b8-3f48-416f-8d84-cb1b21d1246b",
   "metadata": {},
   "outputs": [],
   "source": [
    "c-finderProductCard_titleHeading"
   ]
  },
  {
   "cell_type": "code",
   "execution_count": 10,
   "id": "73420f45-ccda-4644-bc61-5cc9d027eada",
   "metadata": {},
   "outputs": [],
   "source": [
    "cards = soup.find_all('div','c-finderProductCard_title')"
   ]
  },
  {
   "cell_type": "code",
   "execution_count": 11,
   "id": "45a43640-549b-482a-9757-450a0bf2927c",
   "metadata": {},
   "outputs": [
    {
     "data": {
      "text/plain": [
       "7"
      ]
     },
     "execution_count": 11,
     "metadata": {},
     "output_type": "execute_result"
    }
   ],
   "source": [
    "len(cards)"
   ]
  },
  {
   "cell_type": "code",
   "execution_count": 12,
   "id": "1ebf855a-bcd7-4447-ae43-07432951ba49",
   "metadata": {},
   "outputs": [],
   "source": [
    "card = cards[0]"
   ]
  },
  {
   "cell_type": "code",
   "execution_count": 13,
   "id": "f778407f-6ffb-498e-98c0-690bc074f25f",
   "metadata": {},
   "outputs": [
    {
     "data": {
      "text/plain": [
       "<div class=\"c-finderProductCard_title\" data-title=\"Blast Corps\"><h3 class=\"c-finderProductCard_titleHeading\"><span>1.</span> <span>Blast Corps</span></h3></div>"
      ]
     },
     "execution_count": 13,
     "metadata": {},
     "output_type": "execute_result"
    }
   ],
   "source": [
    "card"
   ]
  },
  {
   "cell_type": "code",
   "execution_count": 14,
   "id": "37e06f97-88a6-4e65-a045-392175b41903",
   "metadata": {},
   "outputs": [],
   "source": [
    "atag = card.h3"
   ]
  },
  {
   "cell_type": "code",
   "execution_count": 15,
   "id": "35ad6537-bde9-45bc-adb9-ff924bb60b43",
   "metadata": {},
   "outputs": [
    {
     "data": {
      "text/plain": [
       "<h3 class=\"c-finderProductCard_titleHeading\"><span>1.</span> <span>Blast Corps</span></h3>"
      ]
     },
     "execution_count": 15,
     "metadata": {},
     "output_type": "execute_result"
    }
   ],
   "source": [
    "atag"
   ]
  },
  {
   "cell_type": "code",
   "execution_count": 16,
   "id": "5524e1cd-29a4-45f1-a425-071ce1c87425",
   "metadata": {},
   "outputs": [],
   "source": [
    "#atag.get('c-finderProductCard_titleHeading')"
   ]
  },
  {
   "cell_type": "code",
   "execution_count": 17,
   "id": "6a86c40b-bca2-4c41-ae78-079dec6300bf",
   "metadata": {},
   "outputs": [
    {
     "data": {
      "text/plain": [
       "'Blast Corps'"
      ]
     },
     "execution_count": 17,
     "metadata": {},
     "output_type": "execute_result"
    }
   ],
   "source": [
    "title = atag.find_all(\"span\")[1].text.strip()\n",
    "title"
   ]
  },
  {
   "cell_type": "code",
   "execution_count": 18,
   "id": "43ea122f-0937-45f5-b92a-48bfcb624fb6",
   "metadata": {},
   "outputs": [],
   "source": [
    "a = card.find('div',class_ = 'c-finderProductCard_meta')"
   ]
  },
  {
   "cell_type": "code",
   "execution_count": 19,
   "id": "23420fe1-ba30-4bed-ab68-664ab62a7df2",
   "metadata": {},
   "outputs": [],
   "source": [
    "a"
   ]
  },
  {
   "cell_type": "code",
   "execution_count": 20,
   "id": "3d43893e-5154-4b73-9748-a5a6c93d8cf5",
   "metadata": {},
   "outputs": [],
   "source": [
    "dates = soup.find_all('div','c-finderProductCard_meta')"
   ]
  },
  {
   "cell_type": "code",
   "execution_count": 21,
   "id": "e1876608-5082-46c0-8c75-9e4402c5761c",
   "metadata": {},
   "outputs": [
    {
     "data": {
      "text/plain": [
       "14"
      ]
     },
     "execution_count": 21,
     "metadata": {},
     "output_type": "execute_result"
    }
   ],
   "source": [
    "len(dates)"
   ]
  },
  {
   "cell_type": "code",
   "execution_count": 22,
   "id": "8ddfbde8-a561-448b-abf7-9179dbb92faf",
   "metadata": {},
   "outputs": [],
   "source": [
    "date = dates[0]"
   ]
  },
  {
   "cell_type": "code",
   "execution_count": 23,
   "id": "0b9d8751-cb34-4dba-a36b-2e619d96a1fe",
   "metadata": {},
   "outputs": [
    {
     "data": {
      "text/plain": [
       "<div class=\"c-finderProductCard_meta\"><span class=\"u-text-uppercase\">\n",
       "          Feb 28, 1997\n",
       "        </span> <span>\n",
       "           • \n",
       "        </span> <span><span class=\"u-text-capitalize\">Rated</span> K-A\n",
       "        </span></div>"
      ]
     },
     "execution_count": 23,
     "metadata": {},
     "output_type": "execute_result"
    }
   ],
   "source": [
    "date"
   ]
  },
  {
   "cell_type": "code",
   "execution_count": 24,
   "id": "8f05695d-3df6-4f40-8118-4e50477f2de2",
   "metadata": {},
   "outputs": [
    {
     "data": {
      "text/plain": [
       "<span class=\"u-text-uppercase\">\n",
       "          Feb 28, 1997\n",
       "        </span>"
      ]
     },
     "execution_count": 24,
     "metadata": {},
     "output_type": "execute_result"
    }
   ],
   "source": [
    "date.find('span','u-text-uppercase')"
   ]
  },
  {
   "cell_type": "code",
   "execution_count": 25,
   "id": "78faf29f-209e-4a45-9239-2b621f07d120",
   "metadata": {},
   "outputs": [
    {
     "name": "stdout",
     "output_type": "stream",
     "text": [
      "Feb 28, 1997\n"
     ]
    }
   ],
   "source": [
    "release_date = date.find('span', 'u-text-uppercase').text.strip()\n",
    "print(release_date)"
   ]
  },
  {
   "cell_type": "code",
   "execution_count": 26,
   "id": "e7431365-7a21-4922-a888-545bced72cd2",
   "metadata": {},
   "outputs": [],
   "source": [
    "rates = soup.find_all('div','c-finderProductCard_meta')"
   ]
  },
  {
   "cell_type": "code",
   "execution_count": 27,
   "id": "df86d86f-bb19-41a5-9e89-b34cec71d390",
   "metadata": {},
   "outputs": [
    {
     "data": {
      "text/plain": [
       "14"
      ]
     },
     "execution_count": 27,
     "metadata": {},
     "output_type": "execute_result"
    }
   ],
   "source": [
    "len(rates)"
   ]
  },
  {
   "cell_type": "code",
   "execution_count": 28,
   "id": "6e6d002b-c359-4068-a808-77e705ccc80f",
   "metadata": {},
   "outputs": [],
   "source": [
    "rate = rates[0]"
   ]
  },
  {
   "cell_type": "code",
   "execution_count": 29,
   "id": "3fabcc91-aae5-42a2-908f-2cb5c8a9d2af",
   "metadata": {},
   "outputs": [
    {
     "data": {
      "text/plain": [
       "<div class=\"c-finderProductCard_meta\"><span class=\"u-text-uppercase\">\n",
       "          Feb 28, 1997\n",
       "        </span> <span>\n",
       "           • \n",
       "        </span> <span><span class=\"u-text-capitalize\">Rated</span> K-A\n",
       "        </span></div>"
      ]
     },
     "execution_count": 29,
     "metadata": {},
     "output_type": "execute_result"
    }
   ],
   "source": [
    "rate"
   ]
  },
  {
   "cell_type": "code",
   "execution_count": 30,
   "id": "34690f25-605c-429d-8b39-6843208084bd",
   "metadata": {},
   "outputs": [
    {
     "data": {
      "text/plain": [
       "<span class=\"u-text-capitalize\">Rated</span>"
      ]
     },
     "execution_count": 30,
     "metadata": {},
     "output_type": "execute_result"
    }
   ],
   "source": [
    "rate.find('span','u-text-capitalize')"
   ]
  },
  {
   "cell_type": "code",
   "execution_count": 31,
   "id": "bb8911f2-e945-48ad-a9d7-2eee93667a3d",
   "metadata": {},
   "outputs": [
    {
     "name": "stdout",
     "output_type": "stream",
     "text": [
      "K-A\n"
     ]
    }
   ],
   "source": [
    "rating_span = rate.find('span', 'u-text-capitalize')  # finds <span>Rated</span>\n",
    "rating_value = rating_span.next_sibling.strip()\n",
    "print(rating_value)"
   ]
  },
  {
   "cell_type": "code",
   "execution_count": 32,
   "id": "5b056130-a3c4-4734-984c-c7c7d3109e0f",
   "metadata": {},
   "outputs": [],
   "source": [
    "descriptions = soup.find_all('div','c-finderProductCard_description')"
   ]
  },
  {
   "cell_type": "code",
   "execution_count": 33,
   "id": "91c19a44-c6cd-4763-8731-0698aa5f6afd",
   "metadata": {},
   "outputs": [
    {
     "data": {
      "text/plain": [
       "7"
      ]
     },
     "execution_count": 33,
     "metadata": {},
     "output_type": "execute_result"
    }
   ],
   "source": [
    "len(descriptions)"
   ]
  },
  {
   "cell_type": "code",
   "execution_count": 34,
   "id": "485c353b-2545-4a42-860e-9530bd5fa2f9",
   "metadata": {},
   "outputs": [],
   "source": [
    "description = descriptions[0]"
   ]
  },
  {
   "cell_type": "code",
   "execution_count": 35,
   "id": "51e9c5b4-7cc6-4c58-924a-d2a3718613b2",
   "metadata": {},
   "outputs": [
    {
     "data": {
      "text/plain": [
       "<div class=\"c-finderProductCard_description\"><span>A pair of defective nuclear missiles, en route to a safe detonation site, has begun to leak. Badly damaged, the carrier automatically locks onto the most direct route. Clear a path to help the carrier arrive safely. Tons of vehicles are at your disposal. Leave nothing standing or the adventure will end in an earth-shattering explosion! Find the hidden technicians to ensure a safe detonation. Strap on your seat belt, it's going to be a bumpy ride.</span></div>"
      ]
     },
     "execution_count": 35,
     "metadata": {},
     "output_type": "execute_result"
    }
   ],
   "source": [
    "description"
   ]
  },
  {
   "cell_type": "code",
   "execution_count": 36,
   "id": "03959e6b-5cee-4513-b4bd-fcc0b57cfbdf",
   "metadata": {},
   "outputs": [
    {
     "name": "stdout",
     "output_type": "stream",
     "text": [
      "A pair of defective nuclear missiles, en route to a safe detonation site, has begun to leak. Badly damaged, the carrier automatically locks onto the most direct route. Clear a path to help the carrier arrive safely. Tons of vehicles are at your disposal. Leave nothing standing or the adventure will end in an earth-shattering explosion! Find the hidden technicians to ensure a safe detonation. Strap on your seat belt, it's going to be a bumpy ride.\n"
     ]
    }
   ],
   "source": [
    "description_span = description.find('span')\n",
    "description_value = description_span.text.strip() if description_span else None\n",
    "print(description_value)"
   ]
  },
  {
   "cell_type": "code",
   "execution_count": 37,
   "id": "5da6ddec-c0be-4630-a109-5e595924cee2",
   "metadata": {},
   "outputs": [],
   "source": [
    "scores = soup.find_all('div','c-siteReviewScore')"
   ]
  },
  {
   "cell_type": "code",
   "execution_count": 38,
   "id": "3cdf84eb-1c58-4a90-9bbf-375e1b59a28d",
   "metadata": {},
   "outputs": [
    {
     "data": {
      "text/plain": [
       "7"
      ]
     },
     "execution_count": 38,
     "metadata": {},
     "output_type": "execute_result"
    }
   ],
   "source": [
    "len(scores)"
   ]
  },
  {
   "cell_type": "code",
   "execution_count": 39,
   "id": "0de853b0-78db-4951-964d-8dee3c62f6b4",
   "metadata": {},
   "outputs": [],
   "source": [
    "score = scores[0]"
   ]
  },
  {
   "cell_type": "code",
   "execution_count": 40,
   "id": "b54117a4-4f50-4ead-ae63-f22981296760",
   "metadata": {},
   "outputs": [
    {
     "data": {
      "text/plain": [
       "<div aria-label=\"Metascore 90 out of 100\" class=\"c-siteReviewScore u-flexbox-column u-flexbox-alignCenter u-flexbox-justifyCenter g-text-bold c-siteReviewScore_green g-color-gray90 c-siteReviewScore_xsmall\" data-v-e408cafe=\"\" title=\"Metascore 90 out of 100\"><span data-v-e408cafe=\"\">90</span></div>"
      ]
     },
     "execution_count": 40,
     "metadata": {},
     "output_type": "execute_result"
    }
   ],
   "source": [
    "score"
   ]
  },
  {
   "cell_type": "code",
   "execution_count": 41,
   "id": "c999a8a3-fae4-4ed6-b02a-3fbf2ee68808",
   "metadata": {},
   "outputs": [
    {
     "name": "stdout",
     "output_type": "stream",
     "text": [
      "Metascore 90 out of 100\n"
     ]
    }
   ],
   "source": [
    "metascore_text = score.get(\"aria-label\")\n",
    "print(metascore_text)"
   ]
  },
  {
   "cell_type": "code",
   "execution_count": 47,
   "id": "64ed4973-4318-471a-acea-4f8f8ab9d089",
   "metadata": {},
   "outputs": [],
   "source": [
    "def get_record(card, date, description, score):\n",
    "    atag = card.h3\n",
    "    title = atag.find_all(\"span\")[1].text.strip()\n",
    "    date.find('span','u-text-uppercase')\n",
    "    release_date = date.find('span', 'u-text-uppercase').text.strip()\n",
    "    #date.find('span','u-text-capitalize')\n",
    "    rating_span = date.find('span', 'u-text-capitalize')  # finds <span>Rated</span>\n",
    "    rating_value = rating_span.next_sibling.strip()\n",
    "    description_span = description.find('span')\n",
    "    description_value = description_span.text.strip() if description_span else None\n",
    "    metascore_text = score.get(\"aria-label\")\n",
    "\n",
    "    record = (title, release_date, rating_value, description_value, metascore_text)\n",
    "\n",
    "    return record"
   ]
  },
  {
   "cell_type": "code",
   "execution_count": 48,
   "id": "1d69d1b5-96aa-471a-b8ee-bdf446b6462b",
   "metadata": {},
   "outputs": [],
   "source": [
    "records = []\n",
    "\n",
    "for i in cards:\n",
    "    record = get_record(card, date, description, score)\n",
    "    records.append(record)"
   ]
  },
  {
   "cell_type": "code",
   "execution_count": 56,
   "id": "c2ecaf51-5279-44ac-a584-de445af0b329",
   "metadata": {},
   "outputs": [
    {
     "data": {
      "text/plain": [
       "('Blast Corps',\n",
       " 'Feb 28, 1997',\n",
       " 'K-A',\n",
       " \"A pair of defective nuclear missiles, en route to a safe detonation site, has begun to leak. Badly damaged, the carrier automatically locks onto the most direct route. Clear a path to help the carrier arrive safely. Tons of vehicles are at your disposal. Leave nothing standing or the adventure will end in an earth-shattering explosion! Find the hidden technicians to ensure a safe detonation. Strap on your seat belt, it's going to be a bumpy ride.\",\n",
       " 'Metascore 90 out of 100')"
      ]
     },
     "execution_count": 56,
     "metadata": {},
     "output_type": "execute_result"
    }
   ],
   "source": [
    "records[0]"
   ]
  },
  {
   "cell_type": "code",
   "execution_count": 55,
   "id": "1185f14b-3cb8-4b3e-a630-e1d12ab45492",
   "metadata": {},
   "outputs": [
    {
     "data": {
      "text/plain": [
       "0"
      ]
     },
     "execution_count": 55,
     "metadata": {},
     "output_type": "execute_result"
    }
   ],
   "source": [
    "max_index = records.index(max(records))\n",
    "max_index"
   ]
  },
  {
   "cell_type": "code",
   "execution_count": null,
   "id": "c4f18955-0212-48e8-bf98-1b7bb4ff5bdc",
   "metadata": {},
   "outputs": [],
   "source": []
  },
  {
   "cell_type": "code",
   "execution_count": null,
   "id": "3abe5f91-f161-4731-9983-77e76d0b3407",
   "metadata": {},
   "outputs": [],
   "source": []
  }
 ],
 "metadata": {
  "kernelspec": {
   "display_name": "Python 3 (ipykernel)",
   "language": "python",
   "name": "python3"
  },
  "language_info": {
   "codemirror_mode": {
    "name": "ipython",
    "version": 3
   },
   "file_extension": ".py",
   "mimetype": "text/x-python",
   "name": "python",
   "nbconvert_exporter": "python",
   "pygments_lexer": "ipython3",
   "version": "3.12.7"
  }
 },
 "nbformat": 4,
 "nbformat_minor": 5
}
