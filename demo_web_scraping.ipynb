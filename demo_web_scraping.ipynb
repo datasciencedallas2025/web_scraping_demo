{
 "cells": [
  {
   "cell_type": "code",
   "execution_count": 1,
   "id": "c158b2ec-34e1-45cb-bcf8-cd54ac037f85",
   "metadata": {},
   "outputs": [],
   "source": [
    "#next steps"
   ]
  },
  {
   "cell_type": "code",
   "execution_count": null,
   "id": "ad8f0113-9c76-4c06-a58a-1ff4a2ee0ed8",
   "metadata": {},
   "outputs": [],
   "source": [
    "#improve function"
   ]
  },
  {
   "cell_type": "code",
   "execution_count": null,
   "id": "0ae2c27c-742d-442f-8b3b-5b23a44171a4",
   "metadata": {},
   "outputs": [],
   "source": [
    "#multiple pages\n"
   ]
  }
 ],
 "metadata": {
  "kernelspec": {
   "display_name": "Python 3 (ipykernel)",
   "language": "python",
   "name": "python3"
  },
  "language_info": {
   "codemirror_mode": {
    "name": "ipython",
    "version": 3
   },
   "file_extension": ".py",
   "mimetype": "text/x-python",
   "name": "python",
   "nbconvert_exporter": "python",
   "pygments_lexer": "ipython3",
   "version": "3.12.7"
  }
 },
 "nbformat": 4,
 "nbformat_minor": 5
}
