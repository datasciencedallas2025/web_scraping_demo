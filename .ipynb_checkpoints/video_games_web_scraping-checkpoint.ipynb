{
 "cells": [
  {
   "cell_type": "code",
   "execution_count": 1,
   "id": "aeeb45e3-05b3-4012-aaa6-9be6ba833095",
   "metadata": {},
   "outputs": [
    {
     "name": "stdout",
     "output_type": "stream",
     "text": [
      "Empty DataFrame\n",
      "Columns: []\n",
      "Index: []\n"
     ]
    }
   ],
   "source": [
    "import requests\n",
    "from bs4 import BeautifulSoup\n",
    "import pandas as pd\n",
    "import sqlite3\n",
    "import time\n",
    "\n",
    "# Headers to avoid 403 error\n",
    "headers = {\n",
    "    \"User-Agent\": \"Mozilla/5.0\"\n",
    "}\n",
    "\n",
    "base_url = \"https://www.metacritic.com/browse/games/release-date/available/all/date\"\n",
    "game_data = []\n",
    "\n",
    "for page in range(0, 5):  # Scrape first 5 pages\n",
    "    url = f\"{base_url}?page={page}\"\n",
    "    response = requests.get(url, headers=headers)\n",
    "    soup = BeautifulSoup(response.text, 'html.parser')\n",
    "\n",
    "    games = soup.find_all(\"td\", class_=\"clamp-summary-wrap\")\n",
    "\n",
    "    for game in games:\n",
    "        title = game.find(\"a\", class_=\"title\").get_text(strip=True)\n",
    "        platform = game.find(\"div\", class_=\"clamp-details\").find_all(\"span\")[1].get_text(strip=True)\n",
    "        release_date = game.find(\"div\", class_=\"clamp-details\").find_all(\"span\")[2].get_text(strip=True)\n",
    "        summary = game.find(\"div\", class_=\"summary\").get_text(strip=True)\n",
    "\n",
    "        game_data.append({\n",
    "            \"title\": title,\n",
    "            \"platform\": platform,\n",
    "            \"release_date\": release_date,\n",
    "            \"summary\": summary\n",
    "        })\n",
    "\n",
    "    time.sleep(1)  # Be polite to the server\n",
    "\n",
    "df = pd.DataFrame(game_data)\n",
    "print(df.head())\n"
   ]
  },
  {
   "cell_type": "code",
   "execution_count": 11,
   "id": "478e9836-d0a4-4217-9490-077cb7f936e0",
   "metadata": {},
   "outputs": [],
   "source": [
    "import csv\n",
    "from datetime import datetime\n",
    "import requests\n",
    "from bs4 import BeautifulSoup"
   ]
  },
  {
   "cell_type": "code",
   "execution_count": 12,
   "id": "01e820bd-0dfb-4058-9b85-02cafc53d538",
   "metadata": {},
   "outputs": [],
   "source": [
    "def get_url (min, max, genre):\n",
    "    template = 'https://www.metacritic.com/browse/game/all/action-adventure/all-time/metascore/?releaseYearMin={}&releaseYearMax={}&genre={}'\n",
    "    url = template.format(min, max, genre)\n",
    "    return url"
   ]
  },
  {
   "cell_type": "code",
   "execution_count": 13,
   "id": "1dfd3149-2fa6-476b-b423-4c220516327a",
   "metadata": {},
   "outputs": [],
   "source": [
    "url = get_url(1900, 2000, 'action')"
   ]
  },
  {
   "cell_type": "code",
   "execution_count": 14,
   "id": "575f3a55-f3b6-48d2-be93-c6d26cecf3d4",
   "metadata": {},
   "outputs": [],
   "source": [
    "headers = {\n",
    "    \"User-Agent\": \"Mozilla/5.0 (Windows NT 10.0; Win64; x64) AppleWebKit/537.36 (KHTML, like Gecko) Chrome/120.0.0.0 Safari/537.36\"\n",
    "}"
   ]
  },
  {
   "cell_type": "code",
   "execution_count": 15,
   "id": "5525c420-67b0-409a-8f7d-8aa7f1354e46",
   "metadata": {},
   "outputs": [],
   "source": [
    "response = requests.get(url, headers=headers)"
   ]
  },
  {
   "cell_type": "code",
   "execution_count": 16,
   "id": "ef43984a-ca42-4e7c-b92d-1fd5b2a2c949",
   "metadata": {},
   "outputs": [
    {
     "data": {
      "text/plain": [
       "<Response [200]>"
      ]
     },
     "execution_count": 16,
     "metadata": {},
     "output_type": "execute_result"
    }
   ],
   "source": [
    "response"
   ]
  },
  {
   "cell_type": "code",
   "execution_count": 17,
   "id": "abd74589-bc16-4b98-b5bd-4ec07a9b38ff",
   "metadata": {},
   "outputs": [
    {
     "data": {
      "text/plain": [
       "'OK'"
      ]
     },
     "execution_count": 17,
     "metadata": {},
     "output_type": "execute_result"
    }
   ],
   "source": [
    "response.reason"
   ]
  },
  {
   "cell_type": "code",
   "execution_count": 18,
   "id": "7dbfeb82-fd88-45f8-8066-85893d0ea185",
   "metadata": {},
   "outputs": [],
   "source": [
    "soup = BeautifulSoup(response.text, 'html.parser')"
   ]
  },
  {
   "cell_type": "code",
   "execution_count": 23,
   "id": "73420f45-ccda-4644-bc61-5cc9d027eada",
   "metadata": {},
   "outputs": [],
   "source": [
    "cards = soup.find_all('div','c-finderProductCard_title')"
   ]
  },
  {
   "cell_type": "code",
   "execution_count": 65,
   "id": "45a43640-549b-482a-9757-450a0bf2927c",
   "metadata": {},
   "outputs": [
    {
     "data": {
      "text/plain": [
       "7"
      ]
     },
     "execution_count": 65,
     "metadata": {},
     "output_type": "execute_result"
    }
   ],
   "source": [
    "len(cards)"
   ]
  },
  {
   "cell_type": "code",
   "execution_count": 70,
   "id": "1ebf855a-bcd7-4447-ae43-07432951ba49",
   "metadata": {},
   "outputs": [],
   "source": [
    "card = cards[0]"
   ]
  },
  {
   "cell_type": "code",
   "execution_count": 71,
   "id": "f778407f-6ffb-498e-98c0-690bc074f25f",
   "metadata": {},
   "outputs": [
    {
     "data": {
      "text/plain": [
       "<div class=\"c-finderProductCard_title\" data-title=\"Blast Corps\"><h3 class=\"c-finderProductCard_titleHeading\"><span>1.</span> <span>Blast Corps</span></h3></div>"
      ]
     },
     "execution_count": 71,
     "metadata": {},
     "output_type": "execute_result"
    }
   ],
   "source": [
    "card"
   ]
  },
  {
   "cell_type": "code",
   "execution_count": 43,
   "id": "37e06f97-88a6-4e65-a045-392175b41903",
   "metadata": {},
   "outputs": [],
   "source": [
    "atag = card.h3"
   ]
  },
  {
   "cell_type": "code",
   "execution_count": 44,
   "id": "35ad6537-bde9-45bc-adb9-ff924bb60b43",
   "metadata": {},
   "outputs": [
    {
     "data": {
      "text/plain": [
       "<h3 class=\"c-finderProductCard_titleHeading\"><span>1.</span> <span>Blast Corps</span></h3>"
      ]
     },
     "execution_count": 44,
     "metadata": {},
     "output_type": "execute_result"
    }
   ],
   "source": [
    "atag"
   ]
  },
  {
   "cell_type": "code",
   "execution_count": 40,
   "id": "5524e1cd-29a4-45f1-a425-071ce1c87425",
   "metadata": {},
   "outputs": [],
   "source": [
    "#atag.get('c-finderProductCard_titleHeading')"
   ]
  },
  {
   "cell_type": "code",
   "execution_count": 45,
   "id": "6a86c40b-bca2-4c41-ae78-079dec6300bf",
   "metadata": {},
   "outputs": [
    {
     "data": {
      "text/plain": [
       "'Blast Corps'"
      ]
     },
     "execution_count": 45,
     "metadata": {},
     "output_type": "execute_result"
    }
   ],
   "source": [
    "title = atag.find_all(\"span\")[1].text.strip()\n",
    "title"
   ]
  },
  {
   "cell_type": "code",
   "execution_count": 63,
   "id": "43ea122f-0937-45f5-b92a-48bfcb624fb6",
   "metadata": {},
   "outputs": [],
   "source": [
    "a = card.find('div',class_ = 'c-finderProductCard_meta')"
   ]
  },
  {
   "cell_type": "code",
   "execution_count": 64,
   "id": "23420fe1-ba30-4bed-ab68-664ab62a7df2",
   "metadata": {},
   "outputs": [],
   "source": [
    "a"
   ]
  },
  {
   "cell_type": "code",
   "execution_count": 74,
   "id": "3d43893e-5154-4b73-9748-a5a6c93d8cf5",
   "metadata": {},
   "outputs": [],
   "source": [
    "dates = soup.find_all('div','c-finderProductCard_meta')"
   ]
  },
  {
   "cell_type": "code",
   "execution_count": 75,
   "id": "e1876608-5082-46c0-8c75-9e4402c5761c",
   "metadata": {},
   "outputs": [
    {
     "data": {
      "text/plain": [
       "14"
      ]
     },
     "execution_count": 75,
     "metadata": {},
     "output_type": "execute_result"
    }
   ],
   "source": [
    "len(dates)"
   ]
  },
  {
   "cell_type": "code",
   "execution_count": 76,
   "id": "8ddfbde8-a561-448b-abf7-9179dbb92faf",
   "metadata": {},
   "outputs": [],
   "source": [
    "date = dates[0]"
   ]
  },
  {
   "cell_type": "code",
   "execution_count": 77,
   "id": "0b9d8751-cb34-4dba-a36b-2e619d96a1fe",
   "metadata": {},
   "outputs": [
    {
     "data": {
      "text/plain": [
       "<div class=\"c-finderProductCard_meta\"><span class=\"u-text-uppercase\">\n",
       "          Feb 28, 1997\n",
       "        </span> <span>\n",
       "           • \n",
       "        </span> <span><span class=\"u-text-capitalize\">Rated</span> K-A\n",
       "        </span></div>"
      ]
     },
     "execution_count": 77,
     "metadata": {},
     "output_type": "execute_result"
    }
   ],
   "source": [
    "date"
   ]
  },
  {
   "cell_type": "code",
   "execution_count": 79,
   "id": "8f05695d-3df6-4f40-8118-4e50477f2de2",
   "metadata": {},
   "outputs": [
    {
     "data": {
      "text/plain": [
       "<span class=\"u-text-uppercase\">\n",
       "          Feb 28, 1997\n",
       "        </span>"
      ]
     },
     "execution_count": 79,
     "metadata": {},
     "output_type": "execute_result"
    }
   ],
   "source": [
    "date.find('span','u-text-uppercase')"
   ]
  },
  {
   "cell_type": "code",
   "execution_count": 80,
   "id": "78faf29f-209e-4a45-9239-2b621f07d120",
   "metadata": {},
   "outputs": [
    {
     "name": "stdout",
     "output_type": "stream",
     "text": [
      "Feb 28, 1997\n"
     ]
    }
   ],
   "source": [
    "release_date = date.find('span', 'u-text-uppercase').text.strip()\n",
    "print(release_date)"
   ]
  },
  {
   "cell_type": "code",
   "execution_count": 87,
   "id": "e7431365-7a21-4922-a888-545bced72cd2",
   "metadata": {},
   "outputs": [],
   "source": [
    "rates = soup.find_all('div','c-finderProductCard_meta')"
   ]
  },
  {
   "cell_type": "code",
   "execution_count": 88,
   "id": "df86d86f-bb19-41a5-9e89-b34cec71d390",
   "metadata": {},
   "outputs": [
    {
     "data": {
      "text/plain": [
       "14"
      ]
     },
     "execution_count": 88,
     "metadata": {},
     "output_type": "execute_result"
    }
   ],
   "source": [
    "len(rates)"
   ]
  },
  {
   "cell_type": "code",
   "execution_count": 89,
   "id": "6e6d002b-c359-4068-a808-77e705ccc80f",
   "metadata": {},
   "outputs": [],
   "source": [
    "rate = rates[0]"
   ]
  },
  {
   "cell_type": "code",
   "execution_count": 90,
   "id": "3fabcc91-aae5-42a2-908f-2cb5c8a9d2af",
   "metadata": {},
   "outputs": [
    {
     "data": {
      "text/plain": [
       "<div class=\"c-finderProductCard_meta\"><span class=\"u-text-uppercase\">\n",
       "          Feb 28, 1997\n",
       "        </span> <span>\n",
       "           • \n",
       "        </span> <span><span class=\"u-text-capitalize\">Rated</span> K-A\n",
       "        </span></div>"
      ]
     },
     "execution_count": 90,
     "metadata": {},
     "output_type": "execute_result"
    }
   ],
   "source": [
    "rate"
   ]
  },
  {
   "cell_type": "code",
   "execution_count": 91,
   "id": "34690f25-605c-429d-8b39-6843208084bd",
   "metadata": {},
   "outputs": [
    {
     "data": {
      "text/plain": [
       "<span class=\"u-text-capitalize\">Rated</span>"
      ]
     },
     "execution_count": 91,
     "metadata": {},
     "output_type": "execute_result"
    }
   ],
   "source": [
    "rate.find('span','u-text-capitalize')"
   ]
  },
  {
   "cell_type": "code",
   "execution_count": 92,
   "id": "bb8911f2-e945-48ad-a9d7-2eee93667a3d",
   "metadata": {},
   "outputs": [
    {
     "name": "stdout",
     "output_type": "stream",
     "text": [
      "K-A\n"
     ]
    }
   ],
   "source": [
    "rating_span = rate.find('span', 'u-text-capitalize')  # finds <span>Rated</span>\n",
    "rating_value = rating_span.next_sibling.strip()\n",
    "print(rating_value)"
   ]
  },
  {
   "cell_type": "code",
   "execution_count": 93,
   "id": "5b056130-a3c4-4734-984c-c7c7d3109e0f",
   "metadata": {},
   "outputs": [],
   "source": [
    "descriptions = soup.find_all('div','c-finderProductCard_description')"
   ]
  },
  {
   "cell_type": "code",
   "execution_count": 94,
   "id": "91c19a44-c6cd-4763-8731-0698aa5f6afd",
   "metadata": {},
   "outputs": [
    {
     "data": {
      "text/plain": [
       "7"
      ]
     },
     "execution_count": 94,
     "metadata": {},
     "output_type": "execute_result"
    }
   ],
   "source": [
    "len(descriptions)"
   ]
  },
  {
   "cell_type": "code",
   "execution_count": 95,
   "id": "485c353b-2545-4a42-860e-9530bd5fa2f9",
   "metadata": {},
   "outputs": [],
   "source": [
    "description = descriptions[0]"
   ]
  },
  {
   "cell_type": "code",
   "execution_count": 96,
   "id": "51e9c5b4-7cc6-4c58-924a-d2a3718613b2",
   "metadata": {},
   "outputs": [
    {
     "data": {
      "text/plain": [
       "<div class=\"c-finderProductCard_description\"><span>A pair of defective nuclear missiles, en route to a safe detonation site, has begun to leak. Badly damaged, the carrier automatically locks onto the most direct route. Clear a path to help the carrier arrive safely. Tons of vehicles are at your disposal. Leave nothing standing or the adventure will end in an earth-shattering explosion! Find the hidden technicians to ensure a safe detonation. Strap on your seat belt, it's going to be a bumpy ride.</span></div>"
      ]
     },
     "execution_count": 96,
     "metadata": {},
     "output_type": "execute_result"
    }
   ],
   "source": [
    "description"
   ]
  },
  {
   "cell_type": "code",
   "execution_count": 98,
   "id": "03959e6b-5cee-4513-b4bd-fcc0b57cfbdf",
   "metadata": {},
   "outputs": [
    {
     "name": "stdout",
     "output_type": "stream",
     "text": [
      "A pair of defective nuclear missiles, en route to a safe detonation site, has begun to leak. Badly damaged, the carrier automatically locks onto the most direct route. Clear a path to help the carrier arrive safely. Tons of vehicles are at your disposal. Leave nothing standing or the adventure will end in an earth-shattering explosion! Find the hidden technicians to ensure a safe detonation. Strap on your seat belt, it's going to be a bumpy ride.\n"
     ]
    }
   ],
   "source": [
    "description_span = description.find('span')\n",
    "description_value = description_span.text.strip() if description_span else None\n",
    "print(description_value)"
   ]
  },
  {
   "cell_type": "code",
   "execution_count": 99,
   "id": "5da6ddec-c0be-4630-a109-5e595924cee2",
   "metadata": {},
   "outputs": [],
   "source": [
    "scores = soup.find_all('div','c-siteReviewScore')"
   ]
  },
  {
   "cell_type": "code",
   "execution_count": 100,
   "id": "3cdf84eb-1c58-4a90-9bbf-375e1b59a28d",
   "metadata": {},
   "outputs": [
    {
     "data": {
      "text/plain": [
       "7"
      ]
     },
     "execution_count": 100,
     "metadata": {},
     "output_type": "execute_result"
    }
   ],
   "source": [
    "len(scores)"
   ]
  },
  {
   "cell_type": "code",
   "execution_count": 101,
   "id": "0de853b0-78db-4951-964d-8dee3c62f6b4",
   "metadata": {},
   "outputs": [],
   "source": [
    "score = scores[0]"
   ]
  },
  {
   "cell_type": "code",
   "execution_count": 102,
   "id": "b54117a4-4f50-4ead-ae63-f22981296760",
   "metadata": {},
   "outputs": [
    {
     "data": {
      "text/plain": [
       "<div aria-label=\"Metascore 90 out of 100\" class=\"c-siteReviewScore u-flexbox-column u-flexbox-alignCenter u-flexbox-justifyCenter g-text-bold c-siteReviewScore_green g-color-gray90 c-siteReviewScore_xsmall\" data-v-e408cafe=\"\" title=\"Metascore 90 out of 100\"><span data-v-e408cafe=\"\">90</span></div>"
      ]
     },
     "execution_count": 102,
     "metadata": {},
     "output_type": "execute_result"
    }
   ],
   "source": [
    "score"
   ]
  },
  {
   "cell_type": "code",
   "execution_count": 103,
   "id": "c999a8a3-fae4-4ed6-b02a-3fbf2ee68808",
   "metadata": {},
   "outputs": [
    {
     "name": "stdout",
     "output_type": "stream",
     "text": [
      "Metascore 90 out of 100\n"
     ]
    }
   ],
   "source": [
    "metascore_text = score.get(\"aria-label\")\n",
    "print(metascore_text)"
   ]
  },
  {
   "cell_type": "code",
   "execution_count": null,
   "id": "64ed4973-4318-471a-acea-4f8f8ab9d089",
   "metadata": {},
   "outputs": [],
   "source": []
  }
 ],
 "metadata": {
  "kernelspec": {
   "display_name": "Python 3 (ipykernel)",
   "language": "python",
   "name": "python3"
  },
  "language_info": {
   "codemirror_mode": {
    "name": "ipython",
    "version": 3
   },
   "file_extension": ".py",
   "mimetype": "text/x-python",
   "name": "python",
   "nbconvert_exporter": "python",
   "pygments_lexer": "ipython3",
   "version": "3.12.7"
  }
 },
 "nbformat": 4,
 "nbformat_minor": 5
}
